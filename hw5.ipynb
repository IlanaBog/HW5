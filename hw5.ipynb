{
 "cells": [
  {
   "cell_type": "markdown",
   "metadata": {},
   "source": [
    "<img align=\"right\" src=\"images/DSApps_logo_small.jpg\">\n",
    "\n",
    "# DSApps 2022 @ TAU: Assignment 5\n",
    "\n",
    "### Giora Simchoni\n",
    "\n",
    "### Network Analysis with NetworkX"
   ]
  },
  {
   "cell_type": "markdown",
   "metadata": {},
   "source": [
    "### Welcome\n",
    "\n",
    "Welcome to Assignment 5 in Python!\n",
    "\n",
    "Remember:\n",
    "\n",
    "* You can play with the assignment in Playground mode, but:\n",
    "* Only your private Github repository assigned to you by the course admin will be cloned and graded (Submission mode, see instructions [here](https://github.com/DSApps-2022/Class_Slides/blob/main/Apps_of_DS_HW.pdf))\n",
    "* Like any other University assignment, your work should remain private\n",
    "* You need to `git clone` your private Github repository locally as explained [here](https://github.com/DSApps-2022/Class_Slides/blob/main/Apps_of_DS_HW.pdf)\n",
    "* You need to uncomment the starter code inside the chunk, replace the `### YOUR CODE HERE ###`, run the chunk and see that you're getting the expected result\n",
    "* Pay attention to what you're asked to do and the required output\n",
    "* For example, using a *different* function than the one you were specifically asked to use, will decrease your score (unless you amaze me)\n",
    "* Your notebook should run smoothly from start to end if someone presses in the Jupyter toolbar Kernel --> Restart & Run All\n",
    "* When you're done save the entire notebook into a html file, this is the file that would be graded\n",
    "* You can add other files but do not delete any files\n",
    "* Commit your work and push to your private Github repository as explained [here](https://github.com/DSApps-2022/Class_Slides/blob/main/Apps_of_DS_HW.pdf)\n",
    "\n",
    "This assignemtnt is due: 24/4 23:59\n",
    "\n",
    "### Libraries\n",
    "\n",
    "These are the libraries you will need. If you don't have them, you need to uncomment the `!pip install` line and install them first (you can also just copy this command to a terminal and do it there if you don't want all the output printed in this notebook)."
   ]
  },
  {
   "cell_type": "code",
   "execution_count": 1,
   "metadata": {},
   "outputs": [
    {
     "name": "stdout",
     "output_type": "stream",
     "text": [
      "Collecting matplotlib\n",
      "  Downloading matplotlib-3.5.1-cp38-cp38-macosx_10_9_x86_64.whl (7.3 MB)\n",
      "\u001b[2K     \u001b[90m━━━━━━━━━━━━━━━━━━━━━━━━━━━━━━━━━━━━━━━━\u001b[0m \u001b[32m7.3/7.3 MB\u001b[0m \u001b[31m13.1 MB/s\u001b[0m eta \u001b[36m0:00:00\u001b[0m00:01\u001b[0m00:01\u001b[0m\n",
      "\u001b[?25hCollecting numpy\n",
      "  Downloading numpy-1.22.3-cp38-cp38-macosx_10_14_x86_64.whl (17.6 MB)\n",
      "\u001b[2K     \u001b[90m━━━━━━━━━━━━━━━━━━━━━━━━━━━━━━━━━━━━━━━━\u001b[0m \u001b[32m17.6/17.6 MB\u001b[0m \u001b[31m23.9 MB/s\u001b[0m eta \u001b[36m0:00:00\u001b[0m00:01\u001b[0m00:01\u001b[0m\n",
      "\u001b[?25hCollecting scipy\n",
      "  Downloading scipy-1.8.0-cp38-cp38-macosx_12_0_universal2.macosx_10_9_x86_64.whl (55.3 MB)\n",
      "\u001b[2K     \u001b[90m━━━━━━━━━━━━━━━━━━━━━━━━━━━━━━━━━━━━━━━━\u001b[0m \u001b[32m55.3/55.3 MB\u001b[0m \u001b[31m20.9 MB/s\u001b[0m eta \u001b[36m0:00:00\u001b[0m00:01\u001b[0m00:01\u001b[0m\n",
      "\u001b[?25hCollecting pandas\n",
      "  Downloading pandas-1.4.2-cp38-cp38-macosx_10_9_x86_64.whl (11.0 MB)\n",
      "\u001b[2K     \u001b[90m━━━━━━━━━━━━━━━━━━━━━━━━━━━━━━━━━━━━━━━━\u001b[0m \u001b[32m11.0/11.0 MB\u001b[0m \u001b[31m32.1 MB/s\u001b[0m eta \u001b[36m0:00:00\u001b[0m00:01\u001b[0m0:01\u001b[0m\n",
      "\u001b[?25hCollecting networkx\n",
      "  Downloading networkx-2.8-py3-none-any.whl (2.0 MB)\n",
      "\u001b[2K     \u001b[90m━━━━━━━━━━━━━━━━━━━━━━━━━━━━━━━━━━━━━━━━\u001b[0m \u001b[32m2.0/2.0 MB\u001b[0m \u001b[31m27.1 MB/s\u001b[0m eta \u001b[36m0:00:00\u001b[0m00:01\u001b[0m00:01\u001b[0m\n",
      "\u001b[?25hCollecting python-louvain\n",
      "  Using cached python-louvain-0.16.tar.gz (204 kB)\n",
      "  Preparing metadata (setup.py) ... \u001b[?25ldone\n",
      "\u001b[?25hCollecting cycler>=0.10\n",
      "  Downloading cycler-0.11.0-py3-none-any.whl (6.4 kB)\n",
      "Requirement already satisfied: python-dateutil>=2.7 in /Library/Frameworks/Python.framework/Versions/3.8/lib/python3.8/site-packages (from matplotlib) (2.8.2)\n",
      "Collecting kiwisolver>=1.0.1\n",
      "  Downloading kiwisolver-1.4.2-cp38-cp38-macosx_10_9_x86_64.whl (65 kB)\n",
      "\u001b[2K     \u001b[90m━━━━━━━━━━━━━━━━━━━━━━━━━━━━━━━━━━━━━━━━\u001b[0m \u001b[32m65.3/65.3 KB\u001b[0m \u001b[31m2.2 MB/s\u001b[0m eta \u001b[36m0:00:00\u001b[0m\n",
      "\u001b[?25hCollecting fonttools>=4.22.0\n",
      "  Downloading fonttools-4.32.0-py3-none-any.whl (900 kB)\n",
      "\u001b[2K     \u001b[90m━━━━━━━━━━━━━━━━━━━━━━━━━━━━━━━━━━━━━━\u001b[0m \u001b[32m900.8/900.8 KB\u001b[0m \u001b[31m34.1 MB/s\u001b[0m eta \u001b[36m0:00:00\u001b[0m\n",
      "\u001b[?25hCollecting pillow>=6.2.0\n",
      "  Downloading Pillow-9.1.0-cp38-cp38-macosx_10_9_x86_64.whl (3.1 MB)\n",
      "\u001b[2K     \u001b[90m━━━━━━━━━━━━━━━━━━━━━━━━━━━━━━━━━━━━━━━━\u001b[0m \u001b[32m3.1/3.1 MB\u001b[0m \u001b[31m27.2 MB/s\u001b[0m eta \u001b[36m0:00:00\u001b[0m00:01\u001b[0m00:01\u001b[0m\n",
      "\u001b[?25hRequirement already satisfied: packaging>=20.0 in /Library/Frameworks/Python.framework/Versions/3.8/lib/python3.8/site-packages (from matplotlib) (21.3)\n",
      "Requirement already satisfied: pyparsing>=2.2.1 in /Library/Frameworks/Python.framework/Versions/3.8/lib/python3.8/site-packages (from matplotlib) (3.0.7)\n",
      "Collecting pytz>=2020.1\n",
      "  Downloading pytz-2022.1-py2.py3-none-any.whl (503 kB)\n",
      "\u001b[2K     \u001b[90m━━━━━━━━━━━━━━━━━━━━━━━━━━━━━━━━━━━━━━\u001b[0m \u001b[32m503.5/503.5 KB\u001b[0m \u001b[31m11.9 MB/s\u001b[0m eta \u001b[36m0:00:00\u001b[0m00:01\u001b[0m\n",
      "\u001b[?25hRequirement already satisfied: six>=1.5 in /Library/Frameworks/Python.framework/Versions/3.8/lib/python3.8/site-packages (from python-dateutil>=2.7->matplotlib) (1.16.0)\n",
      "Building wheels for collected packages: python-louvain\n",
      "  Building wheel for python-louvain (setup.py) ... \u001b[?25ldone\n",
      "\u001b[?25h  Created wheel for python-louvain: filename=python_louvain-0.16-py3-none-any.whl size=9395 sha256=021102bd85dcb943343b2de0472634161d94d4dcfcb3b9545d9f8fd6b2ecf580\n",
      "  Stored in directory: /Users/ilanabogopolsky/Library/Caches/pip/wheels/af/40/91/ef3635f7d3ddbd889b5af9f1ac22b8d30c48d6f744cd74a6d1\n",
      "Successfully built python-louvain\n",
      "Installing collected packages: pytz, pillow, numpy, networkx, kiwisolver, fonttools, cycler, scipy, python-louvain, pandas, matplotlib\n",
      "Successfully installed cycler-0.11.0 fonttools-4.32.0 kiwisolver-1.4.2 matplotlib-3.5.1 networkx-2.8 numpy-1.22.3 pandas-1.4.2 pillow-9.1.0 python-louvain-0.16 pytz-2022.1 scipy-1.8.0\n"
     ]
    }
   ],
   "source": [
    "!pip install matplotlib numpy scipy pandas networkx python-louvain"
   ]
  },
  {
   "cell_type": "code",
   "execution_count": 2,
   "metadata": {},
   "outputs": [],
   "source": [
    "import pandas as pd\n",
    "import numpy as np\n",
    "import matplotlib.pyplot as plt\n",
    "import networkx as nx\n",
    "from collections import defaultdict\n",
    "from itertools import combinations # not mandatory"
   ]
  },
  {
   "cell_type": "markdown",
   "metadata": {},
   "source": [
    "### The Films to Actors 2010s Dataset\n",
    "\n"
   ]
  },
  {
   "cell_type": "markdown",
   "metadata": {},
   "source": [
    "For the first part of the assignment we are going to use the 2010 films actors network we scraped from Wikipedia.\n",
    "\n",
    "For details regarding the network, how it was scraped and possible limitations - see [HW4](https://github.com/DSApps-2020/HW4)."
   ]
  },
  {
   "cell_type": "markdown",
   "metadata": {},
   "source": [
    "Read in the data, it is pretty self explanatory:"
   ]
  },
  {
   "cell_type": "code",
   "execution_count": 3,
   "metadata": {},
   "outputs": [],
   "source": [
    "films_actors_edgelist = pd.read_csv('data/films_actors_edgelist_2010s.csv', usecols=['film', 'actor', 'year'])"
   ]
  },
  {
   "cell_type": "markdown",
   "metadata": {},
   "source": [
    "### Creating the Network\n",
    "\n",
    "##### (0 points)"
   ]
  },
  {
   "cell_type": "markdown",
   "metadata": {},
   "source": [
    "Here we are using `method 2` from HW4 to create the network `A`:"
   ]
  },
  {
   "cell_type": "code",
   "execution_count": 4,
   "metadata": {},
   "outputs": [],
   "source": [
    "def print_network_info(G):\n",
    "    print('no. of nodes: %d' % G.number_of_nodes())\n",
    "    print('no. of edges: %d' % G.number_of_edges())\n",
    "    print('no. of James Franco neighbors: %d' % len(list(G.neighbors('James Franco'))))"
   ]
  },
  {
   "cell_type": "code",
   "execution_count": 231,
   "metadata": {},
   "outputs": [
    {
     "name": "stdout",
     "output_type": "stream",
     "text": [
      "no. of nodes: 4743\n",
      "no. of edges: 39319\n",
      "no. of James Franco neighbors: 107\n"
     ]
    }
   ],
   "source": [
    "A_temp = nx.from_pandas_edgelist(films_actors_edgelist, 'film', 'actor', ['year'])\n",
    "films = films_actors_edgelist['film'].unique()\n",
    "actors = films_actors_edgelist['actor'].unique()\n",
    "\n",
    "A = nx.bipartite.projected_graph(A_temp, actors)\n",
    "\n",
    "print_network_info(A)"
   ]
  },
  {
   "cell_type": "markdown",
   "metadata": {},
   "source": [
    "### Models\n",
    "\n",
    "##### (40 points)"
   ]
  },
  {
   "cell_type": "markdown",
   "metadata": {},
   "source": [
    "**ER Model**"
   ]
  },
  {
   "cell_type": "markdown",
   "metadata": {},
   "source": [
    "Estimate $p$, the probability of an actor collaborating with another actor, according to the ER model:"
   ]
  },
  {
   "cell_type": "code",
   "execution_count": 35,
   "metadata": {},
   "outputs": [
    {
     "data": {
      "text/plain": [
       "0.003496373220834753"
      ]
     },
     "execution_count": 35,
     "metadata": {},
     "output_type": "execute_result"
    }
   ],
   "source": [
    "n = A.number_of_nodes()\n",
    "m = A.number_of_edges()\n",
    "p = m / (n * (n - 1) / 2)\n",
    "p"
   ]
  },
  {
   "cell_type": "markdown",
   "metadata": {},
   "source": [
    "What is the esitmated transitivity of our network according to the ER model? What is the actual transitivity?"
   ]
  },
  {
   "cell_type": "code",
   "execution_count": 78,
   "metadata": {},
   "outputs": [
    {
     "name": "stdout",
     "output_type": "stream",
     "text": [
      "The estimated transitivity is: 0.003496373220834753\n",
      "The actual transitivity is: 0.2500021729087091\n"
     ]
    }
   ],
   "source": [
    "print('The estimated transitivity is:', p)\n",
    "print('The actual transitivity is:', (nx.transitivity(A)))\n"
   ]
  },
  {
   "cell_type": "markdown",
   "metadata": {},
   "source": [
    "What is the estimated diameter of our network according to the ER model? What is the actual diameter? (calculate it on the GCC if needed)"
   ]
  },
  {
   "cell_type": "code",
   "execution_count": 28,
   "metadata": {},
   "outputs": [
    {
     "name": "stdout",
     "output_type": "stream",
     "text": [
      "The estimated diameter is: 3\n",
      "The actual diameter is: 10\n"
     ]
    }
   ],
   "source": [
    "c = (n - 1) * p\n",
    "gcc = max(nx.connected_components(A), key=len)\n",
    "A0 = nx.subgraph(A,gcc)\n",
    "print('The estimated diameter is: %d' % (np.log(n)/np.log(c)))\n",
    "print('The actual diameter is: %d' % (nx.diameter(A0)))\n"
   ]
  },
  {
   "cell_type": "markdown",
   "metadata": {},
   "source": [
    "According to the ER model, at what *stage* of connectedness our network is in? Is it in that stage?"
   ]
  },
  {
   "cell_type": "code",
   "execution_count": 91,
   "metadata": {},
   "outputs": [
    {
     "name": "stdout",
     "output_type": "stream",
     "text": [
      "is np.log(n)<c? True\n",
      "c larger than ln(n), so according to ER model the network is connected. But as we saw in the previous part, the network is not fully connected\n"
     ]
    }
   ],
   "source": [
    "print('is np.log(n)<c?',  np.log(n)<c)\n",
    "\n",
    "print('c larger than ln(n), so according to ER model the network is connected. But as we saw in the previous part, the network is not fully connected')"
   ]
  },
  {
   "cell_type": "markdown",
   "metadata": {},
   "source": [
    "**Power Law Model**"
   ]
  },
  {
   "cell_type": "markdown",
   "metadata": {},
   "source": [
    "Estimate $\\alpha$ and $d_{min}$, the Power Law parameters fitting the actors network. Use the `fit_pl()` function from class in spite of its limitations."
   ]
  },
  {
   "cell_type": "code",
   "execution_count": 84,
   "metadata": {},
   "outputs": [
    {
     "name": "stdout",
     "output_type": "stream",
     "text": [
      "Estimated alpha: 1.43\n",
      "Estimated d_min: 1.00\n"
     ]
    }
   ],
   "source": [
    "def fit_pl(G):\n",
    "  degree_seq = np.array(list(dict(G.degree()).values()))\n",
    "  n = G.number_of_nodes()\n",
    "  d_min = np.min(degree_seq)\n",
    "  if d_min == 0:\n",
    "    d_min = 1\n",
    "    degree_seq = degree_seq[degree_seq >= 1]\n",
    "    n = len(degree_seq)\n",
    "  alpha = 1 + n/np.sum(np.log(degree_seq/d_min))\n",
    "  davg = np.mean(degree_seq)\n",
    "  Ed = d_min * (alpha - 1)/(alpha - 2) if alpha > 2 else np.inf\n",
    "  dvar = np.var(degree_seq)\n",
    "  Ed2 = d_min**2 * (alpha - 1)/(alpha - 3) if alpha > 3 else np.inf\n",
    "  Vd = Ed2 - (Ed)**2 if alpha > 3 else np.inf\n",
    "  return d_min, alpha, davg, Ed, dvar, Vd\n",
    "\n",
    "dmin_A, alpha_A = fit_pl(A)[0:2]\n",
    "print('Estimated alpha: %.2f' % alpha_A)\n",
    "print('Estimated d_min: %.2f' % dmin_A)"
   ]
  },
  {
   "cell_type": "markdown",
   "metadata": {},
   "source": [
    "What is the estimated mean and variance degree of our network according to the PL model?"
   ]
  },
  {
   "cell_type": "code",
   "execution_count": 68,
   "metadata": {
    "scrolled": true
   },
   "outputs": [
    {
     "name": "stdout",
     "output_type": "stream",
     "text": [
      "Estimated mean: inf\n",
      "Estimated variance: 372.95332380469364\n"
     ]
    }
   ],
   "source": [
    "print('Estimated mean:', fit_pl(A)[3])\n",
    "print('Estimated variance:', fit_pl(A)[4])\n"
   ]
  },
  {
   "cell_type": "code",
   "execution_count": null,
   "metadata": {},
   "outputs": [],
   "source": [
    "###### Use the `degree_hist_with_pl_fit()` function from class to plot the fitted PL line on top of the degree histogram of our network (this function can be found at the start of the `u2_d05-models.Rmd` file). Do you \"like\" this fit?"
   ]
  },
  {
   "cell_type": "code",
   "execution_count": 100,
   "metadata": {},
   "outputs": [
    {
     "data": {
      "image/png": "[encoded data removed]",
      "text/plain": [
       "<Figure size 432x288 with 1 Axes>"
      ]
     },
     "metadata": {
      "needs_background": "light"
     },
     "output_type": "display_data"
    }
   ],
   "source": [
    "def degree_hist_with_pl_fit(G, alpha, dmin, xlabel='Degree', ylabel='%Freq or f(d)'):\n",
    "  deg = [deg for node, deg in G.degree()]\n",
    "  N, bins, patches = plt.hist(deg, density=True, bins=range(dmin, min(max(deg), 1000)))\n",
    "  d = bins\n",
    "  f_d = ((alpha-1)/dmin**alpha)*(d/dmin)**(-alpha)\n",
    "  plt.plot(d, f_d, color='red')\n",
    "  res = plt.ylim(0, np.max(N))\n",
    "  plt.xlabel(xlabel, fontsize=16)\n",
    "  plt.ylabel(ylabel, fontsize=16)\n",
    "    \n",
    "    \n",
    "degree_hist_with_pl_fit(A,alpha_A,dmin_A)"
   ]
  },
  {
   "cell_type": "markdown",
   "metadata": {},
   "source": [
    "Use the `degree_hist_with_pl_fit_log_log()` function from class to plot the fitted PL log-log line on top of the log-log degree histogram of our network (this function can be found at the start of the `u2_d05-models.Rmd` file). Do you \"like\" this fit?"
   ]
  },
  {
   "cell_type": "code",
   "execution_count": 101,
   "metadata": {},
   "outputs": [
    {
     "name": "stderr",
     "output_type": "stream",
     "text": [
      "/opt/anaconda3/lib/python3.7/site-packages/ipykernel_launcher.py:7: RuntimeWarning: divide by zero encountered in log\n",
      "  import sys\n"
     ]
    },
    {
     "data": {
      "image/png": "[encoded data removed]",
      "text/plain": [
       "<Figure size 432x288 with 1 Axes>"
      ]
     },
     "metadata": {
      "needs_background": "light"
     },
     "output_type": "display_data"
    }
   ],
   "source": [
    "def degree_hist_with_pl_fit_log_log(G, alpha, dmin, xlabel='log(Degree)', ylabel='log(%Freq) or log(f(d))'):\n",
    "  max_pow = 9\n",
    "  deg = [deg for node, deg in G.degree() if deg > 0]\n",
    "  N, bins = np.histogram(deg, bins = list(np.exp(np.arange(max_pow))))\n",
    "  d = np.exp(np.arange(1, max_pow))\n",
    "  f_d = ((alpha-1)/dmin)*(d/dmin)**(-alpha)\n",
    "  plt.plot(np.arange(1, max_pow), np.log(N/len(deg)), 'bo')\n",
    "  plt.plot(np.arange(1, max_pow), np.log(f_d), color='red')\n",
    "  plt.xlabel(xlabel, fontsize=16)\n",
    "  plt.ylabel(ylabel, fontsize=12)\n",
    "\n",
    "degree_hist_with_pl_fit_log_log(A,alpha_A,dmin_A)"
   ]
  },
  {
   "cell_type": "markdown",
   "metadata": {},
   "source": [
    "### Epidemics Models - the classic approach\n",
    "\n",
    "##### (20 points)"
   ]
  },
  {
   "cell_type": "markdown",
   "metadata": {},
   "source": [
    "* What is the minimum no. of people having a disease to put the entire population at risk?\n",
    "* What is the minimum transfer rate of a disease needed to infect the entire population from a single sick person?\n",
    "* What is the number of people who are expected to die of disease X with transfer rate p?\n",
    "\n",
    "Such questions are the type of questions asked by epidemiologists, but not just. A disease could be a rumor or a piece of Fake News spreading through Whatsapp. A fashion trend on Instagram. Or even a power failure on an electrical grid.\n",
    "\n",
    "In the classic approach to epidemics modeling there is no use of networks at all. In the *fully mixed* model it is assumed that we, the population, are some kind of particles moving in space, equally likely to meet any other person at any given time. This is of course not true in most cases."
   ]
  },
  {
   "cell_type": "markdown",
   "metadata": {},
   "source": [
    "#### The SI Model: S $\\rightarrow$ I"
   ]
  },
  {
   "cell_type": "markdown",
   "metadata": {},
   "source": [
    "In the most basic so-called *compartmental models* of epidemics, the population of $n$ people is divided in two: $S(t)$ which is the number of people *susceptible* to the disease at time $t$ (say day $t$), and $I(t)$ which is the number of people *infected* by the disease at time $t$. So at any given time: $S(t) + I(t) = n$\n",
    "\n",
    "A person has a constant average no. of random contacts at any given time $\\beta$, therefore the transfer rate of the disease is $\\beta I(t)/n$ at time $t$.\n",
    "\n",
    "It is not hard to derive the formula for $I(t)$ at any given time, dependent on $\\beta$ and $I(0)$, which is the number of infected individuals at time $0$. But it does require some calculus out of the scope of this assignment. Let us use the power of Python instead!\n",
    "\n",
    "But before we start: try to anticipate based on your intuition, what would be $I$ after enough $t$ time units have passed?"
   ]
  },
  {
   "cell_type": "markdown",
   "metadata": {},
   "source": [
    "Run the following simulation for a small town of 10,000 people, 10 people are infected on day 0, and let's say the rate of random contacts distributes $Poisson(0.1)$ (on average 0.1 contact per day - very high level of social distancing)."
   ]
  },
  {
   "cell_type": "code",
   "execution_count": 498,
   "metadata": {},
   "outputs": [
    {
     "name": "stdout",
     "output_type": "stream",
     "text": [
      "Day 0: 10 infected, 0.00 transfer rate\n",
      "Day 1: 11 infected, 0.00 transfer rate\n",
      "Day 2: 14 infected, 0.00 transfer rate\n",
      "Day 3: 17 infected, 0.00 transfer rate\n",
      "Day 4: 19 infected, 0.00 transfer rate\n",
      "Day 5: 21 infected, 0.00 transfer rate\n",
      "Day 6: 23 infected, 0.00 transfer rate\n",
      "Day 7: 26 infected, 0.00 transfer rate\n",
      "Day 8: 31 infected, 0.00 transfer rate\n",
      "Day 9: 36 infected, 0.00 transfer rate\n",
      "Day 10: 40 infected, 0.00 transfer rate\n",
      "Day 11: 43 infected, 0.00 transfer rate\n",
      "Day 12: 46 infected, 0.00 transfer rate\n",
      "Day 13: 49 infected, 0.00 transfer rate\n",
      "Day 14: 51 infected, 0.00 transfer rate\n",
      "Day 15: 54 infected, 0.00 transfer rate\n",
      "Day 16: 59 infected, 0.00 transfer rate\n",
      "Day 17: 66 infected, 0.00 transfer rate\n",
      "Day 18: 68 infected, 0.00 transfer rate\n",
      "Day 19: 74 infected, 0.00 transfer rate\n",
      "Day 20: 82 infected, 0.00 transfer rate\n",
      "Day 21: 92 infected, 0.00 transfer rate\n",
      "Day 22: 97 infected, 0.00 transfer rate\n",
      "Day 23: 107 infected, 0.00 transfer rate\n",
      "Day 24: 122 infected, 0.00 transfer rate\n",
      "Day 25: 137 infected, 0.00 transfer rate\n",
      "Day 26: 149 infected, 0.00 transfer rate\n",
      "Day 27: 159 infected, 0.00 transfer rate\n",
      "Day 28: 173 infected, 0.00 transfer rate\n",
      "Day 29: 188 infected, 0.00 transfer rate\n",
      "Day 30: 217 infected, 0.00 transfer rate\n",
      "Day 31: 240 infected, 0.00 transfer rate\n",
      "Day 32: 263 infected, 0.00 transfer rate\n",
      "Day 33: 290 infected, 0.00 transfer rate\n",
      "Day 34: 329 infected, 0.00 transfer rate\n",
      "Day 35: 351 infected, 0.00 transfer rate\n",
      "Day 36: 384 infected, 0.00 transfer rate\n",
      "Day 37: 433 infected, 0.00 transfer rate\n",
      "Day 38: 472 infected, 0.01 transfer rate\n",
      "Day 39: 515 infected, 0.01 transfer rate\n",
      "Day 40: 557 infected, 0.01 transfer rate\n",
      "Day 41: 610 infected, 0.01 transfer rate\n",
      "Day 42: 660 infected, 0.01 transfer rate\n",
      "Day 43: 711 infected, 0.01 transfer rate\n",
      "Day 44: 767 infected, 0.01 transfer rate\n",
      "Day 45: 831 infected, 0.01 transfer rate\n",
      "Day 46: 912 infected, 0.01 transfer rate\n",
      "Day 47: 987 infected, 0.01 transfer rate\n",
      "Day 48: 1082 infected, 0.01 transfer rate\n",
      "Day 49: 1167 infected, 0.01 transfer rate\n",
      "Day 50: 1280 infected, 0.01 transfer rate\n",
      "Day 51: 1387 infected, 0.01 transfer rate\n",
      "Day 52: 1496 infected, 0.02 transfer rate\n",
      "Day 53: 1626 infected, 0.02 transfer rate\n",
      "Day 54: 1776 infected, 0.02 transfer rate\n",
      "Day 55: 1930 infected, 0.02 transfer rate\n",
      "Day 56: 2096 infected, 0.02 transfer rate\n",
      "Day 57: 2277 infected, 0.02 transfer rate\n",
      "Day 58: 2450 infected, 0.03 transfer rate\n",
      "Day 59: 2633 infected, 0.03 transfer rate\n",
      "Day 60: 2850 infected, 0.03 transfer rate\n",
      "Day 61: 3041 infected, 0.03 transfer rate\n",
      "Day 62: 3229 infected, 0.03 transfer rate\n",
      "Day 63: 3423 infected, 0.04 transfer rate\n",
      "Day 64: 3655 infected, 0.04 transfer rate\n",
      "Day 65: 3866 infected, 0.04 transfer rate\n",
      "Day 66: 4078 infected, 0.04 transfer rate\n",
      "Day 67: 4317 infected, 0.05 transfer rate\n",
      "Day 68: 4540 infected, 0.05 transfer rate\n",
      "Day 69: 4775 infected, 0.05 transfer rate\n",
      "Day 70: 5030 infected, 0.05 transfer rate\n",
      "Day 71: 5268 infected, 0.05 transfer rate\n",
      "Day 72: 5483 infected, 0.06 transfer rate\n",
      "Day 73: 5741 infected, 0.06 transfer rate\n",
      "Day 74: 5964 infected, 0.06 transfer rate\n",
      "Day 75: 6172 infected, 0.06 transfer rate\n",
      "Day 76: 6389 infected, 0.07 transfer rate\n",
      "Day 77: 6606 infected, 0.07 transfer rate\n",
      "Day 78: 6845 infected, 0.07 transfer rate\n",
      "Day 79: 7055 infected, 0.07 transfer rate\n",
      "Day 80: 7231 infected, 0.07 transfer rate\n",
      "Day 81: 7427 infected, 0.08 transfer rate\n",
      "Day 82: 7624 infected, 0.08 transfer rate\n",
      "Day 83: 7809 infected, 0.08 transfer rate\n",
      "Day 84: 7978 infected, 0.08 transfer rate\n",
      "Day 85: 8139 infected, 0.08 transfer rate\n",
      "Day 86: 8306 infected, 0.08 transfer rate\n",
      "Day 87: 8455 infected, 0.09 transfer rate\n",
      "Day 88: 8585 infected, 0.09 transfer rate\n",
      "Day 89: 8729 infected, 0.09 transfer rate\n",
      "Day 90: 8826 infected, 0.09 transfer rate\n",
      "Day 91: 8924 infected, 0.09 transfer rate\n",
      "Day 92: 9021 infected, 0.09 transfer rate\n",
      "Day 93: 9116 infected, 0.09 transfer rate\n",
      "Day 94: 9215 infected, 0.09 transfer rate\n",
      "Day 95: 9285 infected, 0.09 transfer rate\n",
      "Day 96: 9345 infected, 0.09 transfer rate\n",
      "Day 97: 9401 infected, 0.09 transfer rate\n",
      "Day 98: 9455 infected, 0.10 transfer rate\n",
      "Day 99: 9503 infected, 0.10 transfer rate\n",
      "Day 100: 9539 infected, 0.10 transfer rate\n",
      "Day 101: 9581 infected, 0.10 transfer rate\n",
      "Day 102: 9627 infected, 0.10 transfer rate\n",
      "Day 103: 9656 infected, 0.10 transfer rate\n",
      "Day 104: 9690 infected, 0.10 transfer rate\n",
      "Day 105: 9719 infected, 0.10 transfer rate\n",
      "Day 106: 9747 infected, 0.10 transfer rate\n",
      "Day 107: 9769 infected, 0.10 transfer rate\n",
      "Day 108: 9789 infected, 0.10 transfer rate\n",
      "Day 109: 9809 infected, 0.10 transfer rate\n",
      "Day 110: 9821 infected, 0.10 transfer rate\n",
      "Day 111: 9836 infected, 0.10 transfer rate\n",
      "Day 112: 9849 infected, 0.10 transfer rate\n",
      "Day 113: 9867 infected, 0.10 transfer rate\n",
      "Day 114: 9873 infected, 0.10 transfer rate\n",
      "Day 115: 9878 infected, 0.10 transfer rate\n",
      "Day 116: 9891 infected, 0.10 transfer rate\n",
      "Day 117: 9899 infected, 0.10 transfer rate\n",
      "Day 118: 9909 infected, 0.10 transfer rate\n",
      "Day 119: 9917 infected, 0.10 transfer rate\n",
      "Day 120: 9921 infected, 0.10 transfer rate\n",
      "Day 121: 9931 infected, 0.10 transfer rate\n",
      "Day 122: 9942 infected, 0.10 transfer rate\n",
      "Day 123: 9946 infected, 0.10 transfer rate\n",
      "Day 124: 9948 infected, 0.10 transfer rate\n",
      "Day 125: 9955 infected, 0.10 transfer rate\n",
      "Day 126: 9961 infected, 0.10 transfer rate\n",
      "Day 127: 9965 infected, 0.10 transfer rate\n",
      "Day 128: 9968 infected, 0.10 transfer rate\n",
      "Day 129: 9970 infected, 0.10 transfer rate\n",
      "Day 130: 9972 infected, 0.10 transfer rate\n",
      "Day 131: 9974 infected, 0.10 transfer rate\n",
      "Day 132: 9977 infected, 0.10 transfer rate\n",
      "Day 133: 9978 infected, 0.10 transfer rate\n",
      "Day 134: 9981 infected, 0.10 transfer rate\n",
      "Day 135: 9983 infected, 0.10 transfer rate\n",
      "Day 136: 9983 infected, 0.10 transfer rate\n",
      "Day 137: 9984 infected, 0.10 transfer rate\n",
      "Day 138: 9985 infected, 0.10 transfer rate\n",
      "Day 139: 9986 infected, 0.10 transfer rate\n",
      "Day 140: 9986 infected, 0.10 transfer rate\n",
      "Day 141: 9986 infected, 0.10 transfer rate\n",
      "Day 142: 9987 infected, 0.10 transfer rate\n",
      "Day 143: 9990 infected, 0.10 transfer rate\n",
      "Day 144: 9990 infected, 0.10 transfer rate\n",
      "Day 145: 9990 infected, 0.10 transfer rate\n",
      "Day 146: 9991 infected, 0.10 transfer rate\n",
      "Day 147: 9992 infected, 0.10 transfer rate\n",
      "Day 148: 9992 infected, 0.10 transfer rate\n",
      "Day 149: 9994 infected, 0.10 transfer rate\n",
      "Day 150: 9995 infected, 0.10 transfer rate\n",
      "Day 151: 9995 infected, 0.10 transfer rate\n",
      "Day 152: 9995 infected, 0.10 transfer rate\n",
      "Day 153: 9997 infected, 0.10 transfer rate\n",
      "Day 154: 9997 infected, 0.10 transfer rate\n",
      "Day 155: 9997 infected, 0.10 transfer rate\n",
      "Day 156: 9998 infected, 0.10 transfer rate\n",
      "Day 157: 9999 infected, 0.10 transfer rate\n",
      "Day 158: 9999 infected, 0.10 transfer rate\n",
      "Day 159: 9999 infected, 0.10 transfer rate\n",
      "Day 160: 9999 infected, 0.10 transfer rate\n",
      "Day 161: 9999 infected, 0.10 transfer rate\n",
      "Day 162: 9999 infected, 0.10 transfer rate\n",
      "Day 163: 9999 infected, 0.10 transfer rate\n",
      "Day 164: 9999 infected, 0.10 transfer rate\n",
      "Day 165: 9999 infected, 0.10 transfer rate\n",
      "Day 166: 9999 infected, 0.10 transfer rate\n",
      "Day 167: 9999 infected, 0.10 transfer rate\n",
      "Day 168: 9999 infected, 0.10 transfer rate\n",
      "Day 169: 9999 infected, 0.10 transfer rate\n",
      "Day 170: 9999 infected, 0.10 transfer rate\n",
      "Day 171: 9999 infected, 0.10 transfer rate\n",
      "Day 172: 9999 infected, 0.10 transfer rate\n",
      "Day 173: 9999 infected, 0.10 transfer rate\n",
      "Day 174: 9999 infected, 0.10 transfer rate\n",
      "Day 175: 9999 infected, 0.10 transfer rate\n",
      "Day 176: 9999 infected, 0.10 transfer rate\n",
      "Day 177: 9999 infected, 0.10 transfer rate\n",
      "Day 178: 9999 infected, 0.10 transfer rate\n",
      "Day 179: 9999 infected, 0.10 transfer rate\n",
      "Day 180: 9999 infected, 0.10 transfer rate\n",
      "Done.\n"
     ]
    }
   ],
   "source": [
    "n = 10000\n",
    "I0 = 10\n",
    "beta = 0.1\n",
    "I = [I0]\n",
    "population = np.zeros(n)\n",
    "population[np.arange(I0)] = 1\n",
    "t = 0\n",
    "phi0 = I0/n\n",
    "phi = [phi0]\n",
    "Idiff = []\n",
    "while True:\n",
    "    for i in range(int(I[t])):\n",
    "        beta_i = np.random.poisson(beta, size=1)[0]\n",
    "        met = np.random.choice(n, size=beta_i, replace=False)\n",
    "        population[met] = 1\n",
    "        if np.sum(population) == n:\n",
    "            break\n",
    "    It = np.sum(population)\n",
    "    I.append(It)\n",
    "    Idiff.append(I[t + 1] - I[t])\n",
    "    print('Day %d: %d infected, %.2f transfer rate' % (t, I[t], beta * It / n))\n",
    "    phi.append(It/n)\n",
    "    t += 1\n",
    "    if np.isclose(It,n):\n",
    "        print('Done.')\n",
    "        break"
   ]
  },
  {
   "cell_type": "markdown",
   "metadata": {},
   "source": [
    "So after..."
   ]
  },
  {
   "cell_type": "code",
   "execution_count": 499,
   "metadata": {},
   "outputs": [
    {
     "data": {
      "text/plain": [
       "181"
      ]
     },
     "execution_count": 499,
     "metadata": {},
     "output_type": "execute_result"
    }
   ],
   "source": [
    "t"
   ]
  },
  {
   "cell_type": "markdown",
   "metadata": {},
   "source": [
    "...days, the entire town is infected (and much less if we look at say 90% of town).\n",
    "\n",
    "Look at the $I(t)$ vs. $t$ graph. We'll also add in the theoretical $I(t)$ exponential growth curve which comes from solving a simple differential equation, out of this assignment scope:"
   ]
  },
  {
   "cell_type": "code",
   "execution_count": 500,
   "metadata": {},
   "outputs": [
    {
     "data": {
      "image/png": "[encoded data removed]",
      "text/plain": [
       "<Figure size 720x1080 with 1 Axes>"
      ]
     },
     "metadata": {
      "needs_background": "light"
     },
     "output_type": "display_data"
    }
   ],
   "source": [
    "ts = np.arange(t + 1)\n",
    "I_theoretical = (n * I0 * np.exp(beta * ts)) / (n - I0 + I0 * np.exp(beta * ts))\n",
    "\n",
    "plt.plot(ts, I, label = 'simulation')\n",
    "plt.plot(ts, I_theoretical, color = 'red', label = 'theoretical')\n",
    "plt.legend()\n",
    "plt.show()"
   ]
  },
  {
   "cell_type": "markdown",
   "metadata": {},
   "source": [
    "Question: about 10% of infected individuals need ventilators (say \"forever\") and the local hospital has 10 of these at best. On what day will the local hospital run out of ventilators? [Not a tricky question, do not over analyze it]"
   ]
  },
  {
   "cell_type": "code",
   "execution_count": 501,
   "metadata": {},
   "outputs": [
    {
     "name": "stdout",
     "output_type": "stream",
     "text": [
      "The local hospital run out of ventilators on the 22-th day\n"
     ]
    }
   ],
   "source": [
    "print('The local hospital run out of ventilators on the %d-th day' % np.interp(100,I,ts))"
   ]
  },
  {
   "cell_type": "markdown",
   "metadata": {},
   "source": [
    "It's also interesting to see the derivative of this graph, which means the no. of *new* infected individuals each day:"
   ]
  },
  {
   "cell_type": "code",
   "execution_count": 502,
   "metadata": {},
   "outputs": [
    {
     "data": {
      "image/png": "[encoded data removed]",
      "text/plain": [
       "<Figure size 720x1080 with 1 Axes>"
      ]
     },
     "metadata": {
      "needs_background": "light"
     },
     "output_type": "display_data"
    }
   ],
   "source": [
    "Idiff_theoretical = beta * np.array(I[:-1]) * (n - np.array(I[:-1]))/n\n",
    "\n",
    "plt.plot(np.arange(t), Idiff, label = 'simulation')\n",
    "plt.plot(np.arange(t), Idiff_theoretical, color='red', label = 'theoretical')\n",
    "plt.legend()\n",
    "plt.show()"
   ]
  },
  {
   "cell_type": "markdown",
   "metadata": {},
   "source": [
    "Question: the local hospital daily intake capacity is 100 new patients at best. On what day will the local hospital maximize its intake capacity? [Not a tricky question, do not over analyze it]"
   ]
  },
  {
   "cell_type": "code",
   "execution_count": 534,
   "metadata": {},
   "outputs": [
    {
     "name": "stdout",
     "output_type": "stream",
     "text": [
      "The local hospital maximize its intake capacity on the 49-th day\n"
     ]
    }
   ],
   "source": [
    "test = pd.DataFrame({\"Idiff\":Idiff})\n",
    "print('The local hospital maximize its intake capacity on the %d-th day' % test[test['Idiff'] >= 100].index[0]) "
   ]
  },
  {
   "cell_type": "markdown",
   "metadata": {},
   "source": [
    "Write a function `SI(n, I0, beta)` which takes:\n",
    "* `n` population size\n",
    "* `I0` number of infected individuals at time `t`\n",
    "* `beta`, the average rate of random contacts\n",
    "\n",
    "and returns:\n",
    "* `t` no. of days until entire town is infected\n",
    "* `I` the list of daily total infected individuals\n",
    "* `Idiff` the list of daily new infected individuals\n",
    "\n",
    "[yes, you basically need to copy paste]"
   ]
  },
  {
   "cell_type": "code",
   "execution_count": 137,
   "metadata": {},
   "outputs": [],
   "source": [
    "def SI(n,I0,beta):\n",
    "    I = [I0]\n",
    "    population = np.zeros(n)\n",
    "    population[np.arange(I0)] = 1\n",
    "    t = 0\n",
    "    phi0 = I0/n\n",
    "    phi = [phi0]\n",
    "    Idiff = []\n",
    "    while True:\n",
    "        for i in range(int(I[t])):\n",
    "            beta_i = np.random.poisson(beta, size=1)[0]\n",
    "            met = np.random.choice(n, size=beta_i, replace=False)\n",
    "            population[met] = 1\n",
    "            if np.sum(population) == n:\n",
    "                break\n",
    "        It = np.sum(population)\n",
    "        I.append(It)\n",
    "        Idiff.append(I[t + 1] - I[t])\n",
    "        phi.append(It/n)\n",
    "        t += 1\n",
    "        if np.isclose(It,n):\n",
    "            break\n",
    "    return (t,I,Idiff)\n",
    "    "
   ]
  },
  {
   "cell_type": "markdown",
   "metadata": {},
   "source": [
    "Run this function for our small town, keep `I0` at 1 infected individual, but change `beta` to be in `[0.1, 1, 2, 10]`.\n",
    "\n",
    "Plot $I(t)$ vs. $t$ for the 4 simulations on the same graph:"
   ]
  },
  {
   "cell_type": "code",
   "execution_count": 143,
   "metadata": {},
   "outputs": [
    {
     "data": {
      "image/png": "[encoded data removed]",
      "text/plain": [
       "<Figure size 432x288 with 1 Axes>"
      ]
     },
     "metadata": {
      "needs_background": "light"
     },
     "output_type": "display_data"
    }
   ],
   "source": [
    "t01, I_01 = SI(10000,10,0.1)[0:2]\n",
    "t1, I_1 = SI(10000,1,1)[0:2]\n",
    "t2, I_2 = SI(10000,1,2)[0:2]\n",
    "t10, I_10 = SI(10000,1,10)[0:2]\n",
    "\n",
    "plt.plot(np.arange(t01 + 1), I_01 ,color=\"pink\", label = 'beta=0.1')\n",
    "plt.plot(np.arange(t1 + 1), I_1, color=\"green\", label = 'beta=1')\n",
    "plt.plot(np.arange(t2 + 1), I_2 ,color='red', label = 'beta=2')\n",
    "plt.plot(np.arange(t10 + 1), I_10 , label = 'beta=10')\n",
    "\n",
    "plt.legend()\n",
    "plt.show()"
   ]
  },
  {
   "cell_type": "markdown",
   "metadata": {},
   "source": [
    "As you might have guessed, in the SI model everyone will be infected eventually **at the same time**. The only question is when, and unless $\\beta$, the no. of random contacts is extremely small (0.1 means meeting one person every 10 days!), this will happen lightning fast."
   ]
  },
  {
   "cell_type": "markdown",
   "metadata": {},
   "source": [
    "#### The SIR Model: S $\\rightarrow$ I $\\rightarrow$ R"
   ]
  },
  {
   "cell_type": "markdown",
   "metadata": {},
   "source": [
    "There are many non-realistic assumptions under the SI model's hood, e.g.:\n",
    "* no differentiation between being exposed, being infected and being ill\n",
    "* same level of susceptibility, same level of infectiveness\n",
    "* no treatment of immunization\n",
    "* no treatment of birth and mortality\n",
    "* assuming only one disease\n",
    "* assuming constant contact rate\n",
    "\n",
    "But perhaps the most striking one is that **there is no chance of recovery**.\n",
    "\n",
    "The SIR model presents another compartment, $R(t)$ which is the number of people *recovered* at time $t$, so: $S(t) + I(t) + R(t)= n$. And note: recovered also means *immuned* (or dead...), these people **cannot** become infected again.\n",
    "\n",
    "Additional recovery rate is needed, and it is $\\gamma$, the average no. of recovered individuals at a time unit (say day), so if it distributes $Poisson(\\gamma)$, then the time until recovery distributes exponentially with $1/\\gamma$ days until recovery on average (again unrealistic)."
   ]
  },
  {
   "cell_type": "markdown",
   "metadata": {},
   "source": [
    "Run the following simulation for our small town of 10,000 people. Now, 1 person is infected on day 0. The rate of random contacts $\\beta$ distributes $Poisson(1)$ (on average 1 contact per day). In addition, let's say the rate of recovery $\\gamma$ distributes $Poisson(0.1)$ (so time until recovery distributes $Exp(0.1)$, and average time until recovery is 10 days)."
   ]
  },
  {
   "cell_type": "code",
   "execution_count": 76,
   "metadata": {},
   "outputs": [
    {
     "name": "stdout",
     "output_type": "stream",
     "text": [
      "Day 0: 1 infected, 0 recovered\n",
      "Day 1: 1 infected, 0 recovered\n",
      "Day 2: 4 infected, 0 recovered\n",
      "Day 3: 8 infected, 0 recovered\n",
      "Day 4: 17 infected, 0 recovered\n",
      "Day 5: 35 infected, 0 recovered\n",
      "Day 6: 55 infected, 6 recovered\n",
      "Day 7: 115 infected, 6 recovered\n",
      "Day 8: 217 infected, 15 recovered\n",
      "Day 9: 421 infected, 33 recovered\n",
      "Day 10: 747 infected, 79 recovered\n",
      "Day 11: 1325 infected, 158 recovered\n",
      "Day 12: 2183 infected, 307 recovered\n",
      "Day 13: 3434 infected, 533 recovered\n",
      "Day 14: 4885 infected, 832 recovered\n",
      "Day 15: 6112 infected, 1264 recovered\n",
      "Day 16: 6790 infected, 1820 recovered\n",
      "Day 17: 6761 infected, 2487 recovered\n",
      "Day 18: 6494 infected, 3114 recovered\n",
      "Day 19: 6061 infected, 3729 recovered\n",
      "Day 20: 5600 infected, 4295 recovered\n",
      "Day 21: 5087 infected, 4848 recovered\n",
      "Day 22: 4615 infected, 5346 recovered\n",
      "Day 23: 4209 infected, 5764 recovered\n",
      "Day 24: 3847 infected, 6136 recovered\n",
      "Day 25: 3431 infected, 6562 recovered\n",
      "Day 26: 3104 infected, 6892 recovered\n",
      "Day 27: 2798 infected, 7198 recovered\n",
      "Day 28: 2529 infected, 7468 recovered\n",
      "Day 29: 2319 infected, 7680 recovered\n",
      "Day 30: 2123 infected, 7876 recovered\n",
      "Day 31: 1906 infected, 8093 recovered\n",
      "Day 32: 1685 infected, 8314 recovered\n",
      "Day 33: 1518 infected, 8481 recovered\n",
      "Day 34: 1385 infected, 8615 recovered\n",
      "Day 35: 1235 infected, 8765 recovered\n",
      "Day 36: 1121 infected, 8879 recovered\n",
      "Day 37: 1028 infected, 8972 recovered\n",
      "Day 38: 932 infected, 9068 recovered\n",
      "Day 39: 859 infected, 9141 recovered\n",
      "Day 40: 781 infected, 9219 recovered\n",
      "Day 41: 683 infected, 9317 recovered\n",
      "Day 42: 627 infected, 9373 recovered\n",
      "Day 43: 564 infected, 9436 recovered\n",
      "Day 44: 512 infected, 9488 recovered\n",
      "Day 45: 450 infected, 9550 recovered\n",
      "Day 46: 405 infected, 9595 recovered\n",
      "Day 47: 371 infected, 9629 recovered\n",
      "Day 48: 332 infected, 9668 recovered\n",
      "Day 49: 295 infected, 9705 recovered\n",
      "Day 50: 273 infected, 9727 recovered\n",
      "Day 51: 239 infected, 9761 recovered\n",
      "Day 52: 218 infected, 9782 recovered\n",
      "Day 53: 201 infected, 9799 recovered\n",
      "Day 54: 182 infected, 9818 recovered\n",
      "Day 55: 162 infected, 9838 recovered\n",
      "Day 56: 149 infected, 9851 recovered\n",
      "Day 57: 132 infected, 9868 recovered\n",
      "Day 58: 119 infected, 9881 recovered\n",
      "Day 59: 111 infected, 9889 recovered\n",
      "Day 60: 94 infected, 9906 recovered\n",
      "Day 61: 87 infected, 9913 recovered\n",
      "Day 62: 84 infected, 9916 recovered\n",
      "Day 63: 72 infected, 9928 recovered\n",
      "Day 64: 62 infected, 9938 recovered\n",
      "Day 65: 55 infected, 9945 recovered\n",
      "Day 66: 43 infected, 9957 recovered\n",
      "Day 67: 36 infected, 9964 recovered\n",
      "Day 68: 35 infected, 9965 recovered\n",
      "Day 69: 31 infected, 9969 recovered\n",
      "Day 70: 29 infected, 9971 recovered\n",
      "Day 71: 27 infected, 9973 recovered\n",
      "Day 72: 22 infected, 9978 recovered\n",
      "Day 73: 21 infected, 9979 recovered\n",
      "Day 74: 21 infected, 9979 recovered\n",
      "Day 75: 19 infected, 9981 recovered\n",
      "Day 76: 19 infected, 9981 recovered\n",
      "Day 77: 18 infected, 9982 recovered\n",
      "Day 78: 17 infected, 9983 recovered\n",
      "Day 79: 17 infected, 9983 recovered\n",
      "Day 80: 15 infected, 9985 recovered\n",
      "Day 81: 14 infected, 9986 recovered\n",
      "Day 82: 14 infected, 9986 recovered\n",
      "Day 83: 10 infected, 9990 recovered\n",
      "Day 84: 7 infected, 9993 recovered\n",
      "Day 85: 6 infected, 9994 recovered\n",
      "Day 86: 6 infected, 9994 recovered\n",
      "Day 87: 5 infected, 9995 recovered\n",
      "Done.\n"
     ]
    }
   ],
   "source": [
    "n = 10000\n",
    "I0 = 1\n",
    "beta = 1\n",
    "gamma = 0.1\n",
    "infected_times = np.repeat(None, n)\n",
    "times_to_recovery = np.repeat(None, n)\n",
    "infected_times[np.arange(I0)] = -1\n",
    "times_to_recovery[np.arange(I0)] = 1/gamma\n",
    "infected = np.arange(I0)\n",
    "recovered = np.array([])\n",
    "t = 0\n",
    "I = [I0]\n",
    "Idiff = []\n",
    "R = [0]\n",
    "S = [n - len(infected)]\n",
    "while len(infected) > 0:\n",
    "    for i in infected:\n",
    "        beta_i = np.random.poisson(beta, size=1)[0]\n",
    "        met = np.random.choice(n, size=beta_i, replace=False)\n",
    "        met = met[(~np.isin(met, infected)) & (~np.isin(met, recovered))]\n",
    "        if len(met) > 0:\n",
    "            infected = np.append(infected, met)\n",
    "            infected_times[met] = t\n",
    "            times_to_recovery[met] = np.random.exponential(1/gamma, size=len(met))[0]\n",
    "        if t - infected_times[i] > times_to_recovery[i]:\n",
    "            infected = infected[infected != i]\n",
    "            recovered = np.append(recovered, i)\n",
    "        if len(recovered) == n:\n",
    "            break\n",
    "    I.append(len(infected))\n",
    "    Idiff.append(I[t + 1] - I[t])\n",
    "    R.append(len(recovered))\n",
    "    S.append(n - (I[t] + R[t]))\n",
    "    print('Day %d: %d infected, %d recovered' % (t, I[t], R[t]))\n",
    "    t += 1\n",
    "    if np.isclose(len(recovered), n, atol=3):\n",
    "        break\n",
    "print('Done.')\n",
    "        \n",
    "    "
   ]
  },
  {
   "cell_type": "markdown",
   "metadata": {},
   "source": [
    "So after..."
   ]
  },
  {
   "cell_type": "code",
   "execution_count": 110,
   "metadata": {},
   "outputs": [
    {
     "data": {
      "text/plain": [
       "88"
      ]
     },
     "execution_count": 110,
     "metadata": {},
     "output_type": "execute_result"
    }
   ],
   "source": [
    "t"
   ]
  },
  {
   "cell_type": "markdown",
   "metadata": {},
   "source": [
    "...days, the entire town is recovered after it had been infected (and much less if we look at say 90% of town).\n",
    "\n",
    "Look at the $S(I),I(t),R(I)$ vs. $t$ graph."
   ]
  },
  {
   "cell_type": "code",
   "execution_count": 111,
   "metadata": {},
   "outputs": [
    {
     "data": {
      "image/png": "[encoded data removed]",
      "text/plain": [
       "<Figure size 432x288 with 1 Axes>"
      ]
     },
     "metadata": {
      "needs_background": "light"
     },
     "output_type": "display_data"
    }
   ],
   "source": [
    "ts = np.arange(t + 1)\n",
    "\n",
    "plt.plot(ts, I, label = 'infected')\n",
    "plt.plot(ts, R, label = 'recovered')\n",
    "plt.plot(ts, S, label = 'susceptible')\n",
    "plt.legend()\n",
    "plt.show()"
   ]
  },
  {
   "cell_type": "markdown",
   "metadata": {},
   "source": [
    "It's also interesting to see the derivative of the $I(t)$ graph, which means the difference in infected individuals each day:"
   ]
  },
  {
   "cell_type": "code",
   "execution_count": 112,
   "metadata": {},
   "outputs": [
    {
     "data": {
      "image/png": "[encoded data removed]",
      "text/plain": [
       "<Figure size 432x288 with 1 Axes>"
      ]
     },
     "metadata": {
      "needs_background": "light"
     },
     "output_type": "display_data"
    }
   ],
   "source": [
    "Idiff_theoretical = beta * np.array(I[:-1]) * (n - np.array(I[:-1]) - np.array(R[:-1]))/n - gamma * np.array(I[:-1])\n",
    "\n",
    "plt.plot(np.arange(t), Idiff, label = 'simulation')\n",
    "plt.plot(np.arange(t), Idiff_theoretical, color='red', label = 'theoretical')\n",
    "plt.legend()\n",
    "plt.show()"
   ]
  },
  {
   "cell_type": "markdown",
   "metadata": {},
   "source": [
    "Notice that in the SIR model, **using these parameters**, the entire town population got infected as well.\n",
    "\n",
    "But the SIR model gives some hope in containing the disease if it breaks, a.k.a \"Flattening the Curve\", which is achieved by lowering $\\beta$, the average rate of random contacts."
   ]
  },
  {
   "cell_type": "markdown",
   "metadata": {},
   "source": [
    "Write a function `SIR(n, I0, beta, gamma)` which takes:\n",
    "* `n` population size\n",
    "* `I0` number of infected individuals at time `t`\n",
    "* `beta`, the average rate of random contacts\n",
    "* `gamma`, the average rate of recovered people\n",
    "\n",
    "and returns:\n",
    "* `t` no. of days until entire town is infected\n",
    "* `I` the list of daily total infected individuals\n",
    "* `Idiff` the list of daily difference in infected individuals\n",
    "* `S` the list of daily total susceptible individuals\n",
    "* `R` the list of daily total recovered individuals\n",
    "\n",
    "[yes, you basically need to copy paste]"
   ]
  },
  {
   "cell_type": "code",
   "execution_count": 296,
   "metadata": {},
   "outputs": [],
   "source": [
    "def SIR(n, I0, beta, gamma):\n",
    "    infected_times = np.repeat(None, n)\n",
    "    times_to_recovery = np.repeat(None, n)\n",
    "    infected_times[np.arange(I0)] = -1\n",
    "    times_to_recovery[np.arange(I0)] = 1/gamma\n",
    "    infected = np.arange(I0)\n",
    "    recovered = np.array([])\n",
    "    t = 0\n",
    "    I = [I0]\n",
    "    Idiff = []\n",
    "    R = [0]\n",
    "    S = [n - len(infected)]\n",
    "    while len(infected) > 0:\n",
    "        for i in infected:\n",
    "            beta_i = np.random.poisson(beta, size=1)[0]\n",
    "            met = np.random.choice(n, size=beta_i, replace=False)\n",
    "            met = met[(~np.isin(met, infected)) & (~np.isin(met, recovered))]\n",
    "            if len(met) > 0:\n",
    "                infected = np.append(infected, met)\n",
    "                infected_times[met] = t\n",
    "                times_to_recovery[met] = np.random.exponential(1/gamma, size=len(met))[0]\n",
    "            if t - infected_times[i] > times_to_recovery[i]:\n",
    "                infected = infected[infected != i]\n",
    "                recovered = np.append(recovered, i)\n",
    "            if len(recovered) == n:\n",
    "                break\n",
    "        I.append(len(infected))\n",
    "        Idiff.append(I[t + 1] - I[t])\n",
    "        R.append(len(recovered))\n",
    "        S.append(n - (I[t] + R[t]))\n",
    "        t += 1\n",
    "        if np.isclose(len(recovered), n, atol=3):\n",
    "            break\n",
    "    return (t, I , S, R, Idiff)"
   ]
  },
  {
   "cell_type": "markdown",
   "metadata": {},
   "source": [
    "Now run the simulation a few times with the same parameters, except $\\beta$ is lowered to 0.5 (one contact every two days). Then plot the SIR curves as we did."
   ]
  },
  {
   "cell_type": "code",
   "execution_count": 297,
   "metadata": {},
   "outputs": [
    {
     "data": {
      "image/png": "[encoded data removed]",
      "text/plain": [
       "<Figure size 432x288 with 1 Axes>"
      ]
     },
     "metadata": {
      "needs_background": "light"
     },
     "output_type": "display_data"
    }
   ],
   "source": [
    "t,I,S,R = SIR(10000,1,0.5,0.1)[0:4]\n",
    "ts = np.arange(t + 1)\n",
    "\n",
    "plt.plot(ts, I, label = 'infected')\n",
    "plt.plot(ts, R, label = 'recovered')\n",
    "plt.plot(ts, S, label = 'susceptible')\n",
    "plt.legend()\n",
    "plt.show()"
   ]
  },
  {
   "cell_type": "markdown",
   "metadata": {},
   "source": [
    "As you can see the $I(t)$ curve is indeed \"flattened\", though the entire town caught the disease eventually."
   ]
  },
  {
   "cell_type": "code",
   "execution_count": null,
   "metadata": {},
   "outputs": [],
   "source": [
    "# Must the disease outbreak? Must the entire population get infected?\n",
    "\n",
    "Run the simulation with $\\beta$ lowered to 0.1, and plot the SIR curves. Run it a few times to see how the outcome varies and consider not drawing the $S(I)$ curve to see the effect."
   ]
  },
  {
   "cell_type": "code",
   "execution_count": 300,
   "metadata": {},
   "outputs": [
    {
     "data": {
      "image/png": "[encoded data removed]",
      "text/plain": [
       "<Figure size 432x288 with 1 Axes>"
      ]
     },
     "metadata": {
      "needs_background": "light"
     },
     "output_type": "display_data"
    }
   ],
   "source": [
    "t,I,S,R = SIR(10000,1,0.1,0.1)[0:4]\n",
    "ts1 = np.arange(t + 1)\n",
    "\n",
    "plt.plot(ts1, I, label = 'infected')\n",
    "plt.plot(ts1, R, label = 'recovered')\n",
    "plt.legend()\n",
    "plt.show()"
   ]
  },
  {
   "cell_type": "markdown",
   "metadata": {},
   "source": [
    "As you can see by the SIR model, the epidemic might not outbreak at all if the rate of contacts is low enough and the rate of recovery is high enough. And if you play with the parameters you would see that even when the disease *does* take off, not all people in town might get it.\n",
    "\n",
    "The $\\beta/\\gamma$ ratio is the critical point, irrelative of population size, and is sometimes called the Basic Reproduction Number. It can be seen as the number of people an infected person will infect until she recovers. If it is over 1 the epidemic will outbreak, and if it is less than 1 it should not. Read about it [here](https://en.wikipedia.org/wiki/Compartmental_models_in_epidemiology#The_SIR_model_without_vital_dynamics) (short) or [here](https://web.stanford.edu/~jhj1/teachingdocs/Jones-on-R0.pdf) (long).\n",
    "\n",
    "Lastly note that this is just the beginning. There are various other epidemics models (SIS, SEIR, SEIS, to drop-name a few). Read all about it."
   ]
  },
  {
   "cell_type": "markdown",
   "metadata": {},
   "source": [
    "### Epidemics Models - on Networks\n",
    "\n",
    "##### (30 points)"
   ]
  },
  {
   "cell_type": "markdown",
   "metadata": {},
   "source": [
    "Think about why an epidemic outbreak might be different when we consider the population has a network structure (as opposed to the fully mixed model above).\n",
    "\n",
    "* A network might not be fully connected. So even in the pessimistic SI model an epidemic might not occur, depending on how well connected are the initial infected individuals.\n",
    "* In general there would be variation in the level of spreading the disease. We expect the more connected a person is, the higher her rate of spreading the disease.\n",
    "* If a network isn't dynamic, and each person stays connected to the same neighorhood - if that person is infected she will have depleted her potential of infecting other people on her neighborhood. She won't go on infecting forever.\n",
    "* Finally even within networks we've seen different models for different structures. A network's structure could serve to impact the rate of infection, not just the nature of disease. How will an epidemic outbreak look like for a ER model network? How will it look like for a Power Law model network? What is the best network structure to slow down a disease?"
   ]
  },
  {
   "cell_type": "markdown",
   "metadata": {},
   "source": [
    "#### SI Model on the Films Actors Network"
   ]
  },
  {
   "cell_type": "markdown",
   "metadata": {},
   "source": [
    "First, when we speak of epidemic models on networks, many conventions remain the same, one main convention changes: the $\\beta$ parameter. Here, the $\\beta$ parameter will be the infection *probability* between an infected and a susceptible neighbors (as opposed to the general infection *rate* previously). Let's also assume it is a fixed probability, i.e. not a random variable as before.\n",
    "\n",
    "And now I want you to start a SI epidemic on our films actors :) Kidding aside I want you to see the effect of degree a node has on the rate it will catch a disease."
   ]
  },
  {
   "cell_type": "markdown",
   "metadata": {},
   "source": [
    "Write a function `SI_network(G, beta, node_zero)` which will receive 3 parameters:\n",
    "* `G` a NetworkX Graph()\n",
    "* `beta` infection probability\n",
    "* `node_zero` name of node (actor or actress) zero, who initially got infected\n",
    "\n",
    "and return:\n",
    "* `t` no. of days until the epidemic saturated, i.e. there was no change in no. of infected for 5 consecutive days (and you may assume `max(t) = 1000`\n",
    "* `I` the list of daily total infected nodes (actors)\n",
    "* `infected_time`: a <string: int> dictionary mapping a node (actor) to time `t` in which it got infected (if a node was not infected put `None`)"
   ]
  },
  {
   "cell_type": "code",
   "execution_count": 545,
   "metadata": {},
   "outputs": [],
   "source": [
    "def SI_network(G, beta, node_zero):\n",
    "    t=1\n",
    "    I=[]\n",
    "    I.append(1)\n",
    "    infected_time= {}\n",
    "    infected_time[node_zero]=0  \n",
    "    counter=0   \n",
    "    while t<=1000:\n",
    "        c=0\n",
    "        infected=[]\n",
    "        for i in infected_time.keys():\n",
    "            mask = np.random.binomial(1, beta, len(list(G.neighbors(i))))\n",
    "            for r in [elem for keep, elem in zip(mask,list(G.neighbors(i))) if keep]:\n",
    "                infected.append(r)\n",
    "        for n in infected:\n",
    "            if n not in infected_time.keys():\n",
    "                infected_time[n]=t\n",
    "                c+=1      \n",
    "        I.append(c+(I[t-1]))\n",
    "        if len(infected_time)== G.number_of_nodes():\n",
    "            break\n",
    "        if c==0:\n",
    "            counter+=1\n",
    "            if counter==5:\n",
    "                break\n",
    "        else:\n",
    "            counter=0\n",
    "        t+=1\n",
    "    for actor in G.nodes():\n",
    "        if actor not in infected_time.keys():\n",
    "            infected_time[actor]=None   \n",
    "    return (t,I,infected_time)\n",
    "                    \n",
    "        "
   ]
  },
  {
   "cell_type": "markdown",
   "metadata": {},
   "source": [
    "Run a SI simulation on the films actors network, with infection probability 0.1 and James Franco got infected."
   ]
  },
  {
   "cell_type": "code",
   "execution_count": 546,
   "metadata": {},
   "outputs": [
    {
     "data": {
      "text/plain": [
       "(55,\n",
       " [1,\n",
       "  10,\n",
       "  51,\n",
       "  260,\n",
       "  934,\n",
       "  1977,\n",
       "  2778,\n",
       "  3276,\n",
       "  3567,\n",
       "  3795,\n",
       "  3951,\n",
       "  4045,\n",
       "  4123,\n",
       "  4175,\n",
       "  4206,\n",
       "  4238,\n",
       "  4263,\n",
       "  4285,\n",
       "  4304,\n",
       "  4311,\n",
       "  4322,\n",
       "  4335,\n",
       "  4341,\n",
       "  4345,\n",
       "  4350,\n",
       "  4354,\n",
       "  4358,\n",
       "  4362,\n",
       "  4364,\n",
       "  4366,\n",
       "  4368,\n",
       "  4370,\n",
       "  4372,\n",
       "  4374,\n",
       "  4375,\n",
       "  4376,\n",
       "  4378,\n",
       "  4379,\n",
       "  4380,\n",
       "  4382,\n",
       "  4383,\n",
       "  4383,\n",
       "  4384,\n",
       "  4385,\n",
       "  4385,\n",
       "  4386,\n",
       "  4387,\n",
       "  4387,\n",
       "  4387,\n",
       "  4387,\n",
       "  4388,\n",
       "  4388,\n",
       "  4388,\n",
       "  4388,\n",
       "  4388,\n",
       "  4388],\n",
       " {'James Franco': 0,\n",
       "  'Natalie Portman': 1,\n",
       "  'Ray Liotta': 1,\n",
       "  'Brian Cox': 1,\n",
       "  'Omar Sy': 1,\n",
       "  'Katherine Waterston': 1,\n",
       "  'Michelle Williams': 1,\n",
       "  'Sharon Stone': 1,\n",
       "  'Diane Farr': 1,\n",
       "  'Zachary Quinto': 1,\n",
       "  'Ashley Hinshaw': 2,\n",
       "  'Frank Grillo': 2,\n",
       "  'Richard Jenkins': 2,\n",
       "  'Winona Ryder': 2,\n",
       "  'Justin Theroux': 2,\n",
       "  'Toby Jones': 2,\n",
       "  'Jason Statham': 2,\n",
       "  'Dennis Quaid': 2,\n",
       "  'Tyler Labine': 2,\n",
       "  'Jacki Weaver': 2,\n",
       "  'Demián Bichir': 2,\n",
       "  'Zazie Beetz': 2,\n",
       "  'Kevin Kline': 2,\n",
       "  'Colman Domingo': 2,\n",
       "  'Anthony Hopkins': 2,\n",
       "  'Joseph Gordon-Levitt': 2,\n",
       "  'Zachary Levi': 2,\n",
       "  'Barbara Hershey': 2,\n",
       "  'Val Kilmer': 2,\n",
       "  'Stellan Skarsgård': 2,\n",
       "  'Piper Laurie': 2,\n",
       "  'Bradley Cooper': 2,\n",
       "  'Michael Shannon': 2,\n",
       "  'John Lithgow': 2,\n",
       "  'Jeremy Renner': 2,\n",
       "  'Jude Law': 2,\n",
       "  'Lucas Hedges': 2,\n",
       "  'James Urbaniak': 2,\n",
       "  'Ben Kingsley': 2,\n",
       "  'Hugh Jackman': 2,\n",
       "  'Tom Noonan': 2,\n",
       "  'Leonardo DiCaprio': 2,\n",
       "  'Adam Brody': 2,\n",
       "  'Billy Zane': 2,\n",
       "  'Bobby Cannavale': 2,\n",
       "  'Heather Graham': 2,\n",
       "  'Bruce Greenwood': 2,\n",
       "  'Shailene Woodley': 2,\n",
       "  'Hannah Ware': 2,\n",
       "  'Dave Bautista': 2,\n",
       "  'Sonja Sohn': 2,\n",
       "  'Danny McBride': 3,\n",
       "  'Tom Felton': 3,\n",
       "  'Selena Gomez': 3,\n",
       "  'Myles Truitt': 3,\n",
       "  'Amy Seimetz': 3,\n",
       "  'Ryan Gosling': 3,\n",
       "  'Ray Stevenson': 3,\n",
       "  'Colm Feore': 3,\n",
       "  'Christopher Eccleston': 3,\n",
       "  'Rene Russo': 3,\n",
       "  'Benicio del Toro': 3,\n",
       "  'Adewale Akinnuoye-Agbaje': 3,\n",
       "  'Lake Bell': 3,\n",
       "  'Donal Logue': 3,\n",
       "  'Zach Galifianakis': 3,\n",
       "  'Al Pacino': 3,\n",
       "  'Alan Alda': 3,\n",
       "  'Mary-Louise Parker': 3,\n",
       "  'Dan Aykroyd': 3,\n",
       "  'Nicholas Hoult': 3,\n",
       "  'Zoë Kravitz': 3,\n",
       "  'Riley Keough': 3,\n",
       "  'Kevin Guthrie': 3,\n",
       "  'Jussie Smollett': 3,\n",
       "  'Emily Mortimer': 3,\n",
       "  'Scott Haze': 3,\n",
       "  'Charlie Plummer': 3,\n",
       "  'Oakes Fegley': 3,\n",
       "  'Juno Temple': 3,\n",
       "  'Chris Noth': 3,\n",
       "  'Jeffrey Wright': 3,\n",
       "  'Zoe Saldana': 3,\n",
       "  'Simon Baker': 3,\n",
       "  'Alice Eve': 3,\n",
       "  'Anton Yelchin': 3,\n",
       "  'Andy Samberg': 3,\n",
       "  'John Cho': 3,\n",
       "  'Bill Duke': 3,\n",
       "  'Chris Pratt': 3,\n",
       "  'Dave Annable': 3,\n",
       "  'Mark Duplass': 3,\n",
       "  'Noah Emmerich': 3,\n",
       "  'Mark Valley': 3,\n",
       "  'Anthony Johnson': 3,\n",
       "  'Nate Marquardt': 3,\n",
       "  'Jane Lynch': 3,\n",
       "  'Tom Cruise': 3,\n",
       "  'David Oyelowo': 3,\n",
       "  'Jackie Evancho': 3,\n",
       "  'Nikki Blonsky': 3,\n",
       "  'Julie Christie': 3,\n",
       "  'Sally Hawkins': 3,\n",
       "  'Kim Allen': 3,\n",
       "  'Paul Giamatti': 3,\n",
       "  'Jaime King': 3,\n",
       "  'Jessica Alba': 3,\n",
       "  'Rachel Bilson': 3,\n",
       "  'Bill Pullman': 3,\n",
       "  'Vincent Cassel': 3,\n",
       "  'Queen Latifah': 3,\n",
       "  'Kathryn Hahn': 3,\n",
       "  'Kristen Stewart': 3,\n",
       "  'Robert De Niro': 3,\n",
       "  'Mackenzie Crook': 3,\n",
       "  'Tony Curran': 3,\n",
       "  'Rutger Hauer': 3,\n",
       "  'James McAvoy': 3,\n",
       "  'Neal McDonough': 3,\n",
       "  'Jim Cummings': 3,\n",
       "  'Bruce Willis': 3,\n",
       "  'Patti LuPone': 3,\n",
       "  'Helen Mirren': 3,\n",
       "  'Vanessa Kirby': 3,\n",
       "  'Charisma Carpenter': 3,\n",
       "  'Stephen Merchant': 3,\n",
       "  'Robert John Burke': 3,\n",
       "  'Liam Hemsworth': 3,\n",
       "  'Richard Wilson': 3,\n",
       "  'Melissa McCarthy': 3,\n",
       "  'Helen Hunt': 3,\n",
       "  'Aaron Eckhart': 3,\n",
       "  'Juliet Rylance': 3,\n",
       "  'Anna Kendrick': 3,\n",
       "  'Trace Adkins': 3,\n",
       "  'Kenny Wormald': 3,\n",
       "  'Betty Gilpin': 3,\n",
       "  'Meagan Good': 3,\n",
       "  'Andie MacDowell': 3,\n",
       "  'Olivia Wilde': 3,\n",
       "  'Chelah Horsdal': 3,\n",
       "  'Martin Starr': 3,\n",
       "  'Liam Neeson': 3,\n",
       "  'Phyllis Somerville': 3,\n",
       "  'Chris Tucker': 3,\n",
       "  'Ellen Burstyn': 3,\n",
       "  'Dakota Fanning': 3,\n",
       "  'Robin Wright': 3,\n",
       "  'Jon Hamm': 3,\n",
       "  'Naomi Watts': 3,\n",
       "  'Peter Cullen': 3,\n",
       "  'Tadanobu Asano': 3,\n",
       "  'Tom Hardy': 3,\n",
       "  'Cillian Murphy': 3,\n",
       "  'David Strathairn': 3,\n",
       "  'Daniel Day-Lewis': 3,\n",
       "  'Jeffrey Tambor': 3,\n",
       "  'Jack Dylan Grazer': 3,\n",
       "  'Keegan-Michael Key': 3,\n",
       "  'Djimon Hounsou': 3,\n",
       "  'Maya Rudolph': 3,\n",
       "  'Cher': 3,\n",
       "  'Julie Walters': 3,\n",
       "  'Chris Evans': 3,\n",
       "  'Yorick van Wageningen': 3,\n",
       "  'Cobie Smulders': 3,\n",
       "  'Bel Powley': 3,\n",
       "  'Anne Hathaway': 3,\n",
       "  'Paul Rudd': 3,\n",
       "  'Letitia Wright': 3,\n",
       "  'Gwyneth Paltrow': 3,\n",
       "  'Kirsten Dunst': 3,\n",
       "  'Kevin Spacey': 3,\n",
       "  'Blythe Danner': 3,\n",
       "  'Scout Taylor-Compton': 3,\n",
       "  'Kathy Baker': 3,\n",
       "  'Katherine Langford': 3,\n",
       "  'Jessica Chastain': 3,\n",
       "  'Matthew Goode': 3,\n",
       "  'Robert Smigel': 3,\n",
       "  'Will Ferrell': 3,\n",
       "  'Gemma Arterton': 3,\n",
       "  'Scarlett Johansson': 3,\n",
       "  'Rebecca Hall': 3,\n",
       "  'Chris Hemsworth': 3,\n",
       "  'Ester Dean': 3,\n",
       "  'Elizabeth Olsen': 3,\n",
       "  'Heidi Klum': 3,\n",
       "  'Famke Janssen': 3,\n",
       "  'Leslie Bibb': 3,\n",
       "  'Keke Palmer': 3,\n",
       "  'Michael Nyqvist': 3,\n",
       "  'Jake Johnson': 3,\n",
       "  'Jon Bernthal': 3,\n",
       "  'Anjelica Huston': 3,\n",
       "  'Albert Finney': 3,\n",
       "  'Danai Gurira': 3,\n",
       "  'Slaine': 3,\n",
       "  'Rainer Bock': 3,\n",
       "  'Léa Seydoux': 3,\n",
       "  'Lee Pace': 3,\n",
       "  'Laurence Fishburne': 3,\n",
       "  'Àstrid Bergès-Frisbey': 3,\n",
       "  'John Hawkes': 3,\n",
       "  'Russell Crowe': 3,\n",
       "  'Kathryn Newton': 3,\n",
       "  'Xavier Dolan': 3,\n",
       "  'Judy Greer': 3,\n",
       "  'Mía Maestro': 3,\n",
       "  'Will Poulter': 3,\n",
       "  'Mark Ruffalo': 3,\n",
       "  'Robin Williams': 3,\n",
       "  'Guy Pearce': 3,\n",
       "  'Jon Favreau': 3,\n",
       "  'RJ Cyler': 3,\n",
       "  'Hailee Steinfeld': 3,\n",
       "  'Alfred Molina': 3,\n",
       "  'Richard Gere': 3,\n",
       "  'Jack Black': 3,\n",
       "  'Liev Schreiber': 3,\n",
       "  'Rick Yune': 3,\n",
       "  'Vera Farmiga': 3,\n",
       "  'Millicent Simmonds': 3,\n",
       "  'Amy Hargreaves': 3,\n",
       "  'Matthew McConaughey': 3,\n",
       "  'Jeffrey Donovan': 3,\n",
       "  'Jackie Earle Haley': 3,\n",
       "  'Laura Cayouette': 3,\n",
       "  'Gloria Stuart': 3,\n",
       "  'Ken Watanabe': 3,\n",
       "  'Rob Huebel': 3,\n",
       "  'Boris Kodjoe': 3,\n",
       "  'Hank Azaria': 3,\n",
       "  'Keira Knightley': 3,\n",
       "  'Henry Czerny': 3,\n",
       "  'Rosa Salazar': 3,\n",
       "  'Nico Tortorella': 3,\n",
       "  'Willem Dafoe': 3,\n",
       "  'Will Arnett': 3,\n",
       "  'John Cena': 3,\n",
       "  'Jennifer Garner': 3,\n",
       "  'Gugu Mbatha-Raw': 3,\n",
       "  'Michelle Pfeiffer': 3,\n",
       "  'Melanie Lynskey': 3,\n",
       "  'Hannah John-Kamen': 3,\n",
       "  'Ken Jeong': 3,\n",
       "  'Ed Helms': 3,\n",
       "  'Preston Bailey': 3,\n",
       "  'Ike Barinholtz': 3,\n",
       "  'Eddie Marsan': 3,\n",
       "  'Rebecca Ferguson': 3,\n",
       "  'Jocelin Donahue': 3,\n",
       "  'Gabriella Wilde': 3,\n",
       "  'Meryl Streep': 3,\n",
       "  'Charlie Day': 3,\n",
       "  'Lennie James': 3,\n",
       "  'Kurt Russell': 3,\n",
       "  'Elizabeth Debicki': 3,\n",
       "  'Matt Nable': 3,\n",
       "  'Ana de Armas': 3,\n",
       "  'Milla Jovovich': 4,\n",
       "  'Stephen Dorff': 4,\n",
       "  'Tessa Thompson': 4,\n",
       "  'Jean Smart': 4,\n",
       "  'Portia Doubleday': 4,\n",
       "  'Tim Allen': 4,\n",
       "  'Mary Kay Place': 4,\n",
       "  'Chris Massoglia': 4,\n",
       "  'Steve Buscemi': 4,\n",
       "  'Julie Hagerty': 4,\n",
       "  'Alec Baldwin': 4,\n",
       "  'Amy Schumer': 4,\n",
       "  'Gary Oldman': 4,\n",
       "  'Thomas Lennon': 4,\n",
       "  'Paula Patton': 4,\n",
       "  'Tyrese Gibson': 4,\n",
       "  'Andrea Riseborough': 4,\n",
       "  'Teyonah Parris': 4,\n",
       "  'Stanley Tucci': 4,\n",
       "  'Zac Efron': 4,\n",
       "  'Matthew Davis': 4,\n",
       "  'Javier Bardem': 4,\n",
       "  'Bill Smitrovich': 4,\n",
       "  'Jesse Williams': 4,\n",
       "  'Elisabeth Moss': 4,\n",
       "  'Clancy Brown': 4,\n",
       "  'Erin Cummings': 4,\n",
       "  'Robert Capron': 4,\n",
       "  'David Schwimmer': 4,\n",
       "  'Charlie Tahan': 4,\n",
       "  'Mila Kunis': 4,\n",
       "  'Michael Clarke Duncan': 4,\n",
       "  'Sam Waterston': 4,\n",
       "  'Tommy Lee Jones': 4,\n",
       "  'Emma Roberts': 4,\n",
       "  'Ron Bottitta': 4,\n",
       "  'Jennifer Lawrence': 4,\n",
       "  'Amy Madigan': 4,\n",
       "  'Gad Elmaleh': 4,\n",
       "  'Leven Rambin': 4,\n",
       "  'Rose Byrne': 4,\n",
       "  'Chris Bridges': 4,\n",
       "  'Danny Hoch': 4,\n",
       "  'Eric Roberts': 4,\n",
       "  'Yu Nan': 4,\n",
       "  'Ashley Jensen': 4,\n",
       "  'Madeline Carroll': 4,\n",
       "  'Matthew Morrison': 4,\n",
       "  'Brooklyn Decker': 4,\n",
       "  'Jeremy Irons': 4,\n",
       "  'Will Forte': 4,\n",
       "  'Angela Sarafyan': 4,\n",
       "  'Matt Walsh': 4,\n",
       "  'Emma Stone': 4,\n",
       "  'Billy Bob Thornton': 4,\n",
       "  'David Harbour': 4,\n",
       "  'John Travolta': 4,\n",
       "  'Charlotte Hope': 4,\n",
       "  'Walt Goggins': 4,\n",
       "  'Bonnie Aarons': 4,\n",
       "  'Michael Rapaport': 4,\n",
       "  'Shea Whigham': 4,\n",
       "  'Brett Cullen': 4,\n",
       "  'Katie Holmes': 4,\n",
       "  'Emma Watson': 4,\n",
       "  'Josh Brolin': 4,\n",
       "  'John Malkovich': 4,\n",
       "  'Idris Elba': 4,\n",
       "  'Freida Pinto': 4,\n",
       "  'Paul Dano': 4,\n",
       "  'Glenne Headly': 4,\n",
       "  'Ellen Page': 4,\n",
       "  'Kelly Clarkson': 4,\n",
       "  'Powers Boothe': 4,\n",
       "  'Fionnula Flanagan': 4,\n",
       "  'Linda Cardellini': 4,\n",
       "  'Glenn Jacobs': 4,\n",
       "  'Pierce Brosnan': 4,\n",
       "  'Christopher Plummer': 4,\n",
       "  'Christine Baranski': 4,\n",
       "  'Bruce Dern': 4,\n",
       "  'Chris Sullivan': 4,\n",
       "  'Ben Mendelsohn': 4,\n",
       "  'Andrew Howard': 4,\n",
       "  'Don Cheadle': 4,\n",
       "  'Reese Witherspoon': 4,\n",
       "  'Jamie Chung': 4,\n",
       "  'Souléymane Sy Savané': 4,\n",
       "  'Ray McKinnon': 4,\n",
       "  'Tuppence Middleton': 4,\n",
       "  'Thad Luckinbill': 4,\n",
       "  'Benedict Cumberbatch': 4,\n",
       "  'Marisa Tomei': 4,\n",
       "  'Katherine LaNasa': 4,\n",
       "  'Andy Serkis': 4,\n",
       "  'Albert Brooks': 4,\n",
       "  'John Early': 4,\n",
       "  'Charlyne Yi': 4,\n",
       "  'Salma Hayek': 4,\n",
       "  'Chris Cooper': 4,\n",
       "  'Christian Bale': 4,\n",
       "  'Blake Lively': 4,\n",
       "  'Isla Fisher': 4,\n",
       "  'Samuli Edelmann': 4,\n",
       "  'Johnny Depp': 4,\n",
       "  'Matt Damon': 4,\n",
       "  'Richard Griffiths': 4,\n",
       "  'Forest Whitaker': 4,\n",
       "  'Marion Cotillard': 4,\n",
       "  'Demetri Martin': 4,\n",
       "  'Laurie Metcalf': 4,\n",
       "  'Noah Jupe': 4,\n",
       "  'Troye Sivan': 4,\n",
       "  'Lou Taylor Pucci': 4,\n",
       "  'Mélanie Laurent': 4,\n",
       "  'Daniel Betts': 4,\n",
       "  'John Magaro': 4,\n",
       "  'Sacha Baron Cohen': 4,\n",
       "  'Aymen Hamdouchi': 4,\n",
       "  'Jonas Armstrong': 4,\n",
       "  'Asa Butterfield': 4,\n",
       "  'Billy Connolly': 4,\n",
       "  'Gianna Jun': 4,\n",
       "  'Tao Okamoto': 4,\n",
       "  'Ty Burrell': 4,\n",
       "  'Hiroyuki Sanada': 4,\n",
       "  'Jean Dujardin': 4,\n",
       "  'Bill Paxton': 4,\n",
       "  'Ted Levine': 4,\n",
       "  'James Russo': 4,\n",
       "  'Don Johnson': 4,\n",
       "  'Margaret Qualley': 4,\n",
       "  'Amitabh Bachchan': 4,\n",
       "  'Bernard Fox': 4,\n",
       "  'Elijah Wood': 4,\n",
       "  'Tia Mowry': 4,\n",
       "  'Catherine Keener': 4,\n",
       "  'Melinda Dillon': 4,\n",
       "  'Taye Diggs': 4,\n",
       "  'William Petersen': 4,\n",
       "  'Jackson Rathbone': 4,\n",
       "  'Danneel Harris': 4,\n",
       "  'Jonathan Hyde': 4,\n",
       "  'Cherry Jones': 4,\n",
       "  'Edward Norton': 4,\n",
       "  'Peter Stormare': 4,\n",
       "  'Nick Kroll': 4,\n",
       "  'Kim Dickens': 4,\n",
       "  'Melissa Leo': 4,\n",
       "  'Bob Odenkirk': 4,\n",
       "  'Karl Urban': 4,\n",
       "  'Laura Dern': 4,\n",
       "  'Octavia Spencer': 4,\n",
       "  'Theo James': 4,\n",
       "  'Peter Dinklage': 4,\n",
       "  'Paul Bettany': 4,\n",
       "  'Mira Sorvino': 4,\n",
       "  'Mackenzie Davis': 4,\n",
       "  'Curtis Jackson': 4,\n",
       "  'Melvin Gregg': 4,\n",
       "  'Billy Crudup': 4,\n",
       "  'Jean-Claude Van Damme': 4,\n",
       "  'David Cross': 4,\n",
       "  'Nick Swardson': 4,\n",
       "  'Michelle Yeoh': 4,\n",
       "  'Sara Driver': 4,\n",
       "  'Thomas Haden Church': 4,\n",
       "  'Carmen Ejogo': 4,\n",
       "  'Ryan Eggold': 4,\n",
       "  'Christina Hendricks': 4,\n",
       "  'Giovanni Ribisi': 4,\n",
       "  'Sean Penn': 4,\n",
       "  'Julianne Moore': 4,\n",
       "  'John Carroll Lynch': 4,\n",
       "  'Philip Baker Hall': 4,\n",
       "  'Steve Carell': 4,\n",
       "  'Marcus Thomas': 4,\n",
       "  'Vinnie Jones': 4,\n",
       "  'Channing Tatum': 4,\n",
       "  'Christopher Walken': 4,\n",
       "  'Luke Evans': 4,\n",
       "  'John Hurt': 4,\n",
       "  'Chloë Grace Moretz': 4,\n",
       "  'Billy Magnussen': 4,\n",
       "  'Tom Hiddleston': 4,\n",
       "  'Tom Sturridge': 4,\n",
       "  \"Lupita Nyong'o\": 4,\n",
       "  'Joel David Moore': 4,\n",
       "  'Sylvester Stallone': 4,\n",
       "  'Matthew Nable': 4,\n",
       "  'Nat Wolff': 4,\n",
       "  'Laura Ramsey': 4,\n",
       "  'Constance Marie': 4,\n",
       "  'Owen Wilson': 4,\n",
       "  \"Jack O'Connell\": 4,\n",
       "  'Joe Pesci': 4,\n",
       "  'Luke Perry': 4,\n",
       "  'Amy Ryan': 4,\n",
       "  'Judd Hirsch': 4,\n",
       "  'Ryan Reynolds': 4,\n",
       "  'Michael Douglas': 4,\n",
       "  'Ian McShane': 4,\n",
       "  'Cory Hardrict': 4,\n",
       "  'Olivia Colman': 4,\n",
       "  'Keir Gilchrist': 4,\n",
       "  'Michael Fassbender': 4,\n",
       "  'William Nadylam': 4,\n",
       "  'Ellen Barkin': 4,\n",
       "  'Jack Reynor': 4,\n",
       "  'Michael Peña': 4,\n",
       "  'Sebastian Stan': 4,\n",
       "  'Christopher Abbott': 4,\n",
       "  'Alan Arkin': 4,\n",
       "  'John Ratzenberger': 4,\n",
       "  'Kristin Scott Thomas': 4,\n",
       "  'Franco Nero': 4,\n",
       "  'Brent Musburger': 4,\n",
       "  'Joe Mantegna': 4,\n",
       "  'Aneurin Barnard': 4,\n",
       "  'Bobby Moynihan': 4,\n",
       "  'James Duval': 4,\n",
       "  'Emile Hirsch': 4,\n",
       "  'Jay Pharoah': 4,\n",
       "  'Dwight Yoakam': 4,\n",
       "  'Justin Timberlake': 4,\n",
       "  'Til Schweiger': 4,\n",
       "  'Kate Winslet': 4,\n",
       "  'Mark Wahlberg': 4,\n",
       "  'Tom Hanks': 4,\n",
       "  'Kelly Reilly': 4,\n",
       "  'Ansel Elgort': 4,\n",
       "  'Timothy Olyphant': 4,\n",
       "  'Mýa': 4,\n",
       "  'Brian White': 4,\n",
       "  'Michael Ealy': 4,\n",
       "  'Tom Bower': 4,\n",
       "  'Oliver Jackson-Cohen': 4,\n",
       "  'John Cusack': 4,\n",
       "  'Pam Ferris': 4,\n",
       "  'Brian Geraghty': 4,\n",
       "  'Kevin McNally': 4,\n",
       "  'Sam Hazeldine': 4,\n",
       "  'Will Smith': 4,\n",
       "  'Bill Hader': 4,\n",
       "  'Olivia Cooke': 4,\n",
       "  'Wolfgang Puck': 4,\n",
       "  'Kenan Thompson': 4,\n",
       "  'Chris Messina': 4,\n",
       "  'Woody Harrelson': 4,\n",
       "  'Todd Bridges': 4,\n",
       "  'Alan Thicke': 4,\n",
       "  'Beck Bennett': 4,\n",
       "  'Simon Pegg': 4,\n",
       "  'Clark Duke': 4,\n",
       "  'Chris Klein': 4,\n",
       "  'Greta Lee': 4,\n",
       "  'Kate Beckinsale': 4,\n",
       "  'Anthony Mackie': 4,\n",
       "  'Jason Clarke': 4,\n",
       "  'Dakota Johnson': 4,\n",
       "  'Harold Perrineau': 4,\n",
       "  'Audrina Patridge': 4,\n",
       "  'Jake Schur': 4,\n",
       "  'Chris Parnell': 4,\n",
       "  'Leila George': 4,\n",
       "  'Mike Vogel': 4,\n",
       "  'Anna Faris': 4,\n",
       "  'Gene Simmons': 4,\n",
       "  'Greta Gerwig': 4,\n",
       "  'Jennifer Jason Leigh': 4,\n",
       "  'Elizabeth Banks': 4,\n",
       "  'Connie Britton': 4,\n",
       "  'Diane Keaton': 4,\n",
       "  'Margot Robbie': 4,\n",
       "  'Joel Edgerton': 4,\n",
       "  'Danny Huston': 4,\n",
       "  'Mark Strong': 4,\n",
       "  'Sami Gayle': 4,\n",
       "  'Dennis Haysbert': 4,\n",
       "  'Brendan Fraser': 4,\n",
       "  'Lin Shaye': 4,\n",
       "  'Adrian Grenier': 4,\n",
       "  'Josh Holloway': 4,\n",
       "  'Jesse Plemons': 4,\n",
       "  'Annabelle Wallis': 4,\n",
       "  'Angela Bassett': 4,\n",
       "  'Morgan Freeman': 4,\n",
       "  'Nikolaj Coster-Waldau': 4,\n",
       "  'Sharlto Copley': 4,\n",
       "  'Ne-Yo': 4,\n",
       "  'Cate Blanchett': 4,\n",
       "  'Samuel Joslin': 4,\n",
       "  'Doug McKeon': 4,\n",
       "  'Michael Mosley': 4,\n",
       "  'Ron Livingston': 4,\n",
       "  'Philip Seymour Hoffman': 4,\n",
       "  'Colin Hanks': 4,\n",
       "  'Rob Corddry': 4,\n",
       "  'Kate Hudson': 4,\n",
       "  'Danny Trejo': 4,\n",
       "  'Steven Seagal': 4,\n",
       "  'Topher Grace': 4,\n",
       "  'Jeremy Piven': 4,\n",
       "  'Elias Koteas': 4,\n",
       "  'Bill Camp': 4,\n",
       "  'Jennifer Lopez': 4,\n",
       "  'Eric Dane': 4,\n",
       "  'James Marsden': 4,\n",
       "  'Jim Gaffigan': 4,\n",
       "  'Mel Brooks': 4,\n",
       "  'Zoey Deutch': 4,\n",
       "  'Shirley Knight': 4,\n",
       "  'Ashley Greene': 4,\n",
       "  'MyAnna Buring': 4,\n",
       "  'Booboo Stewart': 4,\n",
       "  'Billy Burke': 4,\n",
       "  'Leonardo Sbaraglia': 4,\n",
       "  'Michelle Rodriguez': 4,\n",
       "  'Bobby Canavale': 4,\n",
       "  'Sherri Shepherd': 4,\n",
       "  'Kris Wu': 4,\n",
       "  'Mark Gatiss': 4,\n",
       "  'Bill Nighy': 4,\n",
       "  'Sebastian Arcelus': 4,\n",
       "  'Andy Bean': 4,\n",
       "  'Charlize Theron': 4,\n",
       "  'Patrick Stewart': 4,\n",
       "  'Derek Luke': 4,\n",
       "  'Ewan McGregor': 4,\n",
       "  'Bud Luckey': 4,\n",
       "  'Peter Capaldi': 4,\n",
       "  'Richard Schiff': 4,\n",
       "  'Lee Byung-hun': 4,\n",
       "  'Joseph Mawle': 4,\n",
       "  'Shea Buckner': 4,\n",
       "  'Garret Dillahunt': 4,\n",
       "  'Jason Schwartzman': 4,\n",
       "  'Dwayne Johnson': 4,\n",
       "  'Josh Duhamel': 4,\n",
       "  'Jason Patric': 4,\n",
       "  'Sigourney Weaver': 4,\n",
       "  'Emily Blunt': 4,\n",
       "  'Jesper Christensen': 4,\n",
       "  'Ian McKellen': 4,\n",
       "  'James Hong': 4,\n",
       "  'Anson Mount': 4,\n",
       "  'Harrison Ford': 4,\n",
       "  'Richard Dreyfuss': 4,\n",
       "  'Jacqueline Emerson': 4,\n",
       "  'Chuck Norris': 4,\n",
       "  'Wes Bentley': 4,\n",
       "  'Rhea Perlman': 4,\n",
       "  'Danika Yarosh': 4,\n",
       "  'Bridget Moynahan': 4,\n",
       "  'Julian Holloway': 4,\n",
       "  'Giancarlo Esposito': 4,\n",
       "  'Marshall Bell': 4,\n",
       "  'Bryce Dallas Howard': 4,\n",
       "  'Leslie Mann': 4,\n",
       "  'Rodrigo Santoro': 4,\n",
       "  'Kieran Culkin': 4,\n",
       "  'Skylar Astin': 4,\n",
       "  'Tennessee Thomas': 4,\n",
       "  'Terrence Howard': 4,\n",
       "  'Rebel Wilson': 4,\n",
       "  'Henry Golding': 4,\n",
       "  'Iko Uwais': 4,\n",
       "  'Regina Hall': 4,\n",
       "  'Fred Willard': 4,\n",
       "  'Tika Sumpter': 4,\n",
       "  'Leighton Meester': 4,\n",
       "  'Katie Cassidy': 4,\n",
       "  'Cory Monteith': 4,\n",
       "  'Elena Satine': 4,\n",
       "  'Alicia Silverstone': 4,\n",
       "  'Lucy Punch': 4,\n",
       "  'Jake Gyllenhaal': 4,\n",
       "  'Lindsay Sloane': 4,\n",
       "  'John Tui': 4,\n",
       "  'Julia Jones': 4,\n",
       "  'Maika Monroe': 4,\n",
       "  'Gabriel Iglesias': 4,\n",
       "  'Kanye West': 4,\n",
       "  'Sam Worthington': 4,\n",
       "  'Brian Tyree Henry': 4,\n",
       "  'Adam Godley': 4,\n",
       "  'James Badge Dale': 4,\n",
       "  'Emmy Rossum': 4,\n",
       "  'Tony Goldwyn': 4,\n",
       "  'Judith Godrèche': 4,\n",
       "  'Kellan Lutz': 4,\n",
       "  'Toni Collette': 4,\n",
       "  'Mackenzie Foy': 4,\n",
       "  'Jared Leto': 4,\n",
       "  'Kristen Wiig': 4,\n",
       "  'James LeGros': 4,\n",
       "  'Gerard Butler': 4,\n",
       "  'Josh Lucas': 4,\n",
       "  'Maddie Ziegler': 4,\n",
       "  'Jimmy Smits': 4,\n",
       "  'Jerrod Carmichael': 4,\n",
       "  'Jason Drucker': 4,\n",
       "  'Mia Wasikowska': 4,\n",
       "  'Michael Caine': 4,\n",
       "  'Kevin Dunn': 4,\n",
       "  'Tom Berenger': 4,\n",
       "  'Nathan Jones': 4,\n",
       "  'Joel Kinnaman': 4,\n",
       "  'Harry Styles': 4,\n",
       "  'Jack Lowden': 4,\n",
       "  'Alex Pettyfer': 4,\n",
       "  'Bradley Whitford': 4,\n",
       "  'Justin Bartha': 4,\n",
       "  'Yehuda Levi': 4,\n",
       "  'Cody Longo': 4,\n",
       "  'Leelee Sobieski': 4,\n",
       "  'Mimi Rogers': 4,\n",
       "  'Nicholas Hamilton': 4,\n",
       "  'Olivia Munn': 4,\n",
       "  'Annie Potts': 4,\n",
       "  'Madeleine McGraw': 4,\n",
       "  'Brie Larson': 4,\n",
       "  'Naomi Scott': 4,\n",
       "  'Trey Songz': 4,\n",
       "  'Eric Bana': 4,\n",
       "  'Tom Conti': 4,\n",
       "  'Sean Hayes': 4,\n",
       "  'Maria Bello': 4,\n",
       "  'Julie Bowen': 4,\n",
       "  \"Chris O'Dowd\": 4,\n",
       "  'Ryan Phillippe': 4,\n",
       "  'Alison Brie': 4,\n",
       "  'Tiffany Haddish': 4,\n",
       "  'Joel McHale': 4,\n",
       "  'Ben Schwartz': 4,\n",
       "  'Faizon Love': 4,\n",
       "  'Nick Nolte': 4,\n",
       "  'Judd Apatow': 4,\n",
       "  'Christina Aguilera': 4,\n",
       "  'Jason Isaacs': 4,\n",
       "  'Rupert Grint': 4,\n",
       "  'Emma Thompson': 4,\n",
       "  'Greg Kinnear': 4,\n",
       "  'Michael Biehn': 4,\n",
       "  'Michiel Huisman': 4,\n",
       "  'Karen Gillan': 4,\n",
       "  'Lindsay Duncan': 4,\n",
       "  \"Colin O'Donoghue\": 4,\n",
       "  'Christopher Lee': 4,\n",
       "  'William Jackson Harper': 4,\n",
       "  'Mare Winningham': 4,\n",
       "  'Oliver Platt': 4,\n",
       "  'Josh Gad': 4,\n",
       "  'Alex Sharp': 4,\n",
       "  'Patricia Clarkson': 4,\n",
       "  'Luke Wilson': 4,\n",
       "  'Ezra Miller': 4,\n",
       "  'Jack Nicholson': 4,\n",
       "  'Jason White': 4,\n",
       "  'Daniel Kaluuya': 4,\n",
       "  'Amr Waked': 4,\n",
       "  'Pom Klementieff': 4,\n",
       "  'Tré Cool': 4,\n",
       "  'Dylan Baker': 4,\n",
       "  'Johnny Knoxville': 4,\n",
       "  'Jack McGee': 4,\n",
       "  'Hilary Swank': 4,\n",
       "  'Marcia Gay Harden': 4,\n",
       "  'Derek Cecil': 4,\n",
       "  'Bryan Cranston': 4,\n",
       "  'Martin Freeman': 4,\n",
       "  'Tim Blake Nelson': 4,\n",
       "  'Lucas Black': 4,\n",
       "  'Jamie Lee Curtis': 4,\n",
       "  'Sam Rockwell': 4,\n",
       "  'Chris Rock': 4,\n",
       "  'Jeffrey Dean Morgan': 4,\n",
       "  'Shia LaBeouf': 4,\n",
       "  'Cicely Tyson': 4,\n",
       "  'Allison Janney': 4,\n",
       "  'Dane DeHaan': 4,\n",
       "  'Isaiah Mustafa': 4,\n",
       "  'Finn Wolfhard': 4,\n",
       "  'Ralph Fiennes': 4,\n",
       "  'Mel Gibson': 4,\n",
       "  'Mike Dirnt': 4,\n",
       "  'Nick Offerman': 4,\n",
       "  'Glenn Howerton': 4,\n",
       "  'Adrian Martinez': 4,\n",
       "  'Vince Vaughn': 4,\n",
       "  'Kevin Hart': 4,\n",
       "  'Ryan Simpkins': 4,\n",
       "  'Kelly Macdonald': 4,\n",
       "  'Cedric Yarbrough': 4,\n",
       "  'Lauren Lapkus': 4,\n",
       "  'Zoë Bell': 4,\n",
       "  'Glenn Close': 4,\n",
       "  'Ben Affleck': 4,\n",
       "  'Thomasin McKenzie': 4,\n",
       "  'Patrick Fugit': 4,\n",
       "  'Rob Brown': 4,\n",
       "  'Jillian Bell': 4,\n",
       "  'Ilana Glazer': 4,\n",
       "  'Chin Han': 4,\n",
       "  'Steve Coogan': 4,\n",
       "  'Johnny Harris': 4,\n",
       "  'Sam Spruell': 4,\n",
       "  'Lewis Pullman': 4,\n",
       "  'Tang Wei': 4,\n",
       "  'Aziz Ansari': 4,\n",
       "  'Heather Morris': 4,\n",
       "  'Anna Camp': 4,\n",
       "  'Brittany Snow': 4,\n",
       "  'John Leguizamo': 4,\n",
       "  'Matt Bennett': 4,\n",
       "  'Daniel Radcliffe': 4,\n",
       "  'Karen David': 4,\n",
       "  'Burn Gorman': 4,\n",
       "  'Hugh Dancy': 4,\n",
       "  'Kyle MacLachlan': 4,\n",
       "  'Joan Cusack': 4,\n",
       "  'Rob Paulsen': 4,\n",
       "  'Robin Atkin Downes': 4,\n",
       "  'Dave Holmes': 4,\n",
       "  'Riki Lindhome': 4,\n",
       "  'Halle Berry': 4,\n",
       "  'Max Thieriot': 4,\n",
       "  'David Gyasi': 4,\n",
       "  'Aubrey Plaza': 4,\n",
       "  'Kimiko Glenn': 4,\n",
       "  'Eiza González': 4,\n",
       "  'Steve Martin': 4,\n",
       "  'Scott Glenn': 4,\n",
       "  'Pihla Viitala': 4,\n",
       "  'George Lopez': 4,\n",
       "  'Rami Malek': 4,\n",
       "  'Chaske Spencer': 4,\n",
       "  'Dean Norris': 4,\n",
       "  'Yul Vazquez': 4,\n",
       "  'Henry Cavill': 4,\n",
       "  'Lance Reddick': 4,\n",
       "  'Shawn Christian': 4,\n",
       "  'Mos Def': 4,\n",
       "  'Amy Adams': 4,\n",
       "  'Cung Le': 4,\n",
       "  'Antje Traue': 4,\n",
       "  'Chris Geere': 4,\n",
       "  'David Warshofsky': 4,\n",
       "  'Lucas Neff': 4,\n",
       "  'Christopher Mintz-Plasse': 4,\n",
       "  'Virginia Gardner': 4,\n",
       "  'Isabella Amara': 4,\n",
       "  'Robert Pattinson': 4,\n",
       "  'Taylor Lautner': 4,\n",
       "  'Elizabeth Reaser': 4,\n",
       "  'Tammy Blanchard': 4,\n",
       "  'Noel Fisher': 4,\n",
       "  'Daniel Cudmore': 4,\n",
       "  'Thomas Brodie-Sangster': 4,\n",
       "  'Kaya Scodelario': 4,\n",
       "  'Fionn Whitehead': 4,\n",
       "  'John Krasinski': 4,\n",
       "  'Max von Sydow': 4,\n",
       "  'Rachel McAdams': 4,\n",
       "  'Matt Bush': 4,\n",
       "  'Clark Gregg': 4,\n",
       "  'Ben Stiller': 4,\n",
       "  'Brad Pitt': 4,\n",
       "  'Jane Fonda': 4,\n",
       "  'Bailee Madison': 4,\n",
       "  'Benedict Wong': 4,\n",
       "  'Ben Falcone': 4,\n",
       "  'Genesis Rodriguez': 4,\n",
       "  'Thomas Mann': 4,\n",
       "  'Tilda Swinton': 4,\n",
       "  'Lily Tomlin': 4,\n",
       "  'Pamela Adlon': 4,\n",
       "  'Evan Rachel Wood': 4,\n",
       "  'Lauren Bacall': 4,\n",
       "  'Nick Jonas': 4,\n",
       "  'Wendi McLendon-Covey': 4,\n",
       "  'Rory McCann': 4,\n",
       "  'Caleel Harris': 4,\n",
       "  'Bill Murray': 4,\n",
       "  'Vanessa Redgrave': 4,\n",
       "  'Harvey Keitel': 4,\n",
       "  'John Slattery': 4,\n",
       "  'Kate Bosworth': 4,\n",
       "  'Uzo Aduba': 4,\n",
       "  'Shabana Azmi': 4,\n",
       "  'Nora Arnezeder': 4,\n",
       "  'Zhang Ziyi': 4,\n",
       "  'Jonah Hill': 4,\n",
       "  'Gina Gershon': 4,\n",
       "  'Diane Lane': 4,\n",
       "  'Jimmy Buffett': 4,\n",
       "  'Jonathan Majors': 4,\n",
       "  'Joe Manganiello': 4,\n",
       "  'Adam Rodríguez': 4,\n",
       "  \"Denis O'Hare\": 4,\n",
       "  'Lea Thompson': 4,\n",
       "  'Thomas Dekker': 4,\n",
       "  'Cooper Huckabee': 4,\n",
       "  'Paul Scheer': 4,\n",
       "  'Wentworth Miller': 4,\n",
       "  'Eugenio Derbez': 4,\n",
       "  'Gillian Jacobs': 4,\n",
       "  'Dax Shepard': 4,\n",
       "  'Curtis \"50 Cent\" Jackson': 4,\n",
       "  'Jermaine Crawford': 4,\n",
       "  'Lucy Hale': 4,\n",
       "  'Dominic West': 4,\n",
       "  'Julianne Nicholson': 4,\n",
       "  'Brooklynn Prince': 4,\n",
       "  'Kenneth Branagh': 4,\n",
       "  'Nicole Kidman': 4,\n",
       "  'Daisy Ridley': 4,\n",
       "  'Stephen Amell': 4,\n",
       "  'Ludacris': 4,\n",
       "  'Jon Heder': 4,\n",
       "  'June Diane Raphael': 4,\n",
       "  'Gina Rodriguez': 4,\n",
       "  \"Dylan O'Brien\": 4,\n",
       "  'Devon Graye': 4,\n",
       "  'Aaron Taylor-Johnson': 4,\n",
       "  'Graham Phillips': 4,\n",
       "  'Julia Roberts': 4,\n",
       "  'Annie Ilonzeh': 4,\n",
       "  'Richard Cabral': 4,\n",
       "  'Brianna Denski': 4,\n",
       "  'Audra McDonald': 4,\n",
       "  'Jessica Biel': 4,\n",
       "  'Chiwetel Ejiofor': 4,\n",
       "  'Chris Pine': 4,\n",
       "  'Ed Harris': 4,\n",
       "  'Sofía Vergara': 4,\n",
       "  'Seth Meyers': 4,\n",
       "  'Sergei Polunin': 4,\n",
       "  'Christine Lahti': 4,\n",
       "  'Kevin Covais': 4,\n",
       "  'Brian Presley': 4,\n",
       "  'Walton Goggins': 4,\n",
       "  'Joe Rogan': 4,\n",
       "  'Madison Iseman': 4,\n",
       "  'Chris Riggi': 4,\n",
       "  'Marton Csokas': 4,\n",
       "  'Carrie Brownstein': 4,\n",
       "  'Stephen Fry': 4,\n",
       "  'Sofia Boutella': 4,\n",
       "  'Christoph Waltz': 4,\n",
       "  'Tracy Letts': 4,\n",
       "  'Timothée Chalamet': 4,\n",
       "  'Florence Pugh': 4,\n",
       "  'James Norton': 4,\n",
       "  'Drew Barrymore': 4,\n",
       "  'Cailee Spaeny': 4,\n",
       "  'Frank Oz': 4,\n",
       "  'Jing Tian': 4,\n",
       "  'Stephanie Beatriz': 4,\n",
       "  'Zhang Jin': 4,\n",
       "  'Jenny Slate': 4,\n",
       "  'Kelli Garner': 4,\n",
       "  'Charlie Hunnam': 4,\n",
       "  'Joseph Gilgun': 4,\n",
       "  'Julia Butters': 4,\n",
       "  'Austin Butler': 4,\n",
       "  'Viola Davis': 4,\n",
       "  'Armie Hammer': 4,\n",
       "  'Vin Diesel': 4,\n",
       "  'Hugh Grant': 4,\n",
       "  'Cynthia Erivo': 4,\n",
       "  'Lakeith Stanfield': 4,\n",
       "  'Jaeden Martell': 4,\n",
       "  'Sylvia Hoeks': 4,\n",
       "  'Jay Baruchel': 5,\n",
       "  'Kelsey Grammer': 5,\n",
       "  'Robert Davi': 5,\n",
       "  'Riz Ahmed': 5,\n",
       "  'Abby Quinn': 5,\n",
       "  'Jaden Michael': 5,\n",
       "  'Lili Taylor': 5,\n",
       "  'America Ferrera': 5,\n",
       "  'Kiele Sanchez': 5,\n",
       "  'Antonio Fargas': 5,\n",
       "  'Erik Apple': 5,\n",
       "  'Maggie Gyllenhaal': 5,\n",
       "  'Kurtwood Smith': 5,\n",
       "  'Sam Shepard': 5,\n",
       "  'Kevin James': 5,\n",
       "  'Jennifer Aniston': 5,\n",
       "  'Zooey Deschanel': 5,\n",
       "  'Josh Hutcherson': 5,\n",
       "  'Richard Armitage': 5,\n",
       "  'Dominic Cooper': 5,\n",
       "  'Rafe Spall': 5,\n",
       "  'Justice Smith': 5,\n",
       "  'Rainn Wilson': 5,\n",
       "  'Li Bingbing': 5,\n",
       "  'Sofia Vergara': 5,\n",
       "  'Michael Chiklis': 5,\n",
       "  'Ben Barnes': 5,\n",
       "  'John Goodman': 5,\n",
       "  'Taylor Russell': 5,\n",
       "  'Peter Sohn': 5,\n",
       "  'Alden Ehrenreich': 5,\n",
       "  'Frances Conroy': 5,\n",
       "  'Reid Scott': 5,\n",
       "  'Bill Skarsgård': 5,\n",
       "  'Felicity Jones': 5,\n",
       "  'Kat Dennings': 5,\n",
       "  'Ron Perlman': 5,\n",
       "  'Ty Simpkins': 5,\n",
       "  'Paul Sorvino': 5,\n",
       "  'Julia Stiles': 5,\n",
       "  'Rhys Ifans': 5,\n",
       "  'Navid Negahban': 5,\n",
       "  'Kodi Smit-McPhee': 5,\n",
       "  'William Fichtner': 5,\n",
       "  'Megan Fox': 5,\n",
       "  'Seann William Scott': 5,\n",
       "  'Nick Frost': 5,\n",
       "  'Nicki Minaj': 5,\n",
       "  'Hannibal Buress': 5,\n",
       "  'Joy Behar': 5,\n",
       "  'Rooney Mara': 5,\n",
       "  'Gemma Chan': 5,\n",
       "  'Anthony Hayes': 5,\n",
       "  'Jacqueline Bisset': 5,\n",
       "  'Russell Wong': 5,\n",
       "  'Danny Nucci': 5,\n",
       "  'Carolyn Farina': 5,\n",
       "  'Aimee Teegarden': 5,\n",
       "  'Minka Kelly': 5,\n",
       "  'Katherine Heigl': 5,\n",
       "  'Michael Stuhlbarg': 5,\n",
       "  'Carlos Carrasco': 5,\n",
       "  'Zahn McClarnon': 5,\n",
       "  'Ashley Judd': 5,\n",
       "  'Jeff Goldblum': 5,\n",
       "  'Jamie Foxx': 5,\n",
       "  ...})"
      ]
     },
     "execution_count": 546,
     "metadata": {},
     "output_type": "execute_result"
    }
   ],
   "source": [
    "t,I,infected_time = SI_network(A, 0.1, 'James Franco')"
   ]
  },
  {
   "cell_type": "markdown",
   "metadata": {},
   "source": [
    "Plot the number of $I(t)$ vs $t$. Also include a horizontal line at $n$, number of actors."
   ]
  },
  {
   "cell_type": "code",
   "execution_count": 303,
   "metadata": {},
   "outputs": [
    {
     "data": {
      "image/png": "[encoded data removed]",
      "text/plain": [
       "<Figure size 432x288 with 1 Axes>"
      ]
     },
     "metadata": {
      "needs_background": "light"
     },
     "output_type": "display_data"
    }
   ],
   "source": [
    "ts = np.arange(t + 1)\n",
    "plt.plot(ts,I,label='simulation')\n",
    "n = A.number_of_nodes()\n",
    "plt.axhline(y = n , color = 'r', linestyle = '-')\n",
    "plt.legend()\n",
    "plt.show()"
   ]
  },
  {
   "cell_type": "markdown",
   "metadata": {},
   "source": [
    "As can be seen not all actors got infected. Show in code you understand why this is guaranteed for this simulation in this network:"
   ]
  },
  {
   "cell_type": "code",
   "execution_count": 305,
   "metadata": {},
   "outputs": [
    {
     "name": "stdout",
     "output_type": "stream",
     "text": [
      "False\n",
      "The graph is not connected, so there are actors whose probability to be infected is 0 because they are not neighbors of James Franco or his neighbors\n"
     ]
    }
   ],
   "source": [
    "print(nx.is_connected(A))\n",
    "print('The graph is not connected, so there are actors whose probability to be infected is 0 because they are not neighbors of James Franco or his neighbors')\n"
   ]
  },
  {
   "cell_type": "markdown",
   "metadata": {},
   "source": [
    "Now use `infected_time` you got and plot the same graph of $I(t)$ vs. $t$ for nodes *with different degrees*, where $I(t, d)$ is normalized for all nodes with degree $d$.\n",
    "\n",
    "* Ignore nodes with degree 0\n",
    "* Nodes with degree 2^0 on a separate line\n",
    "* Nodes with degree 2^0 < d <= 2^1 on a separate line\n",
    "* Nodes with degree 2^1 < d <= 2^2 on a separate line\n",
    "* Nodes with degree 2^2 < d <= 2^3 on a separate line\n",
    "* ...\n",
    "* Nodes with degree 2^5 < d on a separate line\n",
    "\n",
    "To help you it should look something like this (notice the y axis, and correction: your plot should have 7 lines of course by the above requirement, not 6 as here):\n",
    "\n",
    "![](images/SI_actors_by_degree.png)"
   ]
  },
  {
   "cell_type": "markdown",
   "metadata": {},
   "source": [
    "Also to help you (only if you need it, you don't have to use it), here's some starter code:"
   ]
  },
  {
   "cell_type": "code",
   "execution_count": 416,
   "metadata": {},
   "outputs": [
    {
     "data": {
      "image/png": "[encoded data removed]",
      "text/plain": [
       "<Figure size 432x288 with 1 Axes>"
      ]
     },
     "metadata": {
      "needs_background": "light"
     },
     "output_type": "display_data"
    }
   ],
   "source": [
    "actors_degrees = dict(A.degree)\n",
    "degree_counter = {0: np.zeros(t + 1), 1: np.zeros(t + 1), 2: np.zeros(t + 1),\n",
    "                  3: np.zeros(t + 1), 4: np.zeros(t + 1), 5: np.zeros(t + 1)}\n",
    "actors_dict = {actor: {'t': infected_time[actor], 'd': actors_degrees[actor]} for actor in A.nodes}\n",
    "\n",
    "I=[[0],[0],[0],[0],[0],[0],[0]]\n",
    "y=int(np.ceil(np.log2(actors_dict.get('James Franco')['d'])))\n",
    "if y<=5:\n",
    "    I[y]=[1]\n",
    "else:\n",
    "    I[6]=[1]\n",
    "j=1\n",
    "while j<=t:  \n",
    "    for p in range(0,7):\n",
    "        I[p].append(I[p][j-1])\n",
    "    L=[k for k in actors_dict.keys() if actors_dict.get(k)['t']==j]  \n",
    "    for l in L:\n",
    "        d=int(np.ceil(np.log2(actors_dict.get(l)['d'])))\n",
    "        if d<=5:\n",
    "            I[d][j]+=1\n",
    "        else:\n",
    "            I[6][j]+=1\n",
    "    j+=1\n",
    "\n",
    "def normalize(v):\n",
    "    normed = (v - np.min(v))/np.ptp(v)\n",
    "    return (normed)\n",
    "\n",
    "ts = np.arange(t + 1)\n",
    "plt.plot(ts, normalize(I[0]), label = '2^0')\n",
    "plt.plot(ts, normalize(I[1]), label = '2^1')\n",
    "plt.plot(ts, normalize(I[2]), label = '2^2')\n",
    "plt.plot(ts, normalize(I[3]), label = '2^3')\n",
    "plt.plot(ts, normalize(I[4]), label = '2^4')\n",
    "plt.plot(ts, normalize(I[5]), label = '2^5')\n",
    "plt.plot(ts, normalize(I[6]), label = '2^6')\n",
    "plt.legend()\n",
    "plt.show()\n",
    "\n"
   ]
  },
  {
   "cell_type": "markdown",
   "metadata": {},
   "source": [
    "Isn't that beautiful? Yes we're in the SI model. And yes the probability of infection $\\beta$ is constant. But considering this is a network, the rate of infection depends on the node's degree or centrality. This can also be shown in the SIR model.\n",
    "\n",
    "It can also be shown how $I(t)$ relates to the eigen centrality of the actors. It would be simpler to use `infected_time` and show a scatterplot of the average infected time for different levels of eigen centrality, say for centrality [0.0-0.01], [0.01-0.02], etc."
   ]
  },
  {
   "cell_type": "code",
   "execution_count": 563,
   "metadata": {},
   "outputs": [
    {
     "data": {
      "image/png": "[encoded data removed]",
      "text/plain": [
       "<Figure size 720x1080 with 1 Axes>"
      ]
     },
     "metadata": {
      "needs_background": "light"
     },
     "output_type": "display_data"
    }
   ],
   "source": [
    "L=[0.01,0.02,0.03,0.04,0.05,0.06,0.07,0.08,0.09,0.1]\n",
    "dict={}\n",
    "for i in L:\n",
    "    dict[i]=[]\n",
    "\n",
    "for j,k in nx.eigenvector_centrality(A).items():\n",
    "    if infected_time[j] != None:\n",
    "        if k<=0.01 : \n",
    "            dict[0.01].append(infected_time[j])\n",
    "        if k>0.01 and k<=0.02 :\n",
    "            dict[0.02].append(infected_time[j])\n",
    "        if k>0.02 and k<=0.03 :\n",
    "            dict[0.03].append(infected_time[j])\n",
    "        if k>0.03 and k<=0.04 :\n",
    "            dict[0.04].append(infected_time[j])\n",
    "        if k>0.04 and k<=0.05 :\n",
    "            dict[0.05].append(infected_time[j])\n",
    "        if k>0.05 and k<=0.06 :\n",
    "            dict[0.06].append(infected_time[j])\n",
    "        if k>0.06 and k<=0.07 :\n",
    "            dict[0.07].append(infected_time[j])\n",
    "        if k>0.07 and k<=0.08 :\n",
    "            dict[0.08].append(infected_time[j])\n",
    "        if k>0.08 and k<=0.09 :\n",
    "            dict[0.09].append(infected_time[j])\n",
    "        if k>0.09 and k<=1 :\n",
    "            dict[0.1].append(infected_time[j])\n",
    "\n",
    "avg = []\n",
    "for v in dict.keys():\n",
    "    avg.append(np.mean(dict[v]))\n",
    "\n",
    "plt.scatter(L,avg)\n",
    "plt.show()\n"
   ]
  },
  {
   "cell_type": "markdown",
   "metadata": {},
   "source": [
    "#### SIR Model on Power Law and Lattice networks"
   ]
  },
  {
   "cell_type": "markdown",
   "metadata": {},
   "source": [
    "As mentioned in the beginning of this section, the structure of the network also dictates how the disease spreads. In the final part of the assignment we will show the difference of spreading a disease in a social-network-style Power Law network, vs. spreading it in a Lattice network.\n",
    "\n",
    "For the SIR model, we also change the meaning of $\\gamma$ and it is now the recovery *probability*, not rate, for a single infected node. So at each time unit, a node has a fixed probabilty of recovering (or dying...) from the disease, never to be infected again."
   ]
  },
  {
   "cell_type": "markdown",
   "metadata": {},
   "source": [
    "Write a function `SIR_network(G, beta, gamma, node_zero)` which will receive 4 parameters:\n",
    "* `G` a NetworkX Graph()\n",
    "* `beta` infection probability\n",
    "* `gamma` recovery probability\n",
    "* `node_zero` name of node zero, who initially got infected\n",
    "\n",
    "and return:\n",
    "* `t` no. of days until the epidemic saturated, i.e. there was no change in no. of recovered for 5 consecutive days (and you may assume `max(t) = 1000`\n",
    "* `I` the list of daily total infected nodes\n",
    "* `R` the list of daily total recovered nodes\n",
    "* `S` the list of daily total susceptible nodes\n",
    "* `infected_time`: a dictionary mapping an node to time `t` in which it got infected (if an node was not infected put `None`)\n",
    "\n",
    "You may check that your function is working on the films actors network with James Franco as the infected actor, not required."
   ]
  },
  {
   "cell_type": "code",
   "execution_count": 454,
   "metadata": {},
   "outputs": [],
   "source": [
    "def SI_network(G, beta,gamma, node_zero):\n",
    "    n=G.number_of_nodes()\n",
    "    t=1\n",
    "    I=[]\n",
    "    R=[]\n",
    "    S=[]\n",
    "    still_infected = []\n",
    "    still_infected.append(node_zero)\n",
    "    I.append(1)\n",
    "    R.append(0)\n",
    "    S.append(n-1)\n",
    "    infected_time={}\n",
    "    infected_time[node_zero]=0\n",
    "    counter=0  \n",
    "    \n",
    "    while t<=1000:\n",
    "        w=0\n",
    "        mask = np.random.binomial(1, gamma, len(still_infected))\n",
    "        for v in [elem for keep, elem in zip(mask,still_infected) if keep]:\n",
    "            still_infected.remove(v)\n",
    "            w+=1     \n",
    "        c=0  \n",
    "        infected=[]\n",
    "        for i in still_infected:\n",
    "            mask1 = np.random.binomial(1, beta, len(list(G.neighbors(i))))\n",
    "            for r in [elem for keep, elem in zip(mask1,list(G.neighbors(i))) if keep]:\n",
    "                infected.append(r) \n",
    "        for y in infected:\n",
    "            if y not in infected_time.keys():\n",
    "                infected_time[y]=t\n",
    "                still_infected.append(y)\n",
    "                c+=1   \n",
    "                \n",
    "        I.append(c+(I[t-1])-w)\n",
    "        R.append(R[t-1]+w)\n",
    "        S.append(n-I[t]-R[t]\n",
    "                 \n",
    "        if len(infected_time)== n:\n",
    "            break\n",
    "        if c==0:\n",
    "            counter+=1\n",
    "            if counter==5:\n",
    "                break\n",
    "        else:\n",
    "            counter=0\n",
    "        t+=1\n",
    "    for actor in G.nodes():\n",
    "        if actor not in infected_time.keys():\n",
    "            infected_time[actor]=None   \n",
    "    return (t,I,R,S,infected_time)\n"
   ]
  },
  {
   "cell_type": "markdown",
   "metadata": {},
   "source": [
    "Now create two networks:\n",
    "\n",
    "* `G`: a Power-Law network with 900 nodes\n",
    "* `L`: a Lattice (grid) network with 30x30 = 900 nodes (you'll get it when you see it...)\n",
    "\n",
    "Run this code:"
   ]
  },
  {
   "cell_type": "code",
   "execution_count": 466,
   "metadata": {},
   "outputs": [],
   "source": [
    "G = nx.powerlaw_cluster_graph(900, 3, 0.2)\n",
    "\n",
    "L = nx.grid_2d_graph(30, 30)\n",
    "mapping = {old: i for i, old in enumerate(L.nodes)}\n",
    "L = nx.relabel_nodes(L, mapping)"
   ]
  },
  {
   "cell_type": "markdown",
   "metadata": {},
   "source": [
    "Run the `SIR_network` simulation on `G` with `beta` 0.5 and `gamma` 0.1, make node 0 the first infected:"
   ]
  },
  {
   "cell_type": "code",
   "execution_count": 467,
   "metadata": {},
   "outputs": [],
   "source": [
    "tG, IG, RG, SG, infected_time = SI_network(G,0.5,0.1,0)"
   ]
  },
  {
   "cell_type": "markdown",
   "metadata": {},
   "source": [
    "Repeat with network `L`, same parameters:"
   ]
  },
  {
   "cell_type": "code",
   "execution_count": 468,
   "metadata": {},
   "outputs": [],
   "source": [
    "tL, IL, RL, SL, infected_timeL = SI_network(L,0.5,0.1,0)"
   ]
  },
  {
   "cell_type": "markdown",
   "metadata": {},
   "source": [
    "Now run the following code to be able to compare the spread of the disease in both networks:"
   ]
  },
  {
   "cell_type": "code",
   "execution_count": 469,
   "metadata": {},
   "outputs": [
    {
     "data": {
      "image/png": "[encoded data removed]",
      "text/plain": [
       "<Figure size 720x1080 with 6 Axes>"
      ]
     },
     "metadata": {
      "needs_background": "light"
     },
     "output_type": "display_data"
    }
   ],
   "source": [
    "plt.rcParams['figure.figsize'] = [10, 15]\n",
    "plt.subplot(3, 2, 1)\n",
    "nx.draw_networkx(G, with_labels=False, node_size = 10)\n",
    "plt.subplot(3, 2, 2)\n",
    "pos = {i: old for old, i in mapping.items()}\n",
    "nx.draw_networkx(L, pos = pos, with_labels=False, node_size = 10)\n",
    "plt.subplot(3, 2, 3)\n",
    "ts = np.arange(tG + 1)\n",
    "plt.plot(ts, IG, label = 'infected')\n",
    "plt.plot(ts, RG, label = 'recovered')\n",
    "plt.plot(ts, SG, label = 'susceptible')\n",
    "plt.legend()\n",
    "plt.xlabel('t')\n",
    "plt.subplot(3, 2, 4)\n",
    "ts = np.arange(tL + 1)\n",
    "plt.plot(ts, IL, label = 'infected')\n",
    "plt.plot(ts, RL, label = 'recovered')\n",
    "plt.plot(ts, SL, label = 'susceptible')\n",
    "plt.legend()\n",
    "plt.xlabel('t')\n",
    "plt.subplot(3, 2, 5)\n",
    "G_degrees =list(dict(G.degree).values())\n",
    "plt.hist(G_degrees)\n",
    "plt.xlim(0, max(G_degrees))\n",
    "plt.xlabel('degree')\n",
    "plt.ylabel('freq')\n",
    "plt.subplot(3, 2, 6)\n",
    "plt.hist(list(dict(L.degree).values()))\n",
    "plt.xlim(0, max(G_degrees))\n",
    "plt.xlabel('degree')\n",
    "plt.show()"
   ]
  },
  {
   "cell_type": "markdown",
   "metadata": {},
   "source": [
    "Explain in your own words:\n",
    "* What is the difference between networks regarding the disease spread patterns?\n",
    "* What might be the implications to the real world?\n",
    "* You are the expert. The small-town social network you're researching is behaving Power-Law. Miss Honey, a local school teacher has just arrived from a vaction abroad and has been infected with a known virus for which a vaccine exists. Who would you recommend to vaccinate first and why?\n",
    "\n",
    "Keep it short :)"
   ]
  },
  {
   "cell_type": "code",
   "execution_count": null,
   "metadata": {},
   "outputs": [],
   "source": [
    "# 1. In network G the disease will spread much faster than in network L. As we can see Network G is much more interconnected than network L,\n",
    "##   which means that in network G, each infected node can infect a lot more nodes compared to network L, where each infected node can only be\n",
    "##   exposed to, at most, 4 other nodes. It is shown also in the infected vs t plot - in network G the number of total infected people\n",
    "##   grows very fast, when in network L, it grows in a much more moderate way.\n",
    " \n",
    "# 2. If we compare these networks to the Coronavirus pandemic, network G is comparable to daily life without a lockdown, where \n",
    "##   each person is exposed to many other people during the day (many 'neigbhors'), so the virus spreads quickly.\n",
    "##   Network L is comparable to the life during a lockdown - each person is only exposed to his close family, so the virus spreads much slower.\n",
    "\n",
    "# 3. I would recommend to vaccinate first the people who are in Miss Honey's close circle and interact with her most often. \n",
    "##   The reason is that if they will vaccinate first, it would cutt of the infection chain: she would not infect them, and they will not infect other people that they will meet. \n",
    "\n"
   ]
  },
  {
   "cell_type": "markdown",
   "metadata": {},
   "source": [
    "### Paper questions\n",
    "\n",
    "##### (10 points)"
   ]
  },
  {
   "cell_type": "markdown",
   "metadata": {},
   "source": [
    "Read Traag et. al. [Leiden](https://arxiv.org/abs/1810.08473) 2020 paper first 5 pages (of course you're invited to read the whole thing!).\n",
    "\n",
    "In your own up to 100 words, what are the two main modifications of the Louvain method implemented in the Leiden method, and how do they improve Louvain's results?"
   ]
  },
  {
   "cell_type": "code",
   "execution_count": null,
   "metadata": {},
   "outputs": [],
   "source": [
    "# The first modification is in the Leiden's method refinement phase, which merges nodes that cause any increase in the quality function,\n",
    "# not necessarilly the BIGGEST increase in the quality function. Because the Leiden method uses random selection, it allows the partition space be explored more broadly. \n",
    "# So partition that can not be explored in Louvain's method can be explored in Leiden's method.\n",
    "\n",
    "\n",
    "## The second modification is the fast local move procedure. In Louvain's algorithm, we go through all the nodes over and over again\n",
    "## until we can not increase the quality function, and the result is that we return to nodes that will not be moved to other communities. In Leiden's algorithm, we only go through nodes whose neighbourhood has\n",
    "## changed, making it more efficient by not going over every single node.\n",
    "\n"
   ]
  },
  {
   "cell_type": "markdown",
   "metadata": {},
   "source": [
    "### Wrap up\n",
    "\n",
    "And that's it, you've done some network modeling, you've seen what it can be used for and made some cool simulations which hopefully have improved your understanding of the spread of certain viruses and the dangerous world we're living in. Good luck with the rest of the course!"
   ]
  }
 ],
 "metadata": {
  "kernelspec": {
   "display_name": "Python 3",
   "language": "python",
   "name": "python3"
  },
  "language_info": {
   "codemirror_mode": {
    "name": "ipython",
    "version": 3
   },
   "file_extension": ".py",
   "mimetype": "text/x-python",
   "name": "python",
   "nbconvert_exporter": "python",
   "pygments_lexer": "ipython3",
   "version": "3.7.6"
  }
 },
 "nbformat": 4,
 "nbformat_minor": 2
}
