{
 "cells": [
  {
   "cell_type": "markdown",
   "metadata": {},
   "source": [
    "<img align=\"right\" src=\"images/DSApps_logo_small.jpg\">\n",
    "\n",
    "# DSApps 2022 @ TAU: Assignment 5\n",
    "\n",
    "### Giora Simchoni\n",
    "\n",
    "### Network Analysis with NetworkX"
   ]
  },
  {
   "cell_type": "markdown",
   "metadata": {},
   "source": [
    "### Welcome\n",
    "\n",
    "Welcome to Assignment 5 in Python!\n",
    "\n",
    "Remember:\n",
    "\n",
    "* You can play with the assignment in Playground mode, but:\n",
    "* Only your private Github repository assigned to you by the course admin will be cloned and graded (Submission mode, see instructions [here](https://github.com/DSApps-2022/Class_Slides/blob/main/Apps_of_DS_HW.pdf))\n",
    "* Like any other University assignment, your work should remain private\n",
    "* You need to `git clone` your private Github repository locally as explained [here](https://github.com/DSApps-2022/Class_Slides/blob/main/Apps_of_DS_HW.pdf)\n",
    "* You need to uncomment the starter code inside the chunk, replace the `### YOUR CODE HERE ###`, run the chunk and see that you're getting the expected result\n",
    "* Pay attention to what you're asked to do and the required output\n",
    "* For example, using a *different* function than the one you were specifically asked to use, will decrease your score (unless you amaze me)\n",
    "* Your notebook should run smoothly from start to end if someone presses in the Jupyter toolbar Kernel --> Restart & Run All\n",
    "* When you're done save the entire notebook into a html file, this is the file that would be graded\n",
    "* You can add other files but do not delete any files\n",
    "* Commit your work and push to your private Github repository as explained [here](https://github.com/DSApps-2022/Class_Slides/blob/main/Apps_of_DS_HW.pdf)\n",
    "\n",
    "This assignemtnt is due: 24/4 23:59\n",
    "\n",
    "### Libraries\n",
    "\n",
    "These are the libraries you will need. If you don't have them, you need to uncomment the `!pip install` line and install them first (you can also just copy this command to a terminal and do it there if you don't want all the output printed in this notebook)."
   ]
  },
  {
   "cell_type": "code",
   "execution_count": 1,
   "metadata": {},
   "outputs": [
    {
     "name": "stdout",
     "output_type": "stream",
     "text": [
      "Collecting matplotlib\n",
      "  Downloading matplotlib-3.5.1-cp38-cp38-macosx_10_9_x86_64.whl (7.3 MB)\n",
      "\u001b[2K     \u001b[90m━━━━━━━━━━━━━━━━━━━━━━━━━━━━━━━━━━━━━━━━\u001b[0m \u001b[32m7.3/7.3 MB\u001b[0m \u001b[31m13.1 MB/s\u001b[0m eta \u001b[36m0:00:00\u001b[0m00:01\u001b[0m00:01\u001b[0m\n",
      "\u001b[?25hCollecting numpy\n",
      "  Downloading numpy-1.22.3-cp38-cp38-macosx_10_14_x86_64.whl (17.6 MB)\n",
      "\u001b[2K     \u001b[90m━━━━━━━━━━━━━━━━━━━━━━━━━━━━━━━━━━━━━━━━\u001b[0m \u001b[32m17.6/17.6 MB\u001b[0m \u001b[31m23.9 MB/s\u001b[0m eta \u001b[36m0:00:00\u001b[0m00:01\u001b[0m00:01\u001b[0m\n",
      "\u001b[?25hCollecting scipy\n",
      "  Downloading scipy-1.8.0-cp38-cp38-macosx_12_0_universal2.macosx_10_9_x86_64.whl (55.3 MB)\n",
      "\u001b[2K     \u001b[90m━━━━━━━━━━━━━━━━━━━━━━━━━━━━━━━━━━━━━━━━\u001b[0m \u001b[32m55.3/55.3 MB\u001b[0m \u001b[31m20.9 MB/s\u001b[0m eta \u001b[36m0:00:00\u001b[0m00:01\u001b[0m00:01\u001b[0m\n",
      "\u001b[?25hCollecting pandas\n",
      "  Downloading pandas-1.4.2-cp38-cp38-macosx_10_9_x86_64.whl (11.0 MB)\n",
      "\u001b[2K     \u001b[90m━━━━━━━━━━━━━━━━━━━━━━━━━━━━━━━━━━━━━━━━\u001b[0m \u001b[32m11.0/11.0 MB\u001b[0m \u001b[31m32.1 MB/s\u001b[0m eta \u001b[36m0:00:00\u001b[0m00:01\u001b[0m0:01\u001b[0m\n",
      "\u001b[?25hCollecting networkx\n",
      "  Downloading networkx-2.8-py3-none-any.whl (2.0 MB)\n",
      "\u001b[2K     \u001b[90m━━━━━━━━━━━━━━━━━━━━━━━━━━━━━━━━━━━━━━━━\u001b[0m \u001b[32m2.0/2.0 MB\u001b[0m \u001b[31m27.1 MB/s\u001b[0m eta \u001b[36m0:00:00\u001b[0m00:01\u001b[0m00:01\u001b[0m\n",
      "\u001b[?25hCollecting python-louvain\n",
      "  Using cached python-louvain-0.16.tar.gz (204 kB)\n",
      "  Preparing metadata (setup.py) ... \u001b[?25ldone\n",
      "\u001b[?25hCollecting cycler>=0.10\n",
      "  Downloading cycler-0.11.0-py3-none-any.whl (6.4 kB)\n",
      "Requirement already satisfied: python-dateutil>=2.7 in /Library/Frameworks/Python.framework/Versions/3.8/lib/python3.8/site-packages (from matplotlib) (2.8.2)\n",
      "Collecting kiwisolver>=1.0.1\n",
      "  Downloading kiwisolver-1.4.2-cp38-cp38-macosx_10_9_x86_64.whl (65 kB)\n",
      "\u001b[2K     \u001b[90m━━━━━━━━━━━━━━━━━━━━━━━━━━━━━━━━━━━━━━━━\u001b[0m \u001b[32m65.3/65.3 KB\u001b[0m \u001b[31m2.2 MB/s\u001b[0m eta \u001b[36m0:00:00\u001b[0m\n",
      "\u001b[?25hCollecting fonttools>=4.22.0\n",
      "  Downloading fonttools-4.32.0-py3-none-any.whl (900 kB)\n",
      "\u001b[2K     \u001b[90m━━━━━━━━━━━━━━━━━━━━━━━━━━━━━━━━━━━━━━\u001b[0m \u001b[32m900.8/900.8 KB\u001b[0m \u001b[31m34.1 MB/s\u001b[0m eta \u001b[36m0:00:00\u001b[0m\n",
      "\u001b[?25hCollecting pillow>=6.2.0\n",
      "  Downloading Pillow-9.1.0-cp38-cp38-macosx_10_9_x86_64.whl (3.1 MB)\n",
      "\u001b[2K     \u001b[90m━━━━━━━━━━━━━━━━━━━━━━━━━━━━━━━━━━━━━━━━\u001b[0m \u001b[32m3.1/3.1 MB\u001b[0m \u001b[31m27.2 MB/s\u001b[0m eta \u001b[36m0:00:00\u001b[0m00:01\u001b[0m00:01\u001b[0m\n",
      "\u001b[?25hRequirement already satisfied: packaging>=20.0 in /Library/Frameworks/Python.framework/Versions/3.8/lib/python3.8/site-packages (from matplotlib) (21.3)\n",
      "Requirement already satisfied: pyparsing>=2.2.1 in /Library/Frameworks/Python.framework/Versions/3.8/lib/python3.8/site-packages (from matplotlib) (3.0.7)\n",
      "Collecting pytz>=2020.1\n",
      "  Downloading pytz-2022.1-py2.py3-none-any.whl (503 kB)\n",
      "\u001b[2K     \u001b[90m━━━━━━━━━━━━━━━━━━━━━━━━━━━━━━━━━━━━━━\u001b[0m \u001b[32m503.5/503.5 KB\u001b[0m \u001b[31m11.9 MB/s\u001b[0m eta \u001b[36m0:00:00\u001b[0m00:01\u001b[0m\n",
      "\u001b[?25hRequirement already satisfied: six>=1.5 in /Library/Frameworks/Python.framework/Versions/3.8/lib/python3.8/site-packages (from python-dateutil>=2.7->matplotlib) (1.16.0)\n",
      "Building wheels for collected packages: python-louvain\n",
      "  Building wheel for python-louvain (setup.py) ... \u001b[?25ldone\n",
      "\u001b[?25h  Created wheel for python-louvain: filename=python_louvain-0.16-py3-none-any.whl size=9395 sha256=021102bd85dcb943343b2de0472634161d94d4dcfcb3b9545d9f8fd6b2ecf580\n",
      "  Stored in directory: /Users/ilanabogopolsky/Library/Caches/pip/wheels/af/40/91/ef3635f7d3ddbd889b5af9f1ac22b8d30c48d6f744cd74a6d1\n",
      "Successfully built python-louvain\n",
      "Installing collected packages: pytz, pillow, numpy, networkx, kiwisolver, fonttools, cycler, scipy, python-louvain, pandas, matplotlib\n",
      "Successfully installed cycler-0.11.0 fonttools-4.32.0 kiwisolver-1.4.2 matplotlib-3.5.1 networkx-2.8 numpy-1.22.3 pandas-1.4.2 pillow-9.1.0 python-louvain-0.16 pytz-2022.1 scipy-1.8.0\n"
     ]
    }
   ],
   "source": [
    "!pip install matplotlib numpy scipy pandas networkx python-louvain"
   ]
  },
  {
   "cell_type": "code",
   "execution_count": 2,
   "metadata": {},
   "outputs": [],
   "source": [
    "import pandas as pd\n",
    "import numpy as np\n",
    "import matplotlib.pyplot as plt\n",
    "import networkx as nx\n",
    "from collections import defaultdict\n",
    "from itertools import combinations # not mandatory"
   ]
  },
  {
   "cell_type": "markdown",
   "metadata": {},
   "source": [
    "### The Films to Actors 2010s Dataset\n",
    "\n"
   ]
  },
  {
   "cell_type": "markdown",
   "metadata": {},
   "source": [
    "For the first part of the assignment we are going to use the 2010 films actors network we scraped from Wikipedia.\n",
    "\n",
    "For details regarding the network, how it was scraped and possible limitations - see [HW4](https://github.com/DSApps-2020/HW4)."
   ]
  },
  {
   "cell_type": "markdown",
   "metadata": {},
   "source": [
    "Read in the data, it is pretty self explanatory:"
   ]
  },
  {
   "cell_type": "code",
   "execution_count": 3,
   "metadata": {},
   "outputs": [],
   "source": [
    "films_actors_edgelist = pd.read_csv('data/films_actors_edgelist_2010s.csv', usecols=['film', 'actor', 'year'])"
   ]
  },
  {
   "cell_type": "markdown",
   "metadata": {},
   "source": [
    "### Creating the Network\n",
    "\n",
    "##### (0 points)"
   ]
  },
  {
   "cell_type": "markdown",
   "metadata": {},
   "source": [
    "Here we are using `method 2` from HW4 to create the network `A`:"
   ]
  },
  {
   "cell_type": "code",
   "execution_count": 4,
   "metadata": {},
   "outputs": [],
   "source": [
    "def print_network_info(G):\n",
    "    print('no. of nodes: %d' % G.number_of_nodes())\n",
    "    print('no. of edges: %d' % G.number_of_edges())\n",
    "    print('no. of James Franco neighbors: %d' % len(list(G.neighbors('James Franco'))))"
   ]
  },
  {
   "cell_type": "code",
   "execution_count": 34,
   "metadata": {},
   "outputs": [
    {
     "name": "stdout",
     "output_type": "stream",
     "text": [
      "no. of nodes: 4743\n",
      "no. of edges: 39319\n",
      "no. of James Franco neighbors: 107\n"
     ]
    }
   ],
   "source": [
    "A_temp = nx.from_pandas_edgelist(films_actors_edgelist, 'film', 'actor', ['year'])\n",
    "films = films_actors_edgelist['film'].unique()\n",
    "actors = films_actors_edgelist['actor'].unique()\n",
    "\n",
    "A = nx.bipartite.projected_graph(A_temp, actors)\n",
    "\n",
    "print_network_info(A)"
   ]
  },
  {
   "cell_type": "markdown",
   "metadata": {},
   "source": [
    "### Models\n",
    "\n",
    "##### (40 points)"
   ]
  },
  {
   "cell_type": "markdown",
   "metadata": {},
   "source": [
    "**ER Model**"
   ]
  },
  {
   "cell_type": "markdown",
   "metadata": {},
   "source": [
    "Estimate $p$, the probability of an actor collaborating with another actor, according to the ER model:"
   ]
  },
  {
   "cell_type": "code",
   "execution_count": 35,
   "metadata": {},
   "outputs": [
    {
     "data": {
      "text/plain": [
       "0.003496373220834753"
      ]
     },
     "execution_count": 35,
     "metadata": {},
     "output_type": "execute_result"
    }
   ],
   "source": [
    "n = A.number_of_nodes()\n",
    "m = A.number_of_edges()\n",
    "p = m / (n * (n - 1) / 2)\n",
    "p"
   ]
  },
  {
   "cell_type": "markdown",
   "metadata": {},
   "source": [
    "What is the esitmated transitivity of our network according to the ER model? What is the actual transitivity?"
   ]
  },
  {
   "cell_type": "code",
   "execution_count": 78,
   "metadata": {},
   "outputs": [
    {
     "name": "stdout",
     "output_type": "stream",
     "text": [
      "The estimated transitivity is: 0.003496373220834753\n",
      "The actual transitivity is: 0.2500021729087091\n"
     ]
    }
   ],
   "source": [
    "print('The estimated transitivity is:', p)\n",
    "print('The actual transitivity is:', (nx.transitivity(A)))\n"
   ]
  },
  {
   "cell_type": "markdown",
   "metadata": {},
   "source": [
    "What is the estimated diameter of our network according to the ER model? What is the actual diameter? (calculate it on the GCC if needed)"
   ]
  },
  {
   "cell_type": "code",
   "execution_count": 28,
   "metadata": {},
   "outputs": [
    {
     "name": "stdout",
     "output_type": "stream",
     "text": [
      "The estimated diameter is: 3\n",
      "The actual diameter is: 10\n"
     ]
    }
   ],
   "source": [
    "c = (n - 1) * p\n",
    "gcc = max(nx.connected_components(A), key=len)\n",
    "A0 = nx.subgraph(A,gcc)\n",
    "print('The estimated diameter is: %d' % (np.log(n)/np.log(c)))\n",
    "print('The actual diameter is: %d' % (nx.diameter(A0)))\n"
   ]
  },
  {
   "cell_type": "markdown",
   "metadata": {},
   "source": [
    "According to the ER model, at what *stage* of connectedness our network is in? Is it in that stage?"
   ]
  },
  {
   "cell_type": "code",
   "execution_count": 91,
   "metadata": {},
   "outputs": [
    {
     "name": "stdout",
     "output_type": "stream",
     "text": [
      "is np.log(n)<c? True\n",
      "c larger than ln(n), so according to ER model the network is connected. But as we saw in the previous part, the network is not fully connected\n"
     ]
    }
   ],
   "source": [
    "print('is np.log(n)<c?',  np.log(n)<c)\n",
    "\n",
    "print('c larger than ln(n), so according to ER model the network is connected. But as we saw in the previous part, the network is not fully connected')"
   ]
  },
  {
   "cell_type": "markdown",
   "metadata": {},
   "source": [
    "**Power Law Model**"
   ]
  },
  {
   "cell_type": "markdown",
   "metadata": {},
   "source": [
    "Estimate $\\alpha$ and $d_{min}$, the Power Law parameters fitting the actors network. Use the `fit_pl()` function from class in spite of its limitations."
   ]
  },
  {
   "cell_type": "code",
   "execution_count": 84,
   "metadata": {},
   "outputs": [
    {
     "name": "stdout",
     "output_type": "stream",
     "text": [
      "Estimated alpha: 1.43\n",
      "Estimated d_min: 1.00\n"
     ]
    }
   ],
   "source": [
    "def fit_pl(G):\n",
    "  degree_seq = np.array(list(dict(G.degree()).values()))\n",
    "  n = G.number_of_nodes()\n",
    "  d_min = np.min(degree_seq)\n",
    "  if d_min == 0:\n",
    "    d_min = 1\n",
    "    degree_seq = degree_seq[degree_seq >= 1]\n",
    "    n = len(degree_seq)\n",
    "  alpha = 1 + n/np.sum(np.log(degree_seq/d_min))\n",
    "  davg = np.mean(degree_seq)\n",
    "  Ed = d_min * (alpha - 1)/(alpha - 2) if alpha > 2 else np.inf\n",
    "  dvar = np.var(degree_seq)\n",
    "  Ed2 = d_min**2 * (alpha - 1)/(alpha - 3) if alpha > 3 else np.inf\n",
    "  Vd = Ed2 - (Ed)**2 if alpha > 3 else np.inf\n",
    "  return d_min, alpha, davg, Ed, dvar, Vd\n",
    "\n",
    "dmin_A, alpha_A = fit_pl(A)[0:2]\n",
    "print('Estimated alpha: %.2f' % alpha_A)\n",
    "print('Estimated d_min: %.2f' % dmin_A)"
   ]
  },
  {
   "cell_type": "markdown",
   "metadata": {},
   "source": [
    "What is the estimated mean and variance degree of our network according to the PL model?"
   ]
  },
  {
   "cell_type": "code",
   "execution_count": 68,
   "metadata": {
    "scrolled": true
   },
   "outputs": [
    {
     "name": "stdout",
     "output_type": "stream",
     "text": [
      "Estimated mean: inf\n",
      "Estimated variance: 372.95332380469364\n"
     ]
    }
   ],
   "source": [
    "print('Estimated mean:', fit_pl(A)[3])\n",
    "print('Estimated variance:', fit_pl(A)[4])\n"
   ]
  },
  {
   "cell_type": "markdown",
   "metadata": {},
   "source": [
    "###### Use the `degree_hist_with_pl_fit()` function from class to plot the fitted PL line on top of the degree histogram of our network (this function can be found at the start of the `u2_d05-models.Rmd` file). Do you \"like\" this fit?"
   ]
  },
  {
   "cell_type": "code",
   "execution_count": 100,
   "metadata": {},
   "outputs": [
    {
     "data": {
      "image/png": "[encoded data removed]",
      "text/plain": [
       "<Figure size 432x288 with 1 Axes>"
      ]
     },
     "metadata": {
      "needs_background": "light"
     },
     "output_type": "display_data"
    }
   ],
   "source": [
    "def degree_hist_with_pl_fit(G, alpha, dmin, xlabel='Degree', ylabel='%Freq or f(d)'):\n",
    "  deg = [deg for node, deg in G.degree()]\n",
    "  N, bins, patches = plt.hist(deg, density=True, bins=range(dmin, min(max(deg), 1000)))\n",
    "  d = bins\n",
    "  f_d = ((alpha-1)/dmin**alpha)*(d/dmin)**(-alpha)\n",
    "  plt.plot(d, f_d, color='red')\n",
    "  res = plt.ylim(0, np.max(N))\n",
    "  plt.xlabel(xlabel, fontsize=16)\n",
    "  plt.ylabel(ylabel, fontsize=16)\n",
    "    \n",
    "    \n",
    "degree_hist_with_pl_fit(A,alpha_A,dmin_A)"
   ]
  },
  {
   "cell_type": "markdown",
   "metadata": {},
   "source": [
    "Use the `degree_hist_with_pl_fit_log_log()` function from class to plot the fitted PL log-log line on top of the log-log degree histogram of our network (this function can be found at the start of the `u2_d05-models.Rmd` file). Do you \"like\" this fit?"
   ]
  },
  {
   "cell_type": "code",
   "execution_count": 101,
   "metadata": {},
   "outputs": [
    {
     "name": "stderr",
     "output_type": "stream",
     "text": [
      "/opt/anaconda3/lib/python3.7/site-packages/ipykernel_launcher.py:7: RuntimeWarning: divide by zero encountered in log\n",
      "  import sys\n"
     ]
    },
    {
     "data": {
      "image/png": "[encoded data removed]",
      "text/plain": [
       "<Figure size 432x288 with 1 Axes>"
      ]
     },
     "metadata": {
      "needs_background": "light"
     },
     "output_type": "display_data"
    }
   ],
   "source": [
    "def degree_hist_with_pl_fit_log_log(G, alpha, dmin, xlabel='log(Degree)', ylabel='log(%Freq) or log(f(d))'):\n",
    "  max_pow = 9\n",
    "  deg = [deg for node, deg in G.degree() if deg > 0]\n",
    "  N, bins = np.histogram(deg, bins = list(np.exp(np.arange(max_pow))))\n",
    "  d = np.exp(np.arange(1, max_pow))\n",
    "  f_d = ((alpha-1)/dmin)*(d/dmin)**(-alpha)\n",
    "  plt.plot(np.arange(1, max_pow), np.log(N/len(deg)), 'bo')\n",
    "  plt.plot(np.arange(1, max_pow), np.log(f_d), color='red')\n",
    "  plt.xlabel(xlabel, fontsize=16)\n",
    "  plt.ylabel(ylabel, fontsize=12)\n",
    "\n",
    "degree_hist_with_pl_fit_log_log(A,alpha_A,dmin_A)"
   ]
  },
  {
   "cell_type": "markdown",
   "metadata": {},
   "source": [
    "### Epidemics Models - the classic approach\n",
    "\n",
    "##### (20 points)"
   ]
  },
  {
   "cell_type": "markdown",
   "metadata": {},
   "source": [
    "* What is the minimum no. of people having a disease to put the entire population at risk?\n",
    "* What is the minimum transfer rate of a disease needed to infect the entire population from a single sick person?\n",
    "* What is the number of people who are expected to die of disease X with transfer rate p?\n",
    "\n",
    "Such questions are the type of questions asked by epidemiologists, but not just. A disease could be a rumor or a piece of Fake News spreading through Whatsapp. A fashion trend on Instagram. Or even a power failure on an electrical grid.\n",
    "\n",
    "In the classic approach to epidemics modeling there is no use of networks at all. In the *fully mixed* model it is assumed that we, the population, are some kind of particles moving in space, equally likely to meet any other person at any given time. This is of course not true in most cases."
   ]
  },
  {
   "cell_type": "markdown",
   "metadata": {},
   "source": [
    "#### The SI Model: S $\\rightarrow$ I"
   ]
  },
  {
   "cell_type": "markdown",
   "metadata": {},
   "source": [
    "In the most basic so-called *compartmental models* of epidemics, the population of $n$ people is divided in two: $S(t)$ which is the number of people *susceptible* to the disease at time $t$ (say day $t$), and $I(t)$ which is the number of people *infected* by the disease at time $t$. So at any given time: $S(t) + I(t) = n$\n",
    "\n",
    "A person has a constant average no. of random contacts at any given time $\\beta$, therefore the transfer rate of the disease is $\\beta I(t)/n$ at time $t$.\n",
    "\n",
    "It is not hard to derive the formula for $I(t)$ at any given time, dependent on $\\beta$ and $I(0)$, which is the number of infected individuals at time $0$. But it does require some calculus out of the scope of this assignment. Let us use the power of Python instead!\n",
    "\n",
    "But before we start: try to anticipate based on your intuition, what would be $I$ after enough $t$ time units have passed?"
   ]
  },
  {
   "cell_type": "markdown",
   "metadata": {},
   "source": [
    "Run the following simulation for a small town of 10,000 people, 10 people are infected on day 0, and let's say the rate of random contacts distributes $Poisson(0.1)$ (on average 0.1 contact per day - very high level of social distancing)."
   ]
  },
  {
   "cell_type": "code",
   "execution_count": 123,
   "metadata": {},
   "outputs": [
    {
     "name": "stdout",
     "output_type": "stream",
     "text": [
      "Day 0: 10 infected, 0.00 transfer rate\n",
      "Day 1: 11 infected, 0.00 transfer rate\n",
      "Day 2: 12 infected, 0.00 transfer rate\n",
      "Day 3: 13 infected, 0.00 transfer rate\n",
      "Day 4: 13 infected, 0.00 transfer rate\n",
      "Day 5: 14 infected, 0.00 transfer rate\n",
      "Day 6: 14 infected, 0.00 transfer rate\n",
      "Day 7: 14 infected, 0.00 transfer rate\n",
      "Day 8: 15 infected, 0.00 transfer rate\n",
      "Day 9: 17 infected, 0.00 transfer rate\n",
      "Day 10: 17 infected, 0.00 transfer rate\n",
      "Day 11: 18 infected, 0.00 transfer rate\n",
      "Day 12: 22 infected, 0.00 transfer rate\n",
      "Day 13: 26 infected, 0.00 transfer rate\n",
      "Day 14: 30 infected, 0.00 transfer rate\n",
      "Day 15: 36 infected, 0.00 transfer rate\n",
      "Day 16: 41 infected, 0.00 transfer rate\n",
      "Day 17: 45 infected, 0.00 transfer rate\n",
      "Day 18: 50 infected, 0.00 transfer rate\n",
      "Day 19: 54 infected, 0.00 transfer rate\n",
      "Day 20: 57 infected, 0.00 transfer rate\n",
      "Day 21: 63 infected, 0.00 transfer rate\n",
      "Day 22: 70 infected, 0.00 transfer rate\n",
      "Day 23: 78 infected, 0.00 transfer rate\n",
      "Day 24: 83 infected, 0.00 transfer rate\n",
      "Day 25: 92 infected, 0.00 transfer rate\n",
      "Day 26: 102 infected, 0.00 transfer rate\n",
      "Day 27: 114 infected, 0.00 transfer rate\n",
      "Day 28: 126 infected, 0.00 transfer rate\n",
      "Day 29: 137 infected, 0.00 transfer rate\n",
      "Day 30: 149 infected, 0.00 transfer rate\n",
      "Day 31: 165 infected, 0.00 transfer rate\n",
      "Day 32: 182 infected, 0.00 transfer rate\n",
      "Day 33: 192 infected, 0.00 transfer rate\n",
      "Day 34: 207 infected, 0.00 transfer rate\n",
      "Day 35: 232 infected, 0.00 transfer rate\n",
      "Day 36: 259 infected, 0.00 transfer rate\n",
      "Day 37: 285 infected, 0.00 transfer rate\n",
      "Day 38: 320 infected, 0.00 transfer rate\n",
      "Day 39: 347 infected, 0.00 transfer rate\n",
      "Day 40: 383 infected, 0.00 transfer rate\n",
      "Day 41: 422 infected, 0.00 transfer rate\n",
      "Day 42: 470 infected, 0.01 transfer rate\n",
      "Day 43: 514 infected, 0.01 transfer rate\n",
      "Day 44: 562 infected, 0.01 transfer rate\n",
      "Day 45: 614 infected, 0.01 transfer rate\n",
      "Day 46: 664 infected, 0.01 transfer rate\n",
      "Day 47: 748 infected, 0.01 transfer rate\n",
      "Day 48: 840 infected, 0.01 transfer rate\n",
      "Day 49: 915 infected, 0.01 transfer rate\n",
      "Day 50: 1004 infected, 0.01 transfer rate\n",
      "Day 51: 1107 infected, 0.01 transfer rate\n",
      "Day 52: 1205 infected, 0.01 transfer rate\n",
      "Day 53: 1327 infected, 0.01 transfer rate\n",
      "Day 54: 1441 infected, 0.02 transfer rate\n",
      "Day 55: 1543 infected, 0.02 transfer rate\n",
      "Day 56: 1678 infected, 0.02 transfer rate\n",
      "Day 57: 1800 infected, 0.02 transfer rate\n",
      "Day 58: 1958 infected, 0.02 transfer rate\n",
      "Day 59: 2119 infected, 0.02 transfer rate\n",
      "Day 60: 2274 infected, 0.02 transfer rate\n",
      "Day 61: 2438 infected, 0.03 transfer rate\n",
      "Day 62: 2602 infected, 0.03 transfer rate\n",
      "Day 63: 2768 infected, 0.03 transfer rate\n",
      "Day 64: 2974 infected, 0.03 transfer rate\n",
      "Day 65: 3178 infected, 0.03 transfer rate\n",
      "Day 66: 3411 infected, 0.04 transfer rate\n",
      "Day 67: 3674 infected, 0.04 transfer rate\n",
      "Day 68: 3903 infected, 0.04 transfer rate\n",
      "Day 69: 4158 infected, 0.04 transfer rate\n",
      "Day 70: 4386 infected, 0.05 transfer rate\n",
      "Day 71: 4636 infected, 0.05 transfer rate\n",
      "Day 72: 4879 infected, 0.05 transfer rate\n",
      "Day 73: 5138 infected, 0.05 transfer rate\n",
      "Day 74: 5384 infected, 0.06 transfer rate\n",
      "Day 75: 5608 infected, 0.06 transfer rate\n",
      "Day 76: 5844 infected, 0.06 transfer rate\n",
      "Day 77: 6085 infected, 0.06 transfer rate\n",
      "Day 78: 6314 infected, 0.07 transfer rate\n",
      "Day 79: 6521 infected, 0.07 transfer rate\n",
      "Day 80: 6739 infected, 0.07 transfer rate\n",
      "Day 81: 6957 infected, 0.07 transfer rate\n",
      "Day 82: 7181 infected, 0.07 transfer rate\n",
      "Day 83: 7355 infected, 0.08 transfer rate\n",
      "Day 84: 7542 infected, 0.08 transfer rate\n",
      "Day 85: 7716 infected, 0.08 transfer rate\n",
      "Day 86: 7889 infected, 0.08 transfer rate\n",
      "Day 87: 8029 infected, 0.08 transfer rate\n",
      "Day 88: 8182 infected, 0.08 transfer rate\n",
      "Day 89: 8336 infected, 0.08 transfer rate\n",
      "Day 90: 8469 infected, 0.09 transfer rate\n",
      "Day 91: 8595 infected, 0.09 transfer rate\n",
      "Day 92: 8727 infected, 0.09 transfer rate\n",
      "Day 93: 8825 infected, 0.09 transfer rate\n",
      "Day 94: 8924 infected, 0.09 transfer rate\n",
      "Day 95: 9015 infected, 0.09 transfer rate\n",
      "Day 96: 9107 infected, 0.09 transfer rate\n",
      "Day 97: 9183 infected, 0.09 transfer rate\n",
      "Day 98: 9254 infected, 0.09 transfer rate\n",
      "Day 99: 9316 infected, 0.09 transfer rate\n",
      "Day 100: 9385 infected, 0.09 transfer rate\n",
      "Day 101: 9432 infected, 0.10 transfer rate\n",
      "Day 102: 9501 infected, 0.10 transfer rate\n",
      "Day 103: 9536 infected, 0.10 transfer rate\n",
      "Day 104: 9576 infected, 0.10 transfer rate\n",
      "Day 105: 9612 infected, 0.10 transfer rate\n",
      "Day 106: 9641 infected, 0.10 transfer rate\n",
      "Day 107: 9679 infected, 0.10 transfer rate\n",
      "Day 108: 9703 infected, 0.10 transfer rate\n",
      "Day 109: 9722 infected, 0.10 transfer rate\n",
      "Day 110: 9744 infected, 0.10 transfer rate\n",
      "Day 111: 9765 infected, 0.10 transfer rate\n",
      "Day 112: 9776 infected, 0.10 transfer rate\n",
      "Day 113: 9800 infected, 0.10 transfer rate\n",
      "Day 114: 9823 infected, 0.10 transfer rate\n",
      "Day 115: 9844 infected, 0.10 transfer rate\n",
      "Day 116: 9863 infected, 0.10 transfer rate\n",
      "Day 117: 9872 infected, 0.10 transfer rate\n",
      "Day 118: 9882 infected, 0.10 transfer rate\n",
      "Day 119: 9895 infected, 0.10 transfer rate\n",
      "Day 120: 9908 infected, 0.10 transfer rate\n",
      "Day 121: 9914 infected, 0.10 transfer rate\n",
      "Day 122: 9925 infected, 0.10 transfer rate\n",
      "Day 123: 9928 infected, 0.10 transfer rate\n",
      "Day 124: 9935 infected, 0.10 transfer rate\n",
      "Day 125: 9941 infected, 0.10 transfer rate\n",
      "Day 126: 9945 infected, 0.10 transfer rate\n",
      "Day 127: 9952 infected, 0.10 transfer rate\n",
      "Day 128: 9956 infected, 0.10 transfer rate\n",
      "Day 129: 9960 infected, 0.10 transfer rate\n",
      "Day 130: 9964 infected, 0.10 transfer rate\n",
      "Day 131: 9967 infected, 0.10 transfer rate\n",
      "Day 132: 9971 infected, 0.10 transfer rate\n",
      "Day 133: 9978 infected, 0.10 transfer rate\n",
      "Day 134: 9980 infected, 0.10 transfer rate\n",
      "Day 135: 9982 infected, 0.10 transfer rate\n",
      "Day 136: 9982 infected, 0.10 transfer rate\n",
      "Day 137: 9984 infected, 0.10 transfer rate\n",
      "Day 138: 9984 infected, 0.10 transfer rate\n",
      "Day 139: 9986 infected, 0.10 transfer rate\n",
      "Day 140: 9986 infected, 0.10 transfer rate\n",
      "Day 141: 9988 infected, 0.10 transfer rate\n",
      "Day 142: 9990 infected, 0.10 transfer rate\n",
      "Day 143: 9991 infected, 0.10 transfer rate\n",
      "Day 144: 9993 infected, 0.10 transfer rate\n",
      "Day 145: 9993 infected, 0.10 transfer rate\n",
      "Day 146: 9993 infected, 0.10 transfer rate\n",
      "Day 147: 9995 infected, 0.10 transfer rate\n",
      "Day 148: 9997 infected, 0.10 transfer rate\n",
      "Day 149: 9997 infected, 0.10 transfer rate\n",
      "Day 150: 9998 infected, 0.10 transfer rate\n",
      "Day 151: 9999 infected, 0.10 transfer rate\n",
      "Day 152: 9999 infected, 0.10 transfer rate\n",
      "Day 153: 9999 infected, 0.10 transfer rate\n",
      "Day 154: 9999 infected, 0.10 transfer rate\n",
      "Day 155: 9999 infected, 0.10 transfer rate\n",
      "Done.\n"
     ]
    }
   ],
   "source": [
    "n = 10000\n",
    "I0 = 10\n",
    "beta = 0.1\n",
    "I = [I0]\n",
    "population = np.zeros(n)\n",
    "population[np.arange(I0)] = 1\n",
    "t = 0\n",
    "phi0 = I0/n\n",
    "phi = [phi0]\n",
    "Idiff = []\n",
    "while True:\n",
    "    for i in range(int(I[t])):\n",
    "        beta_i = np.random.poisson(beta, size=1)[0]\n",
    "        met = np.random.choice(n, size=beta_i, replace=False)\n",
    "        population[met] = 1\n",
    "        if np.sum(population) == n:\n",
    "            break\n",
    "    It = np.sum(population)\n",
    "    I.append(It)\n",
    "    Idiff.append(I[t + 1] - I[t])\n",
    "    print('Day %d: %d infected, %.2f transfer rate' % (t, I[t], beta * It / n))\n",
    "    phi.append(It/n)\n",
    "    t += 1\n",
    "    if np.isclose(It,n):\n",
    "        print('Done.')\n",
    "        break"
   ]
  },
  {
   "cell_type": "markdown",
   "metadata": {},
   "source": [
    "So after..."
   ]
  },
  {
   "cell_type": "code",
   "execution_count": 144,
   "metadata": {},
   "outputs": [
    {
     "data": {
      "text/plain": [
       "14"
      ]
     },
     "execution_count": 144,
     "metadata": {},
     "output_type": "execute_result"
    }
   ],
   "source": [
    "t"
   ]
  },
  {
   "cell_type": "markdown",
   "metadata": {},
   "source": [
    "...days, the entire town is infected (and much less if we look at say 90% of town).\n",
    "\n",
    "Look at the $I(t)$ vs. $t$ graph. We'll also add in the theoretical $I(t)$ exponential growth curve which comes from solving a simple differential equation, out of this assignment scope:"
   ]
  },
  {
   "cell_type": "code",
   "execution_count": 125,
   "metadata": {},
   "outputs": [
    {
     "data": {
      "image/png": "[encoded data removed]",
      "text/plain": [
       "<Figure size 432x288 with 1 Axes>"
      ]
     },
     "metadata": {
      "needs_background": "light"
     },
     "output_type": "display_data"
    }
   ],
   "source": [
    "ts = np.arange(t + 1)\n",
    "I_theoretical = (n * I0 * np.exp(beta * ts)) / (n - I0 + I0 * np.exp(beta * ts))\n",
    "\n",
    "plt.plot(ts, I, label = 'simulation')\n",
    "plt.plot(ts, I_theoretical, color = 'red', label = 'theoretical')\n",
    "plt.legend()\n",
    "plt.show()"
   ]
  },
  {
   "cell_type": "markdown",
   "metadata": {},
   "source": [
    "Question: about 10% of infected individuals need ventilators (say \"forever\") and the local hospital has 10 of these at best. On what day will the local hospital run out of ventilators? [Not a tricky question, do not over analyze it]"
   ]
  },
  {
   "cell_type": "code",
   "execution_count": null,
   "metadata": {},
   "outputs": [],
   "source": [
    "####"
   ]
  },
  {
   "cell_type": "markdown",
   "metadata": {},
   "source": [
    "It's also interesting to see the derivative of this graph, which means the no. of *new* infected individuals each day:"
   ]
  },
  {
   "cell_type": "code",
   "execution_count": 126,
   "metadata": {},
   "outputs": [
    {
     "data": {
      "image/png": "[encoded data removed]",
      "text/plain": [
       "<Figure size 432x288 with 1 Axes>"
      ]
     },
     "metadata": {
      "needs_background": "light"
     },
     "output_type": "display_data"
    }
   ],
   "source": [
    "Idiff_theoretical = beta * np.array(I[:-1]) * (n - np.array(I[:-1]))/n\n",
    "\n",
    "plt.plot(np.arange(t), Idiff, label = 'simulation')\n",
    "plt.plot(np.arange(t), Idiff_theoretical, color='red', label = 'theoretical')\n",
    "plt.legend()\n",
    "plt.show()"
   ]
  },
  {
   "cell_type": "markdown",
   "metadata": {},
   "source": [
    "Question: the local hospital daily intake capacity is 100 new patients at best. On what day will the local hospital maximize its intake capacity? [Not a tricky question, do not over analyze it]"
   ]
  },
  {
   "cell_type": "code",
   "execution_count": 103,
   "metadata": {},
   "outputs": [
    {
     "name": "stdout",
     "output_type": "stream",
     "text": [
      "We can see from the graph that after around day 50, the number of new infected individuals each day is at least 100, so the intake will be maximized\n"
     ]
    }
   ],
   "source": [
    "print('We can see from the graph that after around day 50, the number of new infected individuals each day is at least 100, so the intake will be maximized')    "
   ]
  },
  {
   "cell_type": "markdown",
   "metadata": {},
   "source": [
    "Write a function `SI(n, I0, beta)` which takes:\n",
    "* `n` population size\n",
    "* `I0` number of infected individuals at time `t`\n",
    "* `beta`, the average rate of random contacts\n",
    "\n",
    "and returns:\n",
    "* `t` no. of days until entire town is infected\n",
    "* `I` the list of daily total infected individuals\n",
    "* `Idiff` the list of daily new infected individuals\n",
    "\n",
    "[yes, you basically need to copy paste]"
   ]
  },
  {
   "cell_type": "code",
   "execution_count": 137,
   "metadata": {},
   "outputs": [],
   "source": [
    "def SI(n,I0,beta):\n",
    "    I = [I0]\n",
    "    population = np.zeros(n)\n",
    "    population[np.arange(I0)] = 1\n",
    "    t = 0\n",
    "    phi0 = I0/n\n",
    "    phi = [phi0]\n",
    "    Idiff = []\n",
    "    while True:\n",
    "        for i in range(int(I[t])):\n",
    "            beta_i = np.random.poisson(beta, size=1)[0]\n",
    "            met = np.random.choice(n, size=beta_i, replace=False)\n",
    "            population[met] = 1\n",
    "            if np.sum(population) == n:\n",
    "                break\n",
    "        It = np.sum(population)\n",
    "        I.append(It)\n",
    "        Idiff.append(I[t + 1] - I[t])\n",
    "        phi.append(It/n)\n",
    "        t += 1\n",
    "        if np.isclose(It,n):\n",
    "            break\n",
    "    return (t,I,Idiff)\n",
    "    "
   ]
  },
  {
   "cell_type": "markdown",
   "metadata": {},
   "source": [
    "Run this function for our small town, keep `I0` at 1 infected individual, but change `beta` to be in `[0.1, 1, 2, 10]`.\n",
    "\n",
    "Plot $I(t)$ vs. $t$ for the 4 simulations on the same graph:"
   ]
  },
  {
   "cell_type": "code",
   "execution_count": 143,
   "metadata": {},
   "outputs": [
    {
     "data": {
      "image/png": "[encoded data removed]",
      "text/plain": [
       "<Figure size 432x288 with 1 Axes>"
      ]
     },
     "metadata": {
      "needs_background": "light"
     },
     "output_type": "display_data"
    }
   ],
   "source": [
    "t01, I_01 = SI(10000,10,0.1)[0:2]\n",
    "t1, I_1 = SI(10000,1,1)[0:2]\n",
    "t2, I_2 = SI(10000,1,2)[0:2]\n",
    "t10, I_10 = SI(10000,1,10)[0:2]\n",
    "\n",
    "plt.plot(np.arange(t01 + 1), I_01 ,color=\"pink\", label = 'beta=0.1')\n",
    "plt.plot(np.arange(t1 + 1), I_1, color=\"green\", label = 'beta=1')\n",
    "plt.plot(np.arange(t2 + 1), I_2 ,color='red', label = 'beta=2')\n",
    "plt.plot(np.arange(t10 + 1), I_10 , label = 'beta=10')\n",
    "\n",
    "plt.legend()\n",
    "plt.show()"
   ]
  },
  {
   "cell_type": "markdown",
   "metadata": {},
   "source": [
    "As you might have guessed, in the SI model everyone will be infected eventually **at the same time**. The only question is when, and unless $\\beta$, the no. of random contacts is extremely small (0.1 means meeting one person every 10 days!), this will happen lightning fast."
   ]
  },
  {
   "cell_type": "markdown",
   "metadata": {},
   "source": [
    "#### The SIR Model: S $\\rightarrow$ I $\\rightarrow$ R"
   ]
  },
  {
   "cell_type": "markdown",
   "metadata": {},
   "source": [
    "There are many non-realistic assumptions under the SI model's hood, e.g.:\n",
    "* no differentiation between being exposed, being infected and being ill\n",
    "* same level of susceptibility, same level of infectiveness\n",
    "* no treatment of immunization\n",
    "* no treatment of birth and mortality\n",
    "* assuming only one disease\n",
    "* assuming constant contact rate\n",
    "\n",
    "But perhaps the most striking one is that **there is no chance of recovery**.\n",
    "\n",
    "The SIR model presents another compartment, $R(t)$ which is the number of people *recovered* at time $t$, so: $S(t) + I(t) + R(t)= n$. And note: recovered also means *immuned* (or dead...), these people **cannot** become infected again.\n",
    "\n",
    "Additional recovery rate is needed, and it is $\\gamma$, the average no. of recovered individuals at a time unit (say day), so if it distributes $Poisson(\\gamma)$, then the time until recovery distributes exponentially with $1/\\gamma$ days until recovery on average (again unrealistic)."
   ]
  },
  {
   "cell_type": "markdown",
   "metadata": {},
   "source": [
    "Run the following simulation for our small town of 10,000 people. Now, 1 person is infected on day 0. The rate of random contacts $\\beta$ distributes $Poisson(1)$ (on average 1 contact per day). In addition, let's say the rate of recovery $\\gamma$ distributes $Poisson(0.1)$ (so time until recovery distributes $Exp(0.1)$, and average time until recovery is 10 days)."
   ]
  },
  {
   "cell_type": "code",
   "execution_count": 76,
   "metadata": {},
   "outputs": [
    {
     "name": "stdout",
     "output_type": "stream",
     "text": [
      "Day 0: 1 infected, 0 recovered\n",
      "Day 1: 1 infected, 0 recovered\n",
      "Day 2: 4 infected, 0 recovered\n",
      "Day 3: 8 infected, 0 recovered\n",
      "Day 4: 17 infected, 0 recovered\n",
      "Day 5: 35 infected, 0 recovered\n",
      "Day 6: 55 infected, 6 recovered\n",
      "Day 7: 115 infected, 6 recovered\n",
      "Day 8: 217 infected, 15 recovered\n",
      "Day 9: 421 infected, 33 recovered\n",
      "Day 10: 747 infected, 79 recovered\n",
      "Day 11: 1325 infected, 158 recovered\n",
      "Day 12: 2183 infected, 307 recovered\n",
      "Day 13: 3434 infected, 533 recovered\n",
      "Day 14: 4885 infected, 832 recovered\n",
      "Day 15: 6112 infected, 1264 recovered\n",
      "Day 16: 6790 infected, 1820 recovered\n",
      "Day 17: 6761 infected, 2487 recovered\n",
      "Day 18: 6494 infected, 3114 recovered\n",
      "Day 19: 6061 infected, 3729 recovered\n",
      "Day 20: 5600 infected, 4295 recovered\n",
      "Day 21: 5087 infected, 4848 recovered\n",
      "Day 22: 4615 infected, 5346 recovered\n",
      "Day 23: 4209 infected, 5764 recovered\n",
      "Day 24: 3847 infected, 6136 recovered\n",
      "Day 25: 3431 infected, 6562 recovered\n",
      "Day 26: 3104 infected, 6892 recovered\n",
      "Day 27: 2798 infected, 7198 recovered\n",
      "Day 28: 2529 infected, 7468 recovered\n",
      "Day 29: 2319 infected, 7680 recovered\n",
      "Day 30: 2123 infected, 7876 recovered\n",
      "Day 31: 1906 infected, 8093 recovered\n",
      "Day 32: 1685 infected, 8314 recovered\n",
      "Day 33: 1518 infected, 8481 recovered\n",
      "Day 34: 1385 infected, 8615 recovered\n",
      "Day 35: 1235 infected, 8765 recovered\n",
      "Day 36: 1121 infected, 8879 recovered\n",
      "Day 37: 1028 infected, 8972 recovered\n",
      "Day 38: 932 infected, 9068 recovered\n",
      "Day 39: 859 infected, 9141 recovered\n",
      "Day 40: 781 infected, 9219 recovered\n",
      "Day 41: 683 infected, 9317 recovered\n",
      "Day 42: 627 infected, 9373 recovered\n",
      "Day 43: 564 infected, 9436 recovered\n",
      "Day 44: 512 infected, 9488 recovered\n",
      "Day 45: 450 infected, 9550 recovered\n",
      "Day 46: 405 infected, 9595 recovered\n",
      "Day 47: 371 infected, 9629 recovered\n",
      "Day 48: 332 infected, 9668 recovered\n",
      "Day 49: 295 infected, 9705 recovered\n",
      "Day 50: 273 infected, 9727 recovered\n",
      "Day 51: 239 infected, 9761 recovered\n",
      "Day 52: 218 infected, 9782 recovered\n",
      "Day 53: 201 infected, 9799 recovered\n",
      "Day 54: 182 infected, 9818 recovered\n",
      "Day 55: 162 infected, 9838 recovered\n",
      "Day 56: 149 infected, 9851 recovered\n",
      "Day 57: 132 infected, 9868 recovered\n",
      "Day 58: 119 infected, 9881 recovered\n",
      "Day 59: 111 infected, 9889 recovered\n",
      "Day 60: 94 infected, 9906 recovered\n",
      "Day 61: 87 infected, 9913 recovered\n",
      "Day 62: 84 infected, 9916 recovered\n",
      "Day 63: 72 infected, 9928 recovered\n",
      "Day 64: 62 infected, 9938 recovered\n",
      "Day 65: 55 infected, 9945 recovered\n",
      "Day 66: 43 infected, 9957 recovered\n",
      "Day 67: 36 infected, 9964 recovered\n",
      "Day 68: 35 infected, 9965 recovered\n",
      "Day 69: 31 infected, 9969 recovered\n",
      "Day 70: 29 infected, 9971 recovered\n",
      "Day 71: 27 infected, 9973 recovered\n",
      "Day 72: 22 infected, 9978 recovered\n",
      "Day 73: 21 infected, 9979 recovered\n",
      "Day 74: 21 infected, 9979 recovered\n",
      "Day 75: 19 infected, 9981 recovered\n",
      "Day 76: 19 infected, 9981 recovered\n",
      "Day 77: 18 infected, 9982 recovered\n",
      "Day 78: 17 infected, 9983 recovered\n",
      "Day 79: 17 infected, 9983 recovered\n",
      "Day 80: 15 infected, 9985 recovered\n",
      "Day 81: 14 infected, 9986 recovered\n",
      "Day 82: 14 infected, 9986 recovered\n",
      "Day 83: 10 infected, 9990 recovered\n",
      "Day 84: 7 infected, 9993 recovered\n",
      "Day 85: 6 infected, 9994 recovered\n",
      "Day 86: 6 infected, 9994 recovered\n",
      "Day 87: 5 infected, 9995 recovered\n",
      "Done.\n"
     ]
    }
   ],
   "source": [
    "n = 10000\n",
    "I0 = 1\n",
    "beta = 1\n",
    "gamma = 0.1\n",
    "infected_times = np.repeat(None, n)\n",
    "times_to_recovery = np.repeat(None, n)\n",
    "infected_times[np.arange(I0)] = -1\n",
    "times_to_recovery[np.arange(I0)] = 1/gamma\n",
    "infected = np.arange(I0)\n",
    "recovered = np.array([])\n",
    "t = 0\n",
    "I = [I0]\n",
    "Idiff = []\n",
    "R = [0]\n",
    "S = [n - len(infected)]\n",
    "while len(infected) > 0:\n",
    "    for i in infected:\n",
    "        beta_i = np.random.poisson(beta, size=1)[0]\n",
    "        met = np.random.choice(n, size=beta_i, replace=False)\n",
    "        met = met[(~np.isin(met, infected)) & (~np.isin(met, recovered))]\n",
    "        if len(met) > 0:\n",
    "            infected = np.append(infected, met)\n",
    "            infected_times[met] = t\n",
    "            times_to_recovery[met] = np.random.exponential(1/gamma, size=len(met))[0]\n",
    "        if t - infected_times[i] > times_to_recovery[i]:\n",
    "            infected = infected[infected != i]\n",
    "            recovered = np.append(recovered, i)\n",
    "        if len(recovered) == n:\n",
    "            break\n",
    "    I.append(len(infected))\n",
    "    Idiff.append(I[t + 1] - I[t])\n",
    "    R.append(len(recovered))\n",
    "    S.append(n - (I[t] + R[t]))\n",
    "    print('Day %d: %d infected, %d recovered' % (t, I[t], R[t]))\n",
    "    t += 1\n",
    "    if np.isclose(len(recovered), n, atol=3):\n",
    "        break\n",
    "print('Done.')\n",
    "        \n",
    "    "
   ]
  },
  {
   "cell_type": "markdown",
   "metadata": {},
   "source": [
    "So after..."
   ]
  },
  {
   "cell_type": "code",
   "execution_count": 110,
   "metadata": {},
   "outputs": [
    {
     "data": {
      "text/plain": [
       "88"
      ]
     },
     "execution_count": 110,
     "metadata": {},
     "output_type": "execute_result"
    }
   ],
   "source": [
    "t"
   ]
  },
  {
   "cell_type": "markdown",
   "metadata": {},
   "source": [
    "...days, the entire town is recovered after it had been infected (and much less if we look at say 90% of town).\n",
    "\n",
    "Look at the $S(I),I(t),R(I)$ vs. $t$ graph."
   ]
  },
  {
   "cell_type": "code",
   "execution_count": 111,
   "metadata": {},
   "outputs": [
    {
     "data": {
      "image/png": "[encoded data removed]",
      "text/plain": [
       "<Figure size 432x288 with 1 Axes>"
      ]
     },
     "metadata": {
      "needs_background": "light"
     },
     "output_type": "display_data"
    }
   ],
   "source": [
    "ts = np.arange(t + 1)\n",
    "\n",
    "plt.plot(ts, I, label = 'infected')\n",
    "plt.plot(ts, R, label = 'recovered')\n",
    "plt.plot(ts, S, label = 'susceptible')\n",
    "plt.legend()\n",
    "plt.show()"
   ]
  },
  {
   "cell_type": "markdown",
   "metadata": {},
   "source": [
    "It's also interesting to see the derivative of the $I(t)$ graph, which means the difference in infected individuals each day:"
   ]
  },
  {
   "cell_type": "code",
   "execution_count": 112,
   "metadata": {},
   "outputs": [
    {
     "data": {
      "image/png": "[encoded data removed]",
      "text/plain": [
       "<Figure size 432x288 with 1 Axes>"
      ]
     },
     "metadata": {
      "needs_background": "light"
     },
     "output_type": "display_data"
    }
   ],
   "source": [
    "Idiff_theoretical = beta * np.array(I[:-1]) * (n - np.array(I[:-1]) - np.array(R[:-1]))/n - gamma * np.array(I[:-1])\n",
    "\n",
    "plt.plot(np.arange(t), Idiff, label = 'simulation')\n",
    "plt.plot(np.arange(t), Idiff_theoretical, color='red', label = 'theoretical')\n",
    "plt.legend()\n",
    "plt.show()"
   ]
  },
  {
   "cell_type": "markdown",
   "metadata": {},
   "source": [
    "Notice that in the SIR model, **using these parameters**, the entire town population got infected as well.\n",
    "\n",
    "But the SIR model gives some hope in containing the disease if it breaks, a.k.a \"Flattening the Curve\", which is achieved by lowering $\\beta$, the average rate of random contacts."
   ]
  },
  {
   "cell_type": "markdown",
   "metadata": {},
   "source": [
    "Write a function `SIR(n, I0, beta, gamma)` which takes:\n",
    "* `n` population size\n",
    "* `I0` number of infected individuals at time `t`\n",
    "* `beta`, the average rate of random contacts\n",
    "* `gamma`, the average rate of recovered people\n",
    "\n",
    "and returns:\n",
    "* `t` no. of days until entire town is infected\n",
    "* `I` the list of daily total infected individuals\n",
    "* `Idiff` the list of daily difference in infected individuals\n",
    "* `S` the list of daily total susceptible individuals\n",
    "* `R` the list of daily total recovered individuals\n",
    "\n",
    "[yes, you basically need to copy paste]"
   ]
  },
  {
   "cell_type": "code",
   "execution_count": 148,
   "metadata": {},
   "outputs": [],
   "source": [
    "def SIR(n, I0, beta, gamma):\n",
    "    infected_times = np.repeat(None, n)\n",
    "    times_to_recovery = np.repeat(None, n)\n",
    "    infected_times[np.arange(I0)] = -1\n",
    "    times_to_recovery[np.arange(I0)] = 1/gamma\n",
    "    infected = np.arange(I0)\n",
    "    recovered = np.array([])\n",
    "    t = 0\n",
    "    I = [I0]\n",
    "    Idiff = []\n",
    "    R = [0]\n",
    "    S = [n - len(infected)]\n",
    "    while len(infected) > 0:\n",
    "        for i in infected:\n",
    "            beta_i = np.random.poisson(beta, size=1)[0]\n",
    "            met = np.random.choice(n, size=beta_i, replace=False)\n",
    "            met = met[(~np.isin(met, infected)) & (~np.isin(met, recovered))]\n",
    "            if len(met) > 0:\n",
    "                infected = np.append(infected, met)\n",
    "                infected_times[met] = t\n",
    "                times_to_recovery[met] = np.random.exponential(1/gamma, size=len(met))[0]\n",
    "            if t - infected_times[i] > times_to_recovery[i]:\n",
    "                infected = infected[infected != i]\n",
    "                recovered = np.append(recovered, i)\n",
    "            if len(recovered) == n:\n",
    "                break\n",
    "        I.append(len(infected))\n",
    "        Idiff.append(I[t + 1] - I[t])\n",
    "        R.append(len(recovered))\n",
    "        S.append(n - (I[t] + R[t]))\n",
    "        t += 1\n",
    "        if np.isclose(len(recovered), n, atol=3):\n",
    "            break\n",
    "    return (t, I , S, R, Idiff)"
   ]
  },
  {
   "cell_type": "markdown",
   "metadata": {},
   "source": [
    "Now run the simulation a few times with the same parameters, except $\\beta$ is lowered to 0.5 (one contact every two days). Then plot the SIR curves as we did."
   ]
  },
  {
   "cell_type": "code",
   "execution_count": 149,
   "metadata": {},
   "outputs": [
    {
     "data": {
      "image/png": "[encoded data removed]",
      "text/plain": [
       "<Figure size 432x288 with 1 Axes>"
      ]
     },
     "metadata": {
      "needs_background": "light"
     },
     "output_type": "display_data"
    }
   ],
   "source": [
    "t,I,S,R = SIR(10000,1,0.5,0.1)[0:4]\n",
    "ts = np.arange(t + 1)\n",
    "\n",
    "plt.plot(ts, I, label = 'infected')\n",
    "plt.plot(ts, R, label = 'recovered')\n",
    "plt.plot(ts, S, label = 'susceptible')\n",
    "plt.legend()\n",
    "plt.show()"
   ]
  },
  {
   "cell_type": "markdown",
   "metadata": {},
   "source": [
    "As you can see the $I(t)$ curve is indeed \"flattened\", though the entire town caught the disease eventually."
   ]
  },
  {
   "cell_type": "markdown",
   "metadata": {},
   "source": [
    "Must the disease outbreak? Must the entire population get infected?\n",
    "\n",
    "Run the simulation with $\\beta$ lowered to 0.1, and plot the SIR curves. Run it a few times to see how the outcome varies and consider not drawing the $S(I)$ curve to see the effect."
   ]
  },
  {
   "cell_type": "code",
   "execution_count": 152,
   "metadata": {},
   "outputs": [
    {
     "data": {
      "image/png": "[encoded data removed]",
      "text/plain": [
       "<Figure size 432x288 with 1 Axes>"
      ]
     },
     "metadata": {
      "needs_background": "light"
     },
     "output_type": "display_data"
    }
   ],
   "source": [
    "t,I,S,R = SIR(10000,1,0.1,0.1)[0:4]\n",
    "ts = np.arange(t + 1)\n",
    "\n",
    "plt.plot(ts, I, label = 'infected')\n",
    "plt.plot(ts, R, label = 'recovered')\n",
    "plt.plot(ts, S, label = 'susceptible')\n",
    "plt.legend()\n",
    "plt.show()"
   ]
  },
  {
   "cell_type": "markdown",
   "metadata": {},
   "source": [
    "As you can see by the SIR model, the epidemic might not outbreak at all if the rate of contacts is low enough and the rate of recovery is high enough. And if you play with the parameters you would see that even when the disease *does* take off, not all people in town might get it.\n",
    "\n",
    "The $\\beta/\\gamma$ ratio is the critical point, irrelative of population size, and is sometimes called the Basic Reproduction Number. It can be seen as the number of people an infected person will infect until she recovers. If it is over 1 the epidemic will outbreak, and if it is less than 1 it should not. Read about it [here](https://en.wikipedia.org/wiki/Compartmental_models_in_epidemiology#The_SIR_model_without_vital_dynamics) (short) or [here](https://web.stanford.edu/~jhj1/teachingdocs/Jones-on-R0.pdf) (long).\n",
    "\n",
    "Lastly note that this is just the beginning. There are various other epidemics models (SIS, SEIR, SEIS, to drop-name a few). Read all about it."
   ]
  },
  {
   "cell_type": "markdown",
   "metadata": {},
   "source": [
    "### Epidemics Models - on Networks\n",
    "\n",
    "##### (30 points)"
   ]
  },
  {
   "cell_type": "markdown",
   "metadata": {},
   "source": [
    "Think about why an epidemic outbreak might be different when we consider the population has a network structure (as opposed to the fully mixed model above).\n",
    "\n",
    "* A network might not be fully connected. So even in the pessimistic SI model an epidemic might not occur, depending on how well connected are the initial infected individuals.\n",
    "* In general there would be variation in the level of spreading the disease. We expect the more connected a person is, the higher her rate of spreading the disease.\n",
    "* If a network isn't dynamic, and each person stays connected to the same neighorhood - if that person is infected she will have depleted her potential of infecting other people on her neighborhood. She won't go on infecting forever.\n",
    "* Finally even within networks we've seen different models for different structures. A network's structure could serve to impact the rate of infection, not just the nature of disease. How will an epidemic outbreak look like for a ER model network? How will it look like for a Power Law model network? What is the best network structure to slow down a disease?"
   ]
  },
  {
   "cell_type": "markdown",
   "metadata": {},
   "source": [
    "#### SI Model on the Films Actors Network"
   ]
  },
  {
   "cell_type": "markdown",
   "metadata": {},
   "source": [
    "First, when we speak of epidemic models on networks, many conventions remain the same, one main convention changes: the $\\beta$ parameter. Here, the $\\beta$ parameter will be the infection *probability* between an infected and a susceptible neighbors (as opposed to the general infection *rate* previously). Let's also assume it is a fixed probability, i.e. not a random variable as before.\n",
    "\n",
    "And now I want you to start a SI epidemic on our films actors :) Kidding aside I want you to see the effect of degree a node has on the rate it will catch a disease."
   ]
  },
  {
   "cell_type": "markdown",
   "metadata": {},
   "source": [
    "Write a function `SI_network(G, beta, node_zero)` which will receive 3 parameters:\n",
    "* `G` a NetworkX Graph()\n",
    "* `beta` infection probability\n",
    "* `node_zero` name of node (actor or actress) zero, who initially got infected\n",
    "\n",
    "and return:\n",
    "* `t` no. of days until the epidemic saturated, i.e. there was no change in no. of infected for 5 consecutive days (and you may assume `max(t) = 1000`\n",
    "* `I` the list of daily total infected nodes (actors)\n",
    "* `infected_time`: a <string: int> dictionary mapping a node (actor) to time `t` in which it got infected (if a node was not infected put `None`)"
   ]
  },
  {
   "cell_type": "code",
   "execution_count": null,
   "metadata": {},
   "outputs": [],
   "source": [
    "### YOUR CODE HERE ###"
   ]
  },
  {
   "cell_type": "markdown",
   "metadata": {},
   "source": [
    "Run a SI simulation on the films actors network, with infection probability 0.1 and James Franco got infected."
   ]
  },
  {
   "cell_type": "code",
   "execution_count": null,
   "metadata": {},
   "outputs": [],
   "source": [
    "### YOUR CODE HERE ###"
   ]
  },
  {
   "cell_type": "markdown",
   "metadata": {},
   "source": [
    "Plot the number of $I(t)$ vs $t$. Also include a horizontal line at $n$, number of actors."
   ]
  },
  {
   "cell_type": "code",
   "execution_count": null,
   "metadata": {},
   "outputs": [],
   "source": [
    "### YOUR CODE HERE ###"
   ]
  },
  {
   "cell_type": "markdown",
   "metadata": {},
   "source": [
    "As can be seen not all actors got infected. Show in code you understand why this is guaranteed for this simulation in this network:"
   ]
  },
  {
   "cell_type": "code",
   "execution_count": null,
   "metadata": {},
   "outputs": [],
   "source": [
    "### YOUR CODE HERE ###"
   ]
  },
  {
   "cell_type": "markdown",
   "metadata": {},
   "source": [
    "Now use `infected_time` you got and plot the same graph of $I(t)$ vs. $t$ for nodes *with different degrees*, where $I(t, d)$ is normalized for all nodes with degree $d$.\n",
    "\n",
    "* Ignore nodes with degree 0\n",
    "* Nodes with degree 2^0 on a separate line\n",
    "* Nodes with degree 2^0 < d <= 2^1 on a separate line\n",
    "* Nodes with degree 2^1 < d <= 2^2 on a separate line\n",
    "* Nodes with degree 2^2 < d <= 2^3 on a separate line\n",
    "* ...\n",
    "* Nodes with degree 2^5 < d on a separate line\n",
    "\n",
    "To help you it should look something like this (notice the y axis, and correction: your plot should have 7 lines of course by the above requirement, not 6 as here):\n",
    "\n",
    "![](images/SI_actors_by_degree.png)"
   ]
  },
  {
   "cell_type": "markdown",
   "metadata": {},
   "source": [
    "Also to help you (only if you need it, you don't have to use it), here's some starter code:"
   ]
  },
  {
   "cell_type": "code",
   "execution_count": null,
   "metadata": {},
   "outputs": [],
   "source": [
    "actors_degrees = dict(A.degree)\n",
    "degree_counter = {0: np.zeros(t + 1), 1: np.zeros(t + 1), 2: np.zeros(t + 1),\n",
    "                  3: np.zeros(t + 1), 4: np.zeros(t + 1), 5: np.zeros(t + 1)}\n",
    "actors_dict = {actor: {'t': infected_time[actor], 'd': actors_degrees[actor]} for actor in A.nodes}\n",
    "### YOUR CODE HERE ###"
   ]
  },
  {
   "cell_type": "markdown",
   "metadata": {},
   "source": [
    "Isn't that beautiful? Yes we're in the SI model. And yes the probability of infection $\\beta$ is constant. But considering this is a network, the rate of infection depends on the node's degree or centrality. This can also be shown in the SIR model.\n",
    "\n",
    "It can also be shown how $I(t)$ relates to the eigen centrality of the actors. It would be simpler to use `infected_time` and show a scatterplot of the average infected time for different levels of eigen centrality, say for centrality [0.0-0.01], [0.01-0.02], etc."
   ]
  },
  {
   "cell_type": "code",
   "execution_count": null,
   "metadata": {},
   "outputs": [],
   "source": [
    "### YOUR CODE HERE ###"
   ]
  },
  {
   "cell_type": "markdown",
   "metadata": {},
   "source": [
    "#### SIR Model on Power Law and Lattice networks"
   ]
  },
  {
   "cell_type": "markdown",
   "metadata": {},
   "source": [
    "As mentioned in the beginning of this section, the structure of the network also dictates how the disease spreads. In the final part of the assignment we will show the difference of spreading a disease in a social-network-style Power Law network, vs. spreading it in a Lattice network.\n",
    "\n",
    "For the SIR model, we also change the meaning of $\\gamma$ and it is now the recovery *probability*, not rate, for a single infected node. So at each time unit, a node has a fixed probabilty of recovering (or dying...) from the disease, never to be infected again."
   ]
  },
  {
   "cell_type": "markdown",
   "metadata": {},
   "source": [
    "Write a function `SIR_network(G, beta, gamma, node_zero)` which will receive 4 parameters:\n",
    "* `G` a NetworkX Graph()\n",
    "* `beta` infection probability\n",
    "* `gamma` recovery probability\n",
    "* `node_zero` name of node zero, who initially got infected\n",
    "\n",
    "and return:\n",
    "* `t` no. of days until the epidemic saturated, i.e. there was no change in no. of recovered for 5 consecutive days (and you may assume `max(t) = 1000`\n",
    "* `I` the list of daily total infected nodes\n",
    "* `R` the list of daily total recovered nodes\n",
    "* `S` the list of daily total susceptible nodes\n",
    "* `infected_time`: a dictionary mapping an node to time `t` in which it got infected (if an node was not infected put `None`)\n",
    "\n",
    "You may check that your function is working on the films actors network with James Franco as the infected actor, not required."
   ]
  },
  {
   "cell_type": "code",
   "execution_count": null,
   "metadata": {},
   "outputs": [],
   "source": [
    "### YOUR CODE HERE ###"
   ]
  },
  {
   "cell_type": "markdown",
   "metadata": {},
   "source": [
    "Now create two networks:\n",
    "\n",
    "* `G`: a Power-Law network with 900 nodes\n",
    "* `L`: a Lattice (grid) network with 30x30 = 900 nodes (you'll get it when you see it...)\n",
    "\n",
    "Run this code:"
   ]
  },
  {
   "cell_type": "code",
   "execution_count": null,
   "metadata": {},
   "outputs": [],
   "source": [
    "G = nx.powerlaw_cluster_graph(900, 3, 0.2)\n",
    "\n",
    "L = nx.grid_2d_graph(30, 30)\n",
    "mapping = {old: i for i, old in enumerate(L.nodes)}\n",
    "L = nx.relabel_nodes(L, mapping)"
   ]
  },
  {
   "cell_type": "markdown",
   "metadata": {},
   "source": [
    "Run the `SIR_network` simulation on `G` with `beta` 0.5 and `gamma` 0.1, make node 0 the first infected:"
   ]
  },
  {
   "cell_type": "code",
   "execution_count": null,
   "metadata": {},
   "outputs": [],
   "source": [
    "# tG, IG, RG, SG, infected_time = ### YOUR CODE HERE ###"
   ]
  },
  {
   "cell_type": "markdown",
   "metadata": {},
   "source": [
    "Repeat with network `L`, same parameters:"
   ]
  },
  {
   "cell_type": "code",
   "execution_count": null,
   "metadata": {},
   "outputs": [],
   "source": [
    "# tL, IL, RL, SL, infected_timeL = ### YOUR CODE HERE ###"
   ]
  },
  {
   "cell_type": "markdown",
   "metadata": {},
   "source": [
    "Now run the following code to be able to compare the spread of the disease in both networks:"
   ]
  },
  {
   "cell_type": "code",
   "execution_count": null,
   "metadata": {},
   "outputs": [],
   "source": [
    "plt.rcParams['figure.figsize'] = [10, 15]\n",
    "plt.subplot(3, 2, 1)\n",
    "nx.draw_networkx(G, with_labels=False, node_size = 10)\n",
    "plt.subplot(3, 2, 2)\n",
    "pos = {i: old for old, i in mapping.items()}\n",
    "nx.draw_networkx(L, pos = pos, with_labels=False, node_size = 10)\n",
    "plt.subplot(3, 2, 3)\n",
    "ts = np.arange(tG + 1)\n",
    "plt.plot(ts, IG, label = 'infected')\n",
    "plt.plot(ts, RG, label = 'recovered')\n",
    "plt.plot(ts, SG, label = 'susceptible')\n",
    "plt.legend()\n",
    "plt.xlabel('t')\n",
    "plt.subplot(3, 2, 4)\n",
    "ts = np.arange(tL + 1)\n",
    "plt.plot(ts, IL, label = 'infected')\n",
    "plt.plot(ts, RL, label = 'recovered')\n",
    "plt.plot(ts, SL, label = 'susceptible')\n",
    "plt.legend()\n",
    "plt.xlabel('t')\n",
    "plt.subplot(3, 2, 5)\n",
    "G_degrees =list(dict(G.degree).values())\n",
    "plt.hist(G_degrees)\n",
    "plt.xlim(0, max(G_degrees))\n",
    "plt.xlabel('degree')\n",
    "plt.ylabel('freq')\n",
    "plt.subplot(3, 2, 6)\n",
    "plt.hist(list(dict(L.degree).values()))\n",
    "plt.xlim(0, max(G_degrees))\n",
    "plt.xlabel('degree')\n",
    "plt.show()"
   ]
  },
  {
   "cell_type": "markdown",
   "metadata": {},
   "source": [
    "Explain in your own words:\n",
    "* What is the difference between networks regarding the disease spread patterns?\n",
    "* What might be the implications to the real world?\n",
    "* You are the expert. The small-town social network you're researching is behaving Power-Law. Miss Honey, a local school teacher has just arrived from a vaction abroad and has been infected with a known virus for which a vaccine exists. Who would you recommend to vaccinate first and why?\n",
    "\n",
    "Keep it short :)"
   ]
  },
  {
   "cell_type": "code",
   "execution_count": null,
   "metadata": {},
   "outputs": [],
   "source": [
    "### YOUR WORDS HERE ###"
   ]
  },
  {
   "cell_type": "markdown",
   "metadata": {},
   "source": [
    "### Paper questions\n",
    "\n",
    "##### (10 points)"
   ]
  },
  {
   "cell_type": "markdown",
   "metadata": {},
   "source": [
    "Read Traag et. al. [Leiden](https://arxiv.org/abs/1810.08473) 2020 paper first 5 pages (of course you're invited to read the whole thing!).\n",
    "\n",
    "In your own up to 100 words, what are the two main modifications of the Louvain method implemented in the Leiden method, and how do they improve Louvain's results?"
   ]
  },
  {
   "cell_type": "code",
   "execution_count": null,
   "metadata": {},
   "outputs": [],
   "source": []
  },
  {
   "cell_type": "markdown",
   "metadata": {},
   "source": [
    "### Wrap up\n",
    "\n",
    "And that's it, you've done some network modeling, you've seen what it can be used for and made some cool simulations which hopefully have improved your understanding of the spread of certain viruses and the dangerous world we're living in. Good luck with the rest of the course!"
   ]
  }
 ],
 "metadata": {
  "kernelspec": {
   "display_name": "Python 3",
   "language": "python",
   "name": "python3"
  },
  "language_info": {
   "codemirror_mode": {
    "name": "ipython",
    "version": 3
   },
   "file_extension": ".py",
   "mimetype": "text/x-python",
   "name": "python",
   "nbconvert_exporter": "python",
   "pygments_lexer": "ipython3",
   "version": "3.7.6"
  }
 },
 "nbformat": 4,
 "nbformat_minor": 2
}
